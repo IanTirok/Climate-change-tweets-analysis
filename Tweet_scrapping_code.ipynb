{
  "nbformat": 4,
  "nbformat_minor": 0,
  "metadata": {
    "colab": {
      "name": "Tweet_scrapping_code.ipynb",
      "provenance": [],
      "collapsed_sections": []
    },
    "kernelspec": {
      "name": "python3",
      "display_name": "Python 3"
    },
    "language_info": {
      "name": "python"
    }
  },
  "cells": [
    {
      "cell_type": "code",
      "metadata": {
        "id": "w2gPriq-vSQg"
      },
      "source": [
        ""
      ],
      "execution_count": 13,
      "outputs": []
    },
    {
      "cell_type": "markdown",
      "metadata": {
        "id": "tUs7G4LOv-N9"
      },
      "source": [
        "##Scrapping"
      ]
    },
    {
      "cell_type": "code",
      "metadata": {
        "colab": {
          "base_uri": "https://localhost:8080/"
        },
        "id": "yLJ195sQOjZA",
        "outputId": "0115a7b2-d310-43fa-b995-0c819b4c4a1a"
      },
      "source": [
        "!pip install tweepy"
      ],
      "execution_count": 14,
      "outputs": [
        {
          "output_type": "stream",
          "text": [
            "Requirement already satisfied: tweepy in /usr/local/lib/python3.7/dist-packages (3.10.0)\n",
            "Requirement already satisfied: requests[socks]>=2.11.1 in /usr/local/lib/python3.7/dist-packages (from tweepy) (2.23.0)\n",
            "Requirement already satisfied: six>=1.10.0 in /usr/local/lib/python3.7/dist-packages (from tweepy) (1.15.0)\n",
            "Requirement already satisfied: requests-oauthlib>=0.7.0 in /usr/local/lib/python3.7/dist-packages (from tweepy) (1.3.0)\n",
            "Requirement already satisfied: oauthlib>=3.0.0 in /usr/local/lib/python3.7/dist-packages (from requests-oauthlib>=0.7.0->tweepy) (3.1.1)\n",
            "Requirement already satisfied: certifi>=2017.4.17 in /usr/local/lib/python3.7/dist-packages (from requests[socks]>=2.11.1->tweepy) (2021.5.30)\n",
            "Requirement already satisfied: urllib3!=1.25.0,!=1.25.1,<1.26,>=1.21.1 in /usr/local/lib/python3.7/dist-packages (from requests[socks]>=2.11.1->tweepy) (1.24.3)\n",
            "Requirement already satisfied: chardet<4,>=3.0.2 in /usr/local/lib/python3.7/dist-packages (from requests[socks]>=2.11.1->tweepy) (3.0.4)\n",
            "Requirement already satisfied: idna<3,>=2.5 in /usr/local/lib/python3.7/dist-packages (from requests[socks]>=2.11.1->tweepy) (2.10)\n",
            "Requirement already satisfied: PySocks!=1.5.7,>=1.5.6 in /usr/local/lib/python3.7/dist-packages (from requests[socks]>=2.11.1->tweepy) (1.7.1)\n"
          ],
          "name": "stdout"
        }
      ]
    },
    {
      "cell_type": "code",
      "metadata": {
        "id": "JJGCWcF5OtCf"
      },
      "source": [
        "import os\n",
        "import tweepy as tw\n",
        "import tweepy\n"
      ],
      "execution_count": 15,
      "outputs": []
    },
    {
      "cell_type": "code",
      "metadata": {
        "id": "FLKit-edPfhr"
      },
      "source": [
        "consumer_key = '91LtHt5fNCABkeWzDDqQZG7eN'\n",
        "consumer_secret = 'g1GTpyuGwxWL88LcYf0smr5BQCkVbdxHAu5wCICOT7hY7Ij2b3'\n",
        "access_token = '771329002460082177-WsdjXnzEuexqRWLBXia9PPBpLmcUMN9'\n",
        "access_token_secret = 'ImxLRfnQmMR8p6wVRkjyR5rWC8cAlFEEfq5jwFWnkUrzE'\n",
        "\n",
        "\n",
        "auth = tw.OAuthHandler(consumer_key, consumer_secret)\n",
        "auth.set_access_token(access_token, access_token_secret)\n",
        "api = tw.API(auth,wait_on_rate_limit=True)"
      ],
      "execution_count": 16,
      "outputs": []
    },
    {
      "cell_type": "code",
      "metadata": {
        "id": "32qsyk8BQukt"
      },
      "source": [
        "search_words = [\"Climate change Kenya\"]\n",
        "date_since = \"2000-01-01\"\n",
        "geo = '-1.2863,36.817223,600km'  #-1.286389, 36.817223\n",
        "# places = api.geo_search(query=\"Germany\", granularity=\"country\")\n",
        "# place_id = places[0].id"
      ],
      "execution_count": 17,
      "outputs": []
    },
    {
      "cell_type": "code",
      "metadata": {
        "colab": {
          "base_uri": "https://localhost:8080/"
        },
        "id": "psV_Vb7SSKl2",
        "outputId": "e5cd0dee-0de7-4c1d-a2d5-ebe7dfac2e61"
      },
      "source": [
        "tweets = tw.Cursor(api.search, geocode = geo,\n",
        "                       q=search_words,\n",
        "              \n",
        "                       lang=\"en\",\n",
        "                       since=date_since).items(1000)  #size of data\n",
        "tweets"
      ],
      "execution_count": 18,
      "outputs": [
        {
          "output_type": "execute_result",
          "data": {
            "text/plain": [
              "<tweepy.cursor.ItemIterator at 0x7f5441895710>"
            ]
          },
          "metadata": {
            "tags": []
          },
          "execution_count": 18
        }
      ]
    },
    {
      "cell_type": "code",
      "metadata": {
        "colab": {
          "base_uri": "https://localhost:8080/"
        },
        "id": "7IswZ1GFVA6W",
        "outputId": "9e98bb8e-804f-454e-8265-22e05e88ed05"
      },
      "source": [
        "import pandas as pd\n",
        "users_locs = [[tweet.user.screen_name,\n",
        "               tweet.text,\n",
        "               tweet.user.location,\n",
        "               tweet.user.description,\n",
        "               tweet.user.friends_count,\n",
        "               tweet.user.followers_count,\n",
        "               tweet.user.statuses_count,\n",
        "               tweet.user.created_at,\n",
        "               tweet.retweet_count, \n",
        "               tweet.entities['hashtags']] for tweet in tweets]\n",
        "users_locs\n",
        "\n",
        "tweet_text = pd.DataFrame(data=users_locs, \n",
        "                    columns=['user', 'tweet',\"location\", 'description','friends_count','followers_count', \n",
        "                             'statuses_count', 'created_at', 'retweet_count', 'hashtags'])\n",
        "tweet_text['tweet']"
      ],
      "execution_count": 19,
      "outputs": [
        {
          "output_type": "execute_result",
          "data": {
            "text/plain": [
              "0      Together with @KenyaCIC, we seek to create a n...\n",
              "1      How can women and youth participate in land us...\n",
              "2      What we must all do to ease the effects of cli...\n",
              "3      Youth have the power to bring about transforma...\n",
              "4      Health is influenced by #climatechange in many...\n",
              "                             ...                        \n",
              "101    Hon Christine Kaaya Member of Parliament Ugand...\n",
              "102    @kenya_climate @PACJA1 @OpenSocietyEA @artspac...\n",
              "103    @UNGeneva @UNHumanRights As the world mark 202...\n",
              "104    The IPCC report is coming out tomorrow.  As a ...\n",
              "105    Kenya reversing the gains on use of cleaner co...\n",
              "Name: tweet, Length: 106, dtype: object"
            ]
          },
          "metadata": {
            "tags": []
          },
          "execution_count": 19
        }
      ]
    },
    {
      "cell_type": "code",
      "metadata": {
        "colab": {
          "base_uri": "https://localhost:8080/"
        },
        "id": "ubd9s4-AmwQQ",
        "outputId": "76a671dc-9212-4af3-b47d-f1c87eaa5a9e"
      },
      "source": [
        "tweet_text.shape"
      ],
      "execution_count": 20,
      "outputs": [
        {
          "output_type": "execute_result",
          "data": {
            "text/plain": [
              "(106, 10)"
            ]
          },
          "metadata": {
            "tags": []
          },
          "execution_count": 20
        }
      ]
    },
    {
      "cell_type": "code",
      "metadata": {
        "id": "7lmuLlzkRI0z",
        "colab": {
          "base_uri": "https://localhost:8080/",
          "height": 49
        },
        "outputId": "96760a90-5b4a-444e-e433-bb9d9f43c430"
      },
      "source": [
        "# tweet_text[tweet_text['location']==\"KE\"]\n",
        "\n",
        "tweet_text[tweet_text['tweet'].str.contains(\"drought\")]\n",
        "tweet_text[tweet_text['tweet'].str.contains(\"famine\")]\n",
        "# tweet_text[tweet_text['tweet'].str.contains(\"food insecurity\")]\n",
        "\n"
      ],
      "execution_count": 21,
      "outputs": [
        {
          "output_type": "execute_result",
          "data": {
            "text/html": [
              "<div>\n",
              "<style scoped>\n",
              "    .dataframe tbody tr th:only-of-type {\n",
              "        vertical-align: middle;\n",
              "    }\n",
              "\n",
              "    .dataframe tbody tr th {\n",
              "        vertical-align: top;\n",
              "    }\n",
              "\n",
              "    .dataframe thead th {\n",
              "        text-align: right;\n",
              "    }\n",
              "</style>\n",
              "<table border=\"1\" class=\"dataframe\">\n",
              "  <thead>\n",
              "    <tr style=\"text-align: right;\">\n",
              "      <th></th>\n",
              "      <th>user</th>\n",
              "      <th>tweet</th>\n",
              "      <th>location</th>\n",
              "      <th>description</th>\n",
              "      <th>friends_count</th>\n",
              "      <th>followers_count</th>\n",
              "      <th>statuses_count</th>\n",
              "      <th>created_at</th>\n",
              "      <th>retweet_count</th>\n",
              "      <th>hashtags</th>\n",
              "    </tr>\n",
              "  </thead>\n",
              "  <tbody>\n",
              "  </tbody>\n",
              "</table>\n",
              "</div>"
            ],
            "text/plain": [
              "Empty DataFrame\n",
              "Columns: [user, tweet, location, description, friends_count, followers_count, statuses_count, created_at, retweet_count, hashtags]\n",
              "Index: []"
            ]
          },
          "metadata": {
            "tags": []
          },
          "execution_count": 21
        }
      ]
    },
    {
      "cell_type": "code",
      "metadata": {
        "colab": {
          "base_uri": "https://localhost:8080/",
          "height": 49
        },
        "id": "gVRFkNcGwxRZ",
        "outputId": "411009b9-8f7f-4f9d-8141-deac39c8ff50"
      },
      "source": [
        "tweet_text[tweet_text['tweet'].str.contains(\"floods\")]\n",
        "tweet_text[tweet_text['tweet'].str.contains(\"excessive rain\")]\n",
        "tweet_text[tweet_text['tweet'].str.contains(\"swim\")]\n",
        "tweet_text[tweet_text['tweet'].str.contains(\"ocean\")]\n",
        "tweet_text[tweet_text['tweet'].str.contains(\"sea\")]\n"
      ],
      "execution_count": 22,
      "outputs": [
        {
          "output_type": "execute_result",
          "data": {
            "text/html": [
              "<div>\n",
              "<style scoped>\n",
              "    .dataframe tbody tr th:only-of-type {\n",
              "        vertical-align: middle;\n",
              "    }\n",
              "\n",
              "    .dataframe tbody tr th {\n",
              "        vertical-align: top;\n",
              "    }\n",
              "\n",
              "    .dataframe thead th {\n",
              "        text-align: right;\n",
              "    }\n",
              "</style>\n",
              "<table border=\"1\" class=\"dataframe\">\n",
              "  <thead>\n",
              "    <tr style=\"text-align: right;\">\n",
              "      <th></th>\n",
              "      <th>user</th>\n",
              "      <th>tweet</th>\n",
              "      <th>location</th>\n",
              "      <th>description</th>\n",
              "      <th>friends_count</th>\n",
              "      <th>followers_count</th>\n",
              "      <th>statuses_count</th>\n",
              "      <th>created_at</th>\n",
              "      <th>retweet_count</th>\n",
              "      <th>hashtags</th>\n",
              "    </tr>\n",
              "  </thead>\n",
              "  <tbody>\n",
              "  </tbody>\n",
              "</table>\n",
              "</div>"
            ],
            "text/plain": [
              "Empty DataFrame\n",
              "Columns: [user, tweet, location, description, friends_count, followers_count, statuses_count, created_at, retweet_count, hashtags]\n",
              "Index: []"
            ]
          },
          "metadata": {
            "tags": []
          },
          "execution_count": 22
        }
      ]
    },
    {
      "cell_type": "code",
      "metadata": {
        "colab": {
          "base_uri": "https://localhost:8080/",
          "height": 49
        },
        "id": "1BEi_iI5yA_8",
        "outputId": "a4bfe184-ccec-4af4-bb66-ea07798a9600"
      },
      "source": [
        "tweet_text[tweet_text['tweet'].str.contains(\"temperature\")]"
      ],
      "execution_count": 23,
      "outputs": [
        {
          "output_type": "execute_result",
          "data": {
            "text/html": [
              "<div>\n",
              "<style scoped>\n",
              "    .dataframe tbody tr th:only-of-type {\n",
              "        vertical-align: middle;\n",
              "    }\n",
              "\n",
              "    .dataframe tbody tr th {\n",
              "        vertical-align: top;\n",
              "    }\n",
              "\n",
              "    .dataframe thead th {\n",
              "        text-align: right;\n",
              "    }\n",
              "</style>\n",
              "<table border=\"1\" class=\"dataframe\">\n",
              "  <thead>\n",
              "    <tr style=\"text-align: right;\">\n",
              "      <th></th>\n",
              "      <th>user</th>\n",
              "      <th>tweet</th>\n",
              "      <th>location</th>\n",
              "      <th>description</th>\n",
              "      <th>friends_count</th>\n",
              "      <th>followers_count</th>\n",
              "      <th>statuses_count</th>\n",
              "      <th>created_at</th>\n",
              "      <th>retweet_count</th>\n",
              "      <th>hashtags</th>\n",
              "    </tr>\n",
              "  </thead>\n",
              "  <tbody>\n",
              "  </tbody>\n",
              "</table>\n",
              "</div>"
            ],
            "text/plain": [
              "Empty DataFrame\n",
              "Columns: [user, tweet, location, description, friends_count, followers_count, statuses_count, created_at, retweet_count, hashtags]\n",
              "Index: []"
            ]
          },
          "metadata": {
            "tags": []
          },
          "execution_count": 23
        }
      ]
    },
    {
      "cell_type": "code",
      "metadata": {
        "colab": {
          "base_uri": "https://localhost:8080/",
          "height": 49
        },
        "id": "oLbTUWQ8yN83",
        "outputId": "934ffade-3eec-40d2-d682-abea556aaed7"
      },
      "source": [
        "tweet_text[tweet_text['tweet'].str.contains(\"carbon\")]\n",
        "tweet_text[tweet_text['tweet'].str.contains(\"tree\")]\n",
        "tweet_text[tweet_text['tweet'].str.contains(\"awareness\")]\n",
        "tweet_text[tweet_text['tweet'].str.contains(\"transport\")]\n",
        "tweet_text[tweet_text['tweet'].str.contains(\"green\")]\n",
        "tweet_text[tweet_text['tweet'].str.contains(\"plant\")]\n",
        "tweet_text[tweet_text['tweet'].str.contains(\"forest\")]\n",
        "# tweet_text[tweet_text['tweet'].str.contains(\"solar\")]\n",
        "# tweet_text[tweet_text['tweet'].str.contains(\"energy\")]\n",
        "# tweet_text[tweet_text['tweet'].str.contains(\"recycle\")]\n",
        "# tweet_text[tweet_text['tweet'].str.contains(\"reuse\")]"
      ],
      "execution_count": 24,
      "outputs": [
        {
          "output_type": "execute_result",
          "data": {
            "text/html": [
              "<div>\n",
              "<style scoped>\n",
              "    .dataframe tbody tr th:only-of-type {\n",
              "        vertical-align: middle;\n",
              "    }\n",
              "\n",
              "    .dataframe tbody tr th {\n",
              "        vertical-align: top;\n",
              "    }\n",
              "\n",
              "    .dataframe thead th {\n",
              "        text-align: right;\n",
              "    }\n",
              "</style>\n",
              "<table border=\"1\" class=\"dataframe\">\n",
              "  <thead>\n",
              "    <tr style=\"text-align: right;\">\n",
              "      <th></th>\n",
              "      <th>user</th>\n",
              "      <th>tweet</th>\n",
              "      <th>location</th>\n",
              "      <th>description</th>\n",
              "      <th>friends_count</th>\n",
              "      <th>followers_count</th>\n",
              "      <th>statuses_count</th>\n",
              "      <th>created_at</th>\n",
              "      <th>retweet_count</th>\n",
              "      <th>hashtags</th>\n",
              "    </tr>\n",
              "  </thead>\n",
              "  <tbody>\n",
              "  </tbody>\n",
              "</table>\n",
              "</div>"
            ],
            "text/plain": [
              "Empty DataFrame\n",
              "Columns: [user, tweet, location, description, friends_count, followers_count, statuses_count, created_at, retweet_count, hashtags]\n",
              "Index: []"
            ]
          },
          "metadata": {
            "tags": []
          },
          "execution_count": 24
        }
      ]
    },
    {
      "cell_type": "code",
      "metadata": {
        "id": "q8pAzZ4Kyh2Z"
      },
      "source": [
        "# [tweet_text[tweet_text['tweet'].str.contains(\"forest\")],'race_label'] = 'greentalk'\n",
        "# # tweet_text.loc[tweet_text['eri_hawaiian']==1,'race_label'] = 'Haw/Pac Isl.'\n",
        "# # tweet_text.loc[tweet_text['eri_afr_amer']==1,'race_label'] = 'Black/AA'\n",
        "# # tweet_text.loc[tweet_text['eri_asian']==1,'race_label'] = 'Asian'\n",
        "# # tweet_text.loc[tweet_text['eri_nat_amer']==1,'race_label'] = 'A/I AK Native'\n",
        "# # tweet_text.loc[(tweet_text['eri_afr_amer'] + tweet_text['eri_asian'] + tweet_text['eri_hawaiian'] + tweet_text['eri_nat_amer'] + tweet_text['eri_white']) > 1,'race_label'] = 'Two Or More'\n",
        "# # tweet_text.loc[tweet_text['eri_hispanic']==1,'race_label'] = 'Hispanic'\n",
        "# tweet_text['race_label'].fillna('Other', inplace=True)\n"
      ],
      "execution_count": 25,
      "outputs": []
    },
    {
      "cell_type": "code",
      "metadata": {
        "id": "MnoR4pHJ2yci"
      },
      "source": [
        "tweet_text.to_csv('Climate_change_Kenya_600km.csv')"
      ],
      "execution_count": 26,
      "outputs": []
    },
    {
      "cell_type": "code",
      "metadata": {
        "id": "zsAQHS6JntQi"
      },
      "source": [
        ""
      ],
      "execution_count": 26,
      "outputs": []
    }
  ]
}