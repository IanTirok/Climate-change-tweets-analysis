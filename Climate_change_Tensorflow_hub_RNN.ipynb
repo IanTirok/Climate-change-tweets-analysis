{
  "nbformat": 4,
  "nbformat_minor": 0,
  "metadata": {
    "colab": {
      "name": "Climate change Tensorflow hub RNN.ipynb",
      "provenance": [],
      "collapsed_sections": [],
      "include_colab_link": true
    },
    "kernelspec": {
      "display_name": "Python 3",
      "name": "python3"
    },
    "language_info": {
      "name": "python"
    },
    "widgets": {
      "application/vnd.jupyter.widget-state+json": {
        "865c3d06a7694fca833157f4117f8679": {
          "model_module": "@jupyter-widgets/controls",
          "model_name": "VBoxModel",
          "model_module_version": "1.5.0",
          "state": {
            "_view_name": "VBoxView",
            "_dom_classes": [],
            "_model_name": "VBoxModel",
            "_view_module": "@jupyter-widgets/controls",
            "_model_module_version": "1.5.0",
            "_view_count": null,
            "_view_module_version": "1.5.0",
            "box_style": "",
            "layout": "IPY_MODEL_88b84570eb8b4b659fad459f302c3171",
            "_model_module": "@jupyter-widgets/controls",
            "children": [
              "IPY_MODEL_acbd9847a6bd43b197b0f8638e39e7c0",
              "IPY_MODEL_2d145d6f00f0481babadb550ff1d8a1d"
            ]
          }
        },
        "88b84570eb8b4b659fad459f302c3171": {
          "model_module": "@jupyter-widgets/base",
          "model_name": "LayoutModel",
          "model_module_version": "1.2.0",
          "state": {
            "_view_name": "LayoutView",
            "grid_template_rows": null,
            "right": null,
            "justify_content": null,
            "_view_module": "@jupyter-widgets/base",
            "overflow": null,
            "_model_module_version": "1.2.0",
            "_view_count": null,
            "flex_flow": null,
            "width": null,
            "min_width": null,
            "border": null,
            "align_items": null,
            "bottom": null,
            "_model_module": "@jupyter-widgets/base",
            "top": null,
            "grid_column": null,
            "overflow_y": null,
            "overflow_x": null,
            "grid_auto_flow": null,
            "grid_area": null,
            "grid_template_columns": null,
            "flex": null,
            "_model_name": "LayoutModel",
            "justify_items": null,
            "grid_row": null,
            "max_height": null,
            "align_content": null,
            "visibility": null,
            "align_self": null,
            "height": null,
            "min_height": null,
            "padding": null,
            "grid_auto_rows": null,
            "grid_gap": null,
            "max_width": null,
            "order": null,
            "_view_module_version": "1.2.0",
            "grid_template_areas": null,
            "object_position": null,
            "object_fit": null,
            "grid_auto_columns": null,
            "margin": null,
            "display": null,
            "left": null
          }
        },
        "acbd9847a6bd43b197b0f8638e39e7c0": {
          "model_module": "@jupyter-widgets/controls",
          "model_name": "LabelModel",
          "model_module_version": "1.5.0",
          "state": {
            "_view_name": "LabelView",
            "style": "IPY_MODEL_ab227d5a3afb45709d8e209b8148b2ee",
            "_dom_classes": [],
            "description": "",
            "_model_name": "LabelModel",
            "placeholder": "​",
            "_view_module": "@jupyter-widgets/controls",
            "_model_module_version": "1.5.0",
            "value": " 0.01MB of 0.01MB uploaded (0.00MB deduped)\r",
            "_view_count": null,
            "_view_module_version": "1.5.0",
            "description_tooltip": null,
            "_model_module": "@jupyter-widgets/controls",
            "layout": "IPY_MODEL_a3db62e0032e4e80ba1b434c67a6f6c8"
          }
        },
        "2d145d6f00f0481babadb550ff1d8a1d": {
          "model_module": "@jupyter-widgets/controls",
          "model_name": "FloatProgressModel",
          "model_module_version": "1.5.0",
          "state": {
            "_view_name": "ProgressView",
            "style": "IPY_MODEL_282a13b6328c4b7ebe2174d90a2caa05",
            "_dom_classes": [],
            "description": "",
            "_model_name": "FloatProgressModel",
            "bar_style": "",
            "max": 1,
            "_view_module": "@jupyter-widgets/controls",
            "_model_module_version": "1.5.0",
            "value": 1,
            "_view_count": null,
            "_view_module_version": "1.5.0",
            "orientation": "horizontal",
            "min": 0,
            "description_tooltip": null,
            "_model_module": "@jupyter-widgets/controls",
            "layout": "IPY_MODEL_67f83410c29d427d8a074f4f315d3007"
          }
        },
        "ab227d5a3afb45709d8e209b8148b2ee": {
          "model_module": "@jupyter-widgets/controls",
          "model_name": "DescriptionStyleModel",
          "model_module_version": "1.5.0",
          "state": {
            "_view_name": "StyleView",
            "_model_name": "DescriptionStyleModel",
            "description_width": "",
            "_view_module": "@jupyter-widgets/base",
            "_model_module_version": "1.5.0",
            "_view_count": null,
            "_view_module_version": "1.2.0",
            "_model_module": "@jupyter-widgets/controls"
          }
        },
        "a3db62e0032e4e80ba1b434c67a6f6c8": {
          "model_module": "@jupyter-widgets/base",
          "model_name": "LayoutModel",
          "model_module_version": "1.2.0",
          "state": {
            "_view_name": "LayoutView",
            "grid_template_rows": null,
            "right": null,
            "justify_content": null,
            "_view_module": "@jupyter-widgets/base",
            "overflow": null,
            "_model_module_version": "1.2.0",
            "_view_count": null,
            "flex_flow": null,
            "width": null,
            "min_width": null,
            "border": null,
            "align_items": null,
            "bottom": null,
            "_model_module": "@jupyter-widgets/base",
            "top": null,
            "grid_column": null,
            "overflow_y": null,
            "overflow_x": null,
            "grid_auto_flow": null,
            "grid_area": null,
            "grid_template_columns": null,
            "flex": null,
            "_model_name": "LayoutModel",
            "justify_items": null,
            "grid_row": null,
            "max_height": null,
            "align_content": null,
            "visibility": null,
            "align_self": null,
            "height": null,
            "min_height": null,
            "padding": null,
            "grid_auto_rows": null,
            "grid_gap": null,
            "max_width": null,
            "order": null,
            "_view_module_version": "1.2.0",
            "grid_template_areas": null,
            "object_position": null,
            "object_fit": null,
            "grid_auto_columns": null,
            "margin": null,
            "display": null,
            "left": null
          }
        },
        "282a13b6328c4b7ebe2174d90a2caa05": {
          "model_module": "@jupyter-widgets/controls",
          "model_name": "ProgressStyleModel",
          "model_module_version": "1.5.0",
          "state": {
            "_view_name": "StyleView",
            "_model_name": "ProgressStyleModel",
            "description_width": "",
            "_view_module": "@jupyter-widgets/base",
            "_model_module_version": "1.5.0",
            "_view_count": null,
            "_view_module_version": "1.2.0",
            "bar_color": null,
            "_model_module": "@jupyter-widgets/controls"
          }
        },
        "67f83410c29d427d8a074f4f315d3007": {
          "model_module": "@jupyter-widgets/base",
          "model_name": "LayoutModel",
          "model_module_version": "1.2.0",
          "state": {
            "_view_name": "LayoutView",
            "grid_template_rows": null,
            "right": null,
            "justify_content": null,
            "_view_module": "@jupyter-widgets/base",
            "overflow": null,
            "_model_module_version": "1.2.0",
            "_view_count": null,
            "flex_flow": null,
            "width": null,
            "min_width": null,
            "border": null,
            "align_items": null,
            "bottom": null,
            "_model_module": "@jupyter-widgets/base",
            "top": null,
            "grid_column": null,
            "overflow_y": null,
            "overflow_x": null,
            "grid_auto_flow": null,
            "grid_area": null,
            "grid_template_columns": null,
            "flex": null,
            "_model_name": "LayoutModel",
            "justify_items": null,
            "grid_row": null,
            "max_height": null,
            "align_content": null,
            "visibility": null,
            "align_self": null,
            "height": null,
            "min_height": null,
            "padding": null,
            "grid_auto_rows": null,
            "grid_gap": null,
            "max_width": null,
            "order": null,
            "_view_module_version": "1.2.0",
            "grid_template_areas": null,
            "object_position": null,
            "object_fit": null,
            "grid_auto_columns": null,
            "margin": null,
            "display": null,
            "left": null
          }
        },
        "5acd6a89f2f749bd93ffe7aaa6dabd99": {
          "model_module": "@jupyter-widgets/controls",
          "model_name": "VBoxModel",
          "model_module_version": "1.5.0",
          "state": {
            "_view_name": "VBoxView",
            "_dom_classes": [],
            "_model_name": "VBoxModel",
            "_view_module": "@jupyter-widgets/controls",
            "_model_module_version": "1.5.0",
            "_view_count": null,
            "_view_module_version": "1.5.0",
            "box_style": "",
            "layout": "IPY_MODEL_f239e337c46942b3b34652b09d32e489",
            "_model_module": "@jupyter-widgets/controls",
            "children": [
              "IPY_MODEL_81b30d797e694808927b6c8978d05044",
              "IPY_MODEL_7c6db23829be4f798a0116ca3227909d"
            ]
          }
        },
        "f239e337c46942b3b34652b09d32e489": {
          "model_module": "@jupyter-widgets/base",
          "model_name": "LayoutModel",
          "model_module_version": "1.2.0",
          "state": {
            "_view_name": "LayoutView",
            "grid_template_rows": null,
            "right": null,
            "justify_content": null,
            "_view_module": "@jupyter-widgets/base",
            "overflow": null,
            "_model_module_version": "1.2.0",
            "_view_count": null,
            "flex_flow": null,
            "width": null,
            "min_width": null,
            "border": null,
            "align_items": null,
            "bottom": null,
            "_model_module": "@jupyter-widgets/base",
            "top": null,
            "grid_column": null,
            "overflow_y": null,
            "overflow_x": null,
            "grid_auto_flow": null,
            "grid_area": null,
            "grid_template_columns": null,
            "flex": null,
            "_model_name": "LayoutModel",
            "justify_items": null,
            "grid_row": null,
            "max_height": null,
            "align_content": null,
            "visibility": null,
            "align_self": null,
            "height": null,
            "min_height": null,
            "padding": null,
            "grid_auto_rows": null,
            "grid_gap": null,
            "max_width": null,
            "order": null,
            "_view_module_version": "1.2.0",
            "grid_template_areas": null,
            "object_position": null,
            "object_fit": null,
            "grid_auto_columns": null,
            "margin": null,
            "display": null,
            "left": null
          }
        },
        "81b30d797e694808927b6c8978d05044": {
          "model_module": "@jupyter-widgets/controls",
          "model_name": "LabelModel",
          "model_module_version": "1.5.0",
          "state": {
            "_view_name": "LabelView",
            "style": "IPY_MODEL_8953017a02814d83a0ef1ac50c183409",
            "_dom_classes": [],
            "description": "",
            "_model_name": "LabelModel",
            "placeholder": "​",
            "_view_module": "@jupyter-widgets/controls",
            "_model_module_version": "1.5.0",
            "value": " 0.01MB of 0.01MB uploaded (0.00MB deduped)\r",
            "_view_count": null,
            "_view_module_version": "1.5.0",
            "description_tooltip": null,
            "_model_module": "@jupyter-widgets/controls",
            "layout": "IPY_MODEL_b99189f1a5c8453088f0036d8e46cff1"
          }
        },
        "7c6db23829be4f798a0116ca3227909d": {
          "model_module": "@jupyter-widgets/controls",
          "model_name": "FloatProgressModel",
          "model_module_version": "1.5.0",
          "state": {
            "_view_name": "ProgressView",
            "style": "IPY_MODEL_365af64926cd42cf95f177cebab97ed1",
            "_dom_classes": [],
            "description": "",
            "_model_name": "FloatProgressModel",
            "bar_style": "",
            "max": 1,
            "_view_module": "@jupyter-widgets/controls",
            "_model_module_version": "1.5.0",
            "value": 1,
            "_view_count": null,
            "_view_module_version": "1.5.0",
            "orientation": "horizontal",
            "min": 0,
            "description_tooltip": null,
            "_model_module": "@jupyter-widgets/controls",
            "layout": "IPY_MODEL_0243b67373754d65a4aa39f3dc55a5c1"
          }
        },
        "8953017a02814d83a0ef1ac50c183409": {
          "model_module": "@jupyter-widgets/controls",
          "model_name": "DescriptionStyleModel",
          "model_module_version": "1.5.0",
          "state": {
            "_view_name": "StyleView",
            "_model_name": "DescriptionStyleModel",
            "description_width": "",
            "_view_module": "@jupyter-widgets/base",
            "_model_module_version": "1.5.0",
            "_view_count": null,
            "_view_module_version": "1.2.0",
            "_model_module": "@jupyter-widgets/controls"
          }
        },
        "b99189f1a5c8453088f0036d8e46cff1": {
          "model_module": "@jupyter-widgets/base",
          "model_name": "LayoutModel",
          "model_module_version": "1.2.0",
          "state": {
            "_view_name": "LayoutView",
            "grid_template_rows": null,
            "right": null,
            "justify_content": null,
            "_view_module": "@jupyter-widgets/base",
            "overflow": null,
            "_model_module_version": "1.2.0",
            "_view_count": null,
            "flex_flow": null,
            "width": null,
            "min_width": null,
            "border": null,
            "align_items": null,
            "bottom": null,
            "_model_module": "@jupyter-widgets/base",
            "top": null,
            "grid_column": null,
            "overflow_y": null,
            "overflow_x": null,
            "grid_auto_flow": null,
            "grid_area": null,
            "grid_template_columns": null,
            "flex": null,
            "_model_name": "LayoutModel",
            "justify_items": null,
            "grid_row": null,
            "max_height": null,
            "align_content": null,
            "visibility": null,
            "align_self": null,
            "height": null,
            "min_height": null,
            "padding": null,
            "grid_auto_rows": null,
            "grid_gap": null,
            "max_width": null,
            "order": null,
            "_view_module_version": "1.2.0",
            "grid_template_areas": null,
            "object_position": null,
            "object_fit": null,
            "grid_auto_columns": null,
            "margin": null,
            "display": null,
            "left": null
          }
        },
        "365af64926cd42cf95f177cebab97ed1": {
          "model_module": "@jupyter-widgets/controls",
          "model_name": "ProgressStyleModel",
          "model_module_version": "1.5.0",
          "state": {
            "_view_name": "StyleView",
            "_model_name": "ProgressStyleModel",
            "description_width": "",
            "_view_module": "@jupyter-widgets/base",
            "_model_module_version": "1.5.0",
            "_view_count": null,
            "_view_module_version": "1.2.0",
            "bar_color": null,
            "_model_module": "@jupyter-widgets/controls"
          }
        },
        "0243b67373754d65a4aa39f3dc55a5c1": {
          "model_module": "@jupyter-widgets/base",
          "model_name": "LayoutModel",
          "model_module_version": "1.2.0",
          "state": {
            "_view_name": "LayoutView",
            "grid_template_rows": null,
            "right": null,
            "justify_content": null,
            "_view_module": "@jupyter-widgets/base",
            "overflow": null,
            "_model_module_version": "1.2.0",
            "_view_count": null,
            "flex_flow": null,
            "width": null,
            "min_width": null,
            "border": null,
            "align_items": null,
            "bottom": null,
            "_model_module": "@jupyter-widgets/base",
            "top": null,
            "grid_column": null,
            "overflow_y": null,
            "overflow_x": null,
            "grid_auto_flow": null,
            "grid_area": null,
            "grid_template_columns": null,
            "flex": null,
            "_model_name": "LayoutModel",
            "justify_items": null,
            "grid_row": null,
            "max_height": null,
            "align_content": null,
            "visibility": null,
            "align_self": null,
            "height": null,
            "min_height": null,
            "padding": null,
            "grid_auto_rows": null,
            "grid_gap": null,
            "max_width": null,
            "order": null,
            "_view_module_version": "1.2.0",
            "grid_template_areas": null,
            "object_position": null,
            "object_fit": null,
            "grid_auto_columns": null,
            "margin": null,
            "display": null,
            "left": null
          }
        }
      }
    }
  },
  "cells": [
    {
      "cell_type": "markdown",
      "metadata": {
        "id": "view-in-github",
        "colab_type": "text"
      },
      "source": [
        "<a href=\"https://colab.research.google.com/github/IanTirok/Climate-change-tweets-analysis/blob/main/Climate_change_Tensorflow_hub_RNN.ipynb\" target=\"_parent\"><img src=\"https://colab.research.google.com/assets/colab-badge.svg\" alt=\"Open In Colab\"/></a>"
      ]
    },
    {
      "cell_type": "code",
      "metadata": {
        "colab": {
          "base_uri": "https://localhost:8080/"
        },
        "id": "fJ788-SHhJIH",
        "outputId": "4057de55-3052-4b6f-ec5a-bba99542e099"
      },
      "source": [
        "\n",
        "!pip install wandb\n",
        "!wandb login"
      ],
      "execution_count": 1,
      "outputs": [
        {
          "output_type": "stream",
          "text": [
            "Requirement already satisfied: wandb in /usr/local/lib/python3.7/dist-packages (0.12.0)\n",
            "Requirement already satisfied: requests<3,>=2.0.0 in /usr/local/lib/python3.7/dist-packages (from wandb) (2.23.0)\n",
            "Requirement already satisfied: subprocess32>=3.5.3 in /usr/local/lib/python3.7/dist-packages (from wandb) (3.5.4)\n",
            "Requirement already satisfied: python-dateutil>=2.6.1 in /usr/local/lib/python3.7/dist-packages (from wandb) (2.8.2)\n",
            "Requirement already satisfied: six>=1.13.0 in /usr/local/lib/python3.7/dist-packages (from wandb) (1.15.0)\n",
            "Requirement already satisfied: psutil>=5.0.0 in /usr/local/lib/python3.7/dist-packages (from wandb) (5.4.8)\n",
            "Requirement already satisfied: protobuf>=3.12.0 in /usr/local/lib/python3.7/dist-packages (from wandb) (3.17.3)\n",
            "Requirement already satisfied: sentry-sdk>=1.0.0 in /usr/local/lib/python3.7/dist-packages (from wandb) (1.3.1)\n",
            "Requirement already satisfied: PyYAML in /usr/local/lib/python3.7/dist-packages (from wandb) (3.13)\n",
            "Requirement already satisfied: configparser>=3.8.1 in /usr/local/lib/python3.7/dist-packages (from wandb) (5.0.2)\n",
            "Requirement already satisfied: GitPython>=1.0.0 in /usr/local/lib/python3.7/dist-packages (from wandb) (3.1.18)\n",
            "Requirement already satisfied: promise<3,>=2.0 in /usr/local/lib/python3.7/dist-packages (from wandb) (2.3)\n",
            "Requirement already satisfied: Click!=8.0.0,>=7.0 in /usr/local/lib/python3.7/dist-packages (from wandb) (7.1.2)\n",
            "Requirement already satisfied: pathtools in /usr/local/lib/python3.7/dist-packages (from wandb) (0.1.2)\n",
            "Requirement already satisfied: shortuuid>=0.5.0 in /usr/local/lib/python3.7/dist-packages (from wandb) (1.0.1)\n",
            "Requirement already satisfied: docker-pycreds>=0.4.0 in /usr/local/lib/python3.7/dist-packages (from wandb) (0.4.0)\n",
            "Requirement already satisfied: typing-extensions>=3.7.4.0 in /usr/local/lib/python3.7/dist-packages (from GitPython>=1.0.0->wandb) (3.7.4.3)\n",
            "Requirement already satisfied: gitdb<5,>=4.0.1 in /usr/local/lib/python3.7/dist-packages (from GitPython>=1.0.0->wandb) (4.0.7)\n",
            "Requirement already satisfied: smmap<5,>=3.0.1 in /usr/local/lib/python3.7/dist-packages (from gitdb<5,>=4.0.1->GitPython>=1.0.0->wandb) (4.0.0)\n",
            "Requirement already satisfied: chardet<4,>=3.0.2 in /usr/local/lib/python3.7/dist-packages (from requests<3,>=2.0.0->wandb) (3.0.4)\n",
            "Requirement already satisfied: urllib3!=1.25.0,!=1.25.1,<1.26,>=1.21.1 in /usr/local/lib/python3.7/dist-packages (from requests<3,>=2.0.0->wandb) (1.24.3)\n",
            "Requirement already satisfied: idna<3,>=2.5 in /usr/local/lib/python3.7/dist-packages (from requests<3,>=2.0.0->wandb) (2.10)\n",
            "Requirement already satisfied: certifi>=2017.4.17 in /usr/local/lib/python3.7/dist-packages (from requests<3,>=2.0.0->wandb) (2021.5.30)\n",
            "\u001b[34m\u001b[1mwandb\u001b[0m: Currently logged in as: \u001b[33mkanoak\u001b[0m (use `wandb login --relogin` to force relogin)\n"
          ],
          "name": "stdout"
        }
      ]
    },
    {
      "cell_type": "code",
      "metadata": {
        "id": "7nHEow6otjVT"
      },
      "source": [
        "import tensorflow as tf\n",
        "from tensorflow.python.distribute import distribution_strategy_context\n",
        "from tensorflow.python.framework import ops\n",
        "from tensorflow.python.framework import smart_cond\n",
        "from tensorflow.python.framework import tensor_util\n",
        "from tensorflow.python.keras import backend as K\n",
        "from tensorflow.python.keras.utils import losses_utils\n",
        "from tensorflow.python.keras.utils import tf_utils\n",
        "from tensorflow.python.keras.utils.generic_utils import deserialize_keras_object\n",
        "from tensorflow.python.keras.utils.generic_utils import serialize_keras_object\n",
        "from tensorflow.python.ops import array_ops\n",
        "from tensorflow.python.ops import math_ops\n",
        "from tensorflow.python.ops import nn\n",
        "from tensorflow.python.ops.losses import losses_impl\n",
        "from tensorflow.python.ops.losses import util as tf_losses_util\n",
        "from tensorflow.python.util.tf_export import keras_export\n",
        "from tensorflow.tools.docs import doc_controls"
      ],
      "execution_count": 2,
      "outputs": []
    },
    {
      "cell_type": "code",
      "metadata": {
        "id": "GFck8nmQhZTM"
      },
      "source": [
        "import wandb\n",
        "from wandb.keras import WandbCallback\n"
      ],
      "execution_count": 3,
      "outputs": []
    },
    {
      "cell_type": "markdown",
      "metadata": {
        "id": "ZDcJbjustiWI"
      },
      "source": [
        ""
      ]
    },
    {
      "cell_type": "code",
      "metadata": {
        "colab": {
          "base_uri": "https://localhost:8080/",
          "height": 135
        },
        "id": "U2zDoKBapdkY",
        "outputId": "5acb0df6-1660-4e95-c90b-9ee839d6c073"
      },
      "source": [
        "#Initialize wandb\n",
        "\n",
        "run = wandb.init(project='Climate Change',\n",
        "                 config={  # and include hyperparameters and metadata\n",
        "                     \"learning_rate\": 0.005,\n",
        "                     \"epochs\": 5,\n",
        "                     \"batch_size\": 64,\n",
        "                     \"loss_function\": \"sparse_categorical_crossentropy\",\n",
        "                     \"architecture\": \"RNN\",\n",
        "                     \"dataset\": \"CIFAR-10\"\n",
        "                 })\n",
        "config = wandb.config "
      ],
      "execution_count": 4,
      "outputs": [
        {
          "output_type": "stream",
          "text": [
            "\u001b[34m\u001b[1mwandb\u001b[0m: Currently logged in as: \u001b[33mkanoak\u001b[0m (use `wandb login --relogin` to force relogin)\n"
          ],
          "name": "stderr"
        },
        {
          "output_type": "display_data",
          "data": {
            "text/html": [
              "\n",
              "                Tracking run with wandb version 0.12.0<br/>\n",
              "                Syncing run <strong style=\"color:#cdcd00\">colorful-sound-31</strong> to <a href=\"https://wandb.ai\" target=\"_blank\">Weights & Biases</a> <a href=\"https://docs.wandb.com/integrations/jupyter.html\" target=\"_blank\">(Documentation)</a>.<br/>\n",
              "                Project page: <a href=\"https://wandb.ai/kanoak/Climate%20change\" target=\"_blank\">https://wandb.ai/kanoak/Climate%20change</a><br/>\n",
              "                Run page: <a href=\"https://wandb.ai/kanoak/Climate%20change/runs/18mg3n57\" target=\"_blank\">https://wandb.ai/kanoak/Climate%20change/runs/18mg3n57</a><br/>\n",
              "                Run data is saved locally in <code>/content/wandb/run-20210819_074336-18mg3n57</code><br/><br/>\n",
              "            "
            ],
            "text/plain": [
              "<IPython.core.display.HTML object>"
            ]
          },
          "metadata": {}
        }
      ]
    },
    {
      "cell_type": "code",
      "metadata": {
        "id": "1anyRMp6hr_P"
      },
      "source": [
        "\n",
        "# for i in range(10):\n",
        "#   log_dict = {\n",
        "#       \"train_loss\": 1/(i+1),\n",
        "#       \"custom_step\": i**2,\n",
        "#       \"validation_loss\": 1/(i+1) }\n",
        "# wandb.log(log_dict)"
      ],
      "execution_count": 5,
      "outputs": []
    },
    {
      "cell_type": "code",
      "metadata": {
        "id": "HncEmTTThwil"
      },
      "source": [
        "wandb.config.dropout = 0.2"
      ],
      "execution_count": 6,
      "outputs": []
    },
    {
      "cell_type": "markdown",
      "metadata": {
        "id": "IyohllIzAeyv"
      },
      "source": [
        "Modelling using Tensorflow hub using a pretrained word embedding layer to classify tweets on climate change into classes"
      ]
    },
    {
      "cell_type": "code",
      "metadata": {
        "colab": {
          "base_uri": "https://localhost:8080/"
        },
        "id": "ITti9yg8j2j_",
        "outputId": "36cb5e27-d511-4bd8-b21d-e10a9e56f5f2"
      },
      "source": [
        "import pandas as pd\n",
        "import numpy as np\n",
        "import pandas as pd\n",
        "import numpy as np\n",
        "#for text pre-processing\n",
        "import re, string\n",
        "import nltk\n",
        "from nltk.tokenize import word_tokenize\n",
        "from nltk.corpus import stopwords\n",
        "from nltk.tokenize import word_tokenize\n",
        "from nltk.stem import SnowballStemmer\n",
        "from nltk.corpus import wordnet\n",
        "from nltk.stem import WordNetLemmatizer\n",
        "nltk.download('punkt')\n",
        "nltk.download('averaged_perceptron_tagger')\n",
        "nltk.download('wordnet')\n",
        "#for model-building\n",
        "from sklearn.model_selection import train_test_split\n",
        "from sklearn.linear_model import LogisticRegression\n",
        "from sklearn.naive_bayes import MultinomialNB\n",
        "from sklearn.metrics import classification_report, f1_score, accuracy_score, confusion_matrix\n",
        "from sklearn.metrics import roc_curve, auc, roc_auc_score\n",
        "# bag of words\n",
        "from sklearn.feature_extraction.text import TfidfVectorizer\n",
        "from sklearn.feature_extraction.text import CountVectorizer\n",
        "#for word embedding\n",
        "import gensim\n",
        "from gensim.models import Word2Vec\n",
        "from nltk.corpus import stopwords\n",
        "nltk.download('stopwords')\n",
        "from nltk.util import ngrams\n",
        "from spacy.lang.en import English\n",
        "nlp = English()\n",
        "import spacy\n",
        "from nltk.stem import WordNetLemmatizer\n",
        "  \n",
        "lemmatizer = WordNetLemmatizer()"
      ],
      "execution_count": 7,
      "outputs": [
        {
          "output_type": "stream",
          "text": [
            "[nltk_data] Downloading package punkt to /root/nltk_data...\n",
            "[nltk_data]   Package punkt is already up-to-date!\n",
            "[nltk_data] Downloading package averaged_perceptron_tagger to\n",
            "[nltk_data]     /root/nltk_data...\n",
            "[nltk_data]   Package averaged_perceptron_tagger is already up-to-\n",
            "[nltk_data]       date!\n",
            "[nltk_data] Downloading package wordnet to /root/nltk_data...\n",
            "[nltk_data]   Package wordnet is already up-to-date!\n",
            "[nltk_data] Downloading package stopwords to /root/nltk_data...\n",
            "[nltk_data]   Package stopwords is already up-to-date!\n"
          ],
          "name": "stdout"
        }
      ]
    },
    {
      "cell_type": "markdown",
      "metadata": {
        "id": "Qz8ygJLT_3vY"
      },
      "source": [
        "## Load and preview data"
      ]
    },
    {
      "cell_type": "code",
      "metadata": {
        "id": "srxFf8KSjaIe"
      },
      "source": [
        "df = pd.read_csv('/content/Clean classified data_kwisha.csv')"
      ],
      "execution_count": 8,
      "outputs": []
    },
    {
      "cell_type": "code",
      "metadata": {
        "colab": {
          "base_uri": "https://localhost:8080/",
          "height": 302
        },
        "id": "GQfX9c_Lloas",
        "outputId": "1771b54c-c58c-4f05-b893-74788885c668"
      },
      "source": [
        "df.head()"
      ],
      "execution_count": 9,
      "outputs": [
        {
          "output_type": "execute_result",
          "data": {
            "text/html": [
              "<div>\n",
              "<style scoped>\n",
              "    .dataframe tbody tr th:only-of-type {\n",
              "        vertical-align: middle;\n",
              "    }\n",
              "\n",
              "    .dataframe tbody tr th {\n",
              "        vertical-align: top;\n",
              "    }\n",
              "\n",
              "    .dataframe thead th {\n",
              "        text-align: right;\n",
              "    }\n",
              "</style>\n",
              "<table border=\"1\" class=\"dataframe\">\n",
              "  <thead>\n",
              "    <tr style=\"text-align: right;\">\n",
              "      <th></th>\n",
              "      <th>Unnamed: 0</th>\n",
              "      <th>id</th>\n",
              "      <th>location</th>\n",
              "      <th>created_at</th>\n",
              "      <th>retweet_count</th>\n",
              "      <th>class</th>\n",
              "      <th>clean_text</th>\n",
              "      <th>date</th>\n",
              "      <th>year</th>\n",
              "      <th>month</th>\n",
              "      <th>hour</th>\n",
              "      <th>minute</th>\n",
              "    </tr>\n",
              "  </thead>\n",
              "  <tbody>\n",
              "    <tr>\n",
              "      <th>0</th>\n",
              "      <td>0</td>\n",
              "      <td>1427542334963605511</td>\n",
              "      <td>Naples, Italy</td>\n",
              "      <td>2021-08-17 08:06:29</td>\n",
              "      <td>0</td>\n",
              "      <td>drought</td>\n",
              "      <td>wired climate change increase appearance viole...</td>\n",
              "      <td>2021-08-17 08:06:29</td>\n",
              "      <td>2021</td>\n",
              "      <td>8</td>\n",
              "      <td>8</td>\n",
              "      <td>6</td>\n",
              "    </tr>\n",
              "    <tr>\n",
              "      <th>1</th>\n",
              "      <td>1</td>\n",
              "      <td>1427540945260720136</td>\n",
              "      <td>United Arab Emirates</td>\n",
              "      <td>2021-08-17 08:00:58</td>\n",
              "      <td>0</td>\n",
              "      <td>greentalk</td>\n",
              "      <td>excite join pricelessplanet coalition commit p...</td>\n",
              "      <td>2021-08-17 08:00:58</td>\n",
              "      <td>2021</td>\n",
              "      <td>8</td>\n",
              "      <td>8</td>\n",
              "      <td>0</td>\n",
              "    </tr>\n",
              "    <tr>\n",
              "      <th>2</th>\n",
              "      <td>2</td>\n",
              "      <td>1427533126084014087</td>\n",
              "      <td>Iten, Kenya</td>\n",
              "      <td>2021-08-17 07:29:54</td>\n",
              "      <td>6</td>\n",
              "      <td>drought</td>\n",
              "      <td>climate change negatively impact agricultural ...</td>\n",
              "      <td>2021-08-17 07:29:54</td>\n",
              "      <td>2021</td>\n",
              "      <td>8</td>\n",
              "      <td>7</td>\n",
              "      <td>29</td>\n",
              "    </tr>\n",
              "    <tr>\n",
              "      <th>3</th>\n",
              "      <td>3</td>\n",
              "      <td>1427531810662199313</td>\n",
              "      <td>Africa</td>\n",
              "      <td>2021-08-17 07:24:40</td>\n",
              "      <td>1</td>\n",
              "      <td>greentalk</td>\n",
              "      <td>enough even close let buckle climateaction mod...</td>\n",
              "      <td>2021-08-17 07:24:40</td>\n",
              "      <td>2021</td>\n",
              "      <td>8</td>\n",
              "      <td>7</td>\n",
              "      <td>24</td>\n",
              "    </tr>\n",
              "    <tr>\n",
              "      <th>4</th>\n",
              "      <td>4</td>\n",
              "      <td>1427526452623208453</td>\n",
              "      <td>Pacific North West</td>\n",
              "      <td>2021-08-17 07:03:23</td>\n",
              "      <td>0</td>\n",
              "      <td>floods</td>\n",
              "      <td>california need conservative propaganda save w...</td>\n",
              "      <td>2021-08-17 07:03:23</td>\n",
              "      <td>2021</td>\n",
              "      <td>8</td>\n",
              "      <td>7</td>\n",
              "      <td>3</td>\n",
              "    </tr>\n",
              "  </tbody>\n",
              "</table>\n",
              "</div>"
            ],
            "text/plain": [
              "   Unnamed: 0                   id              location  ... month  hour minute\n",
              "0           0  1427542334963605511         Naples, Italy  ...     8     8      6\n",
              "1           1  1427540945260720136  United Arab Emirates  ...     8     8      0\n",
              "2           2  1427533126084014087           Iten, Kenya  ...     8     7     29\n",
              "3           3  1427531810662199313               Africa   ...     8     7     24\n",
              "4           4  1427526452623208453    Pacific North West  ...     8     7      3\n",
              "\n",
              "[5 rows x 12 columns]"
            ]
          },
          "metadata": {},
          "execution_count": 9
        }
      ]
    },
    {
      "cell_type": "code",
      "metadata": {
        "colab": {
          "base_uri": "https://localhost:8080/"
        },
        "id": "9PYtz3VTmJvK",
        "outputId": "3104dd8f-8f53-43e3-a866-658c24188f45"
      },
      "source": [
        "df.columns"
      ],
      "execution_count": 10,
      "outputs": [
        {
          "output_type": "execute_result",
          "data": {
            "text/plain": [
              "Index(['Unnamed: 0', 'id', 'location', 'created_at', 'retweet_count', 'class',\n",
              "       'clean_text', 'date', 'year', 'month', 'hour', 'minute'],\n",
              "      dtype='object')"
            ]
          },
          "metadata": {},
          "execution_count": 10
        }
      ]
    },
    {
      "cell_type": "code",
      "metadata": {
        "colab": {
          "base_uri": "https://localhost:8080/",
          "height": 302
        },
        "id": "wPWAKW_fnzcA",
        "outputId": "69c865be-4c8c-4f02-ff67-c3d73df9cd65"
      },
      "source": [
        "df.head()"
      ],
      "execution_count": 11,
      "outputs": [
        {
          "output_type": "execute_result",
          "data": {
            "text/html": [
              "<div>\n",
              "<style scoped>\n",
              "    .dataframe tbody tr th:only-of-type {\n",
              "        vertical-align: middle;\n",
              "    }\n",
              "\n",
              "    .dataframe tbody tr th {\n",
              "        vertical-align: top;\n",
              "    }\n",
              "\n",
              "    .dataframe thead th {\n",
              "        text-align: right;\n",
              "    }\n",
              "</style>\n",
              "<table border=\"1\" class=\"dataframe\">\n",
              "  <thead>\n",
              "    <tr style=\"text-align: right;\">\n",
              "      <th></th>\n",
              "      <th>Unnamed: 0</th>\n",
              "      <th>id</th>\n",
              "      <th>location</th>\n",
              "      <th>created_at</th>\n",
              "      <th>retweet_count</th>\n",
              "      <th>class</th>\n",
              "      <th>clean_text</th>\n",
              "      <th>date</th>\n",
              "      <th>year</th>\n",
              "      <th>month</th>\n",
              "      <th>hour</th>\n",
              "      <th>minute</th>\n",
              "    </tr>\n",
              "  </thead>\n",
              "  <tbody>\n",
              "    <tr>\n",
              "      <th>0</th>\n",
              "      <td>0</td>\n",
              "      <td>1427542334963605511</td>\n",
              "      <td>Naples, Italy</td>\n",
              "      <td>2021-08-17 08:06:29</td>\n",
              "      <td>0</td>\n",
              "      <td>drought</td>\n",
              "      <td>wired climate change increase appearance viole...</td>\n",
              "      <td>2021-08-17 08:06:29</td>\n",
              "      <td>2021</td>\n",
              "      <td>8</td>\n",
              "      <td>8</td>\n",
              "      <td>6</td>\n",
              "    </tr>\n",
              "    <tr>\n",
              "      <th>1</th>\n",
              "      <td>1</td>\n",
              "      <td>1427540945260720136</td>\n",
              "      <td>United Arab Emirates</td>\n",
              "      <td>2021-08-17 08:00:58</td>\n",
              "      <td>0</td>\n",
              "      <td>greentalk</td>\n",
              "      <td>excite join pricelessplanet coalition commit p...</td>\n",
              "      <td>2021-08-17 08:00:58</td>\n",
              "      <td>2021</td>\n",
              "      <td>8</td>\n",
              "      <td>8</td>\n",
              "      <td>0</td>\n",
              "    </tr>\n",
              "    <tr>\n",
              "      <th>2</th>\n",
              "      <td>2</td>\n",
              "      <td>1427533126084014087</td>\n",
              "      <td>Iten, Kenya</td>\n",
              "      <td>2021-08-17 07:29:54</td>\n",
              "      <td>6</td>\n",
              "      <td>drought</td>\n",
              "      <td>climate change negatively impact agricultural ...</td>\n",
              "      <td>2021-08-17 07:29:54</td>\n",
              "      <td>2021</td>\n",
              "      <td>8</td>\n",
              "      <td>7</td>\n",
              "      <td>29</td>\n",
              "    </tr>\n",
              "    <tr>\n",
              "      <th>3</th>\n",
              "      <td>3</td>\n",
              "      <td>1427531810662199313</td>\n",
              "      <td>Africa</td>\n",
              "      <td>2021-08-17 07:24:40</td>\n",
              "      <td>1</td>\n",
              "      <td>greentalk</td>\n",
              "      <td>enough even close let buckle climateaction mod...</td>\n",
              "      <td>2021-08-17 07:24:40</td>\n",
              "      <td>2021</td>\n",
              "      <td>8</td>\n",
              "      <td>7</td>\n",
              "      <td>24</td>\n",
              "    </tr>\n",
              "    <tr>\n",
              "      <th>4</th>\n",
              "      <td>4</td>\n",
              "      <td>1427526452623208453</td>\n",
              "      <td>Pacific North West</td>\n",
              "      <td>2021-08-17 07:03:23</td>\n",
              "      <td>0</td>\n",
              "      <td>floods</td>\n",
              "      <td>california need conservative propaganda save w...</td>\n",
              "      <td>2021-08-17 07:03:23</td>\n",
              "      <td>2021</td>\n",
              "      <td>8</td>\n",
              "      <td>7</td>\n",
              "      <td>3</td>\n",
              "    </tr>\n",
              "  </tbody>\n",
              "</table>\n",
              "</div>"
            ],
            "text/plain": [
              "   Unnamed: 0                   id              location  ... month  hour minute\n",
              "0           0  1427542334963605511         Naples, Italy  ...     8     8      6\n",
              "1           1  1427540945260720136  United Arab Emirates  ...     8     8      0\n",
              "2           2  1427533126084014087           Iten, Kenya  ...     8     7     29\n",
              "3           3  1427531810662199313               Africa   ...     8     7     24\n",
              "4           4  1427526452623208453    Pacific North West  ...     8     7      3\n",
              "\n",
              "[5 rows x 12 columns]"
            ]
          },
          "metadata": {},
          "execution_count": 11
        }
      ]
    },
    {
      "cell_type": "code",
      "metadata": {
        "id": "I0i_3TGfoUGV"
      },
      "source": [
        "df.to_csv('clean classified data.csv')"
      ],
      "execution_count": 12,
      "outputs": []
    },
    {
      "cell_type": "code",
      "metadata": {
        "id": "FC2nwWRk2lBT"
      },
      "source": [
        ""
      ],
      "execution_count": 12,
      "outputs": []
    },
    {
      "cell_type": "code",
      "metadata": {
        "colab": {
          "base_uri": "https://localhost:8080/"
        },
        "id": "e0F0cSzKtLC9",
        "outputId": "48bbbe8a-9265-4d86-e85d-8f1326bd6445"
      },
      "source": [
        "df['class']"
      ],
      "execution_count": 13,
      "outputs": [
        {
          "output_type": "execute_result",
          "data": {
            "text/plain": [
              "0         drought\n",
              "1       greentalk\n",
              "2         drought\n",
              "3       greentalk\n",
              "4          floods\n",
              "          ...    \n",
              "5421      drought\n",
              "5422      drought\n",
              "5423      drought\n",
              "5424      drought\n",
              "5425      drought\n",
              "Name: class, Length: 5426, dtype: object"
            ]
          },
          "metadata": {},
          "execution_count": 13
        }
      ]
    },
    {
      "cell_type": "code",
      "metadata": {
        "id": "R8znjJJrxyky"
      },
      "source": [
        "from keras.preprocessing.text import Tokenizer\n",
        "tokenizer = Tokenizer()\n",
        "tokenizer.fit_on_texts(df['clean_text'])\n",
        "\n",
        "\n",
        "vocab_size = len(tokenizer.word_index) + 1  # Adding 1 because of reserved 0 index"
      ],
      "execution_count": 14,
      "outputs": []
    },
    {
      "cell_type": "markdown",
      "metadata": {
        "id": "p_b8q01drwqY"
      },
      "source": [
        "EDA"
      ]
    },
    {
      "cell_type": "code",
      "metadata": {
        "colab": {
          "base_uri": "https://localhost:8080/",
          "height": 682
        },
        "id": "hUgLaDZVtvqn",
        "outputId": "7b1a5c4c-06d5-48ba-f27e-70ba51e65f9a"
      },
      "source": [
        "#check the class distriburion\n",
        "import seaborn as sns\n",
        "import matplotlib.pyplot as plt\n",
        "print(df['class'].value_counts())\n",
        "x=df['class'].value_counts()\n",
        "f, ax = plt.subplots(figsize=(10, 8))\n",
        "sns.barplot(x.index,x)\n",
        "plt.gca().set_ylabel('class size')"
      ],
      "execution_count": 15,
      "outputs": [
        {
          "output_type": "stream",
          "text": [
            "renewable        2174\n",
            "drought          1120\n",
            "floods           1053\n",
            "air_polutants     439\n",
            "temperature       338\n",
            "greentalk         302\n",
            "Name: class, dtype: int64\n"
          ],
          "name": "stdout"
        },
        {
          "output_type": "stream",
          "text": [
            "/usr/local/lib/python3.7/dist-packages/seaborn/_decorators.py:43: FutureWarning: Pass the following variables as keyword args: x, y. From version 0.12, the only valid positional argument will be `data`, and passing other arguments without an explicit keyword will result in an error or misinterpretation.\n",
            "  FutureWarning\n"
          ],
          "name": "stderr"
        },
        {
          "output_type": "execute_result",
          "data": {
            "text/plain": [
              "Text(0, 0.5, 'class size')"
            ]
          },
          "metadata": {},
          "execution_count": 15
        },
        {
          "output_type": "display_data",
          "data": {
            "image/png": "[encoded data removed]",
            "text/plain": [
              "<Figure size 720x576 with 1 Axes>"
            ]
          },
          "metadata": {
            "needs_background": "light"
          }
        }
      ]
    },
    {
      "cell_type": "code",
      "metadata": {
        "id": "ZCbK2jmpn0j5"
      },
      "source": [
        "# from sklearn import preprocessing\n",
        "# le = preprocessing.LabelEncoder()\n",
        "# df['class1'] = le.fit_transform(df['class'])"
      ],
      "execution_count": 16,
      "outputs": []
    },
    {
      "cell_type": "code",
      "metadata": {
        "colab": {
          "base_uri": "https://localhost:8080/"
        },
        "id": "QU70TjKjv3lP",
        "outputId": "a70baea5-2f2e-4afb-dbe7-e9df192dc74f"
      },
      "source": [
        "! pip install wordcloud"
      ],
      "execution_count": 17,
      "outputs": [
        {
          "output_type": "stream",
          "text": [
            "Requirement already satisfied: wordcloud in /usr/local/lib/python3.7/dist-packages (1.5.0)\n",
            "Requirement already satisfied: pillow in /usr/local/lib/python3.7/dist-packages (from wordcloud) (7.1.2)\n",
            "Requirement already satisfied: numpy>=1.6.1 in /usr/local/lib/python3.7/dist-packages (from wordcloud) (1.19.5)\n"
          ],
          "name": "stdout"
        }
      ]
    },
    {
      "cell_type": "code",
      "metadata": {
        "id": "hPH--4DWv8T2"
      },
      "source": [
        "# from wordcloud import WordCloud\n",
        "# import matplotlib.pyplot as plt\n",
        "# wc = WordCloud()\n",
        "# wc.generate(df.clean_text)\n",
        "# plt.imshow(wc, interpolation=\"bilinear\")\n",
        "# plt.axis('off')\n",
        "# plt.show()"
      ],
      "execution_count": 18,
      "outputs": []
    },
    {
      "cell_type": "markdown",
      "metadata": {
        "id": "z2e_PYE53wV0"
      },
      "source": [
        "## Dealing with class imbalance"
      ]
    },
    {
      "cell_type": "code",
      "metadata": {
        "id": "-IuflS2S3ya7"
      },
      "source": [
        "import tensorflow as tf\n",
        "import os\n",
        "import datetime\n",
        "import tensorflow_hub as hub\n",
        "from __future__ import absolute_import,division,print_function,unicode_literals"
      ],
      "execution_count": 19,
      "outputs": []
    },
    {
      "cell_type": "code",
      "metadata": {
        "colab": {
          "base_uri": "https://localhost:8080/"
        },
        "id": "PNVobV773JYx",
        "outputId": "a5c43859-30cb-447c-996f-2a9eb65c7db0"
      },
      "source": [
        "# Get the counts of the target classes\n",
        "df['class'].value_counts()"
      ],
      "execution_count": 20,
      "outputs": [
        {
          "output_type": "execute_result",
          "data": {
            "text/plain": [
              "renewable        2174\n",
              "drought          1120\n",
              "floods           1053\n",
              "air_polutants     439\n",
              "temperature       338\n",
              "greentalk         302\n",
              "Name: class, dtype: int64"
            ]
          },
          "metadata": {},
          "execution_count": 20
        }
      ]
    },
    {
      "cell_type": "code",
      "metadata": {
        "id": "SHRncDG-2qWF"
      },
      "source": [
        "# We split the dataset to train and test datasets, 80/20 split \n",
        "X_train,X_test,y_train,y_test=train_test_split(df,df[\"class\"],test_size=0.2,random_state=111,)"
      ],
      "execution_count": 21,
      "outputs": []
    },
    {
      "cell_type": "markdown",
      "metadata": {
        "id": "HcUPYyEdCaNa"
      },
      "source": [
        "We are going to assign class weights to deal with imbalance. Due to the difference in each class, the algorithms tend to get biased towards the majority values present and don’t perform well on the minority values.\n",
        "\n",
        "The difference in weights will influence the classification of the classes during the training phase. The whole purpose is to penalize the misclassification made by the minority class by setting a higher class weight and at the same time reducing weight for the majority class. "
      ]
    },
    {
      "cell_type": "code",
      "metadata": {
        "id": "ge935DLv1yhm"
      },
      "source": [
        "# We compute classweights\n",
        "from sklearn.utils import class_weight\n",
        "class_weights=list(class_weight.compute_class_weight('balanced',np.unique(df['class']),df['class']))"
      ],
      "execution_count": 22,
      "outputs": []
    },
    {
      "cell_type": "code",
      "metadata": {
        "colab": {
          "base_uri": "https://localhost:8080/"
        },
        "id": "wOTbFqws2dpk",
        "outputId": "4b276722-f0a1-4345-b92a-7cc3c9f55b86"
      },
      "source": [
        "# We sort the class weights \n",
        "class_weights.sort()\n",
        "class_weights"
      ],
      "execution_count": 23,
      "outputs": [
        {
          "output_type": "execute_result",
          "data": {
            "text/plain": [
              "[0.4159766942655627,\n",
              " 0.8074404761904762,\n",
              " 0.8588160810383033,\n",
              " 2.0599848139711465,\n",
              " 2.675542406311637,\n",
              " 2.9944812362030904]"
            ]
          },
          "metadata": {},
          "execution_count": 23
        }
      ]
    },
    {
      "cell_type": "code",
      "metadata": {
        "id": "5eeOknj42grd"
      },
      "source": [
        "# we encode the target classes and assigning the class weights to each class index\n",
        "weights={}\n",
        "for index, weight in enumerate(class_weights):\n",
        "  weights[index]=weight"
      ],
      "execution_count": 24,
      "outputs": []
    },
    {
      "cell_type": "code",
      "metadata": {
        "colab": {
          "base_uri": "https://localhost:8080/"
        },
        "id": "lN-OMfp43iTW",
        "outputId": "58349edc-60ee-406d-cb1c-aa3b749588b0"
      },
      "source": [
        "weights"
      ],
      "execution_count": 25,
      "outputs": [
        {
          "output_type": "execute_result",
          "data": {
            "text/plain": [
              "{0: 0.4159766942655627,\n",
              " 1: 0.8074404761904762,\n",
              " 2: 0.8588160810383033,\n",
              " 3: 2.0599848139711465,\n",
              " 4: 2.675542406311637,\n",
              " 5: 2.9944812362030904}"
            ]
          },
          "metadata": {},
          "execution_count": 25
        }
      ]
    },
    {
      "cell_type": "code",
      "metadata": {
        "colab": {
          "base_uri": "https://localhost:8080/"
        },
        "id": "kL3jbvWq6jkz",
        "outputId": "fe0d68e0-33a8-487f-86b2-d3296c02c05e"
      },
      "source": [
        "#  Check the columns\n",
        "df.columns"
      ],
      "execution_count": 26,
      "outputs": [
        {
          "output_type": "execute_result",
          "data": {
            "text/plain": [
              "Index(['Unnamed: 0', 'id', 'location', 'created_at', 'retweet_count', 'class',\n",
              "       'clean_text', 'date', 'year', 'month', 'hour', 'minute'],\n",
              "      dtype='object')"
            ]
          },
          "metadata": {},
          "execution_count": 26
        }
      ]
    },
    {
      "cell_type": "code",
      "metadata": {
        "id": "T8f-eC5t4GkN"
      },
      "source": [
        "# Coverting the datasets into tensors. We feed the input X value and product\n",
        "dataset_train=tf.data.Dataset.from_tensor_slices((X_train['clean_text'].values,X_train['class'].values))\n",
        "dataset_test=tf.data.Dataset.from_tensor_slices((X_test['clean_text'].values,X_test['class'].values))"
      ],
      "execution_count": 27,
      "outputs": []
    },
    {
      "cell_type": "code",
      "metadata": {
        "id": "_J0REEtp6cAT"
      },
      "source": [
        "# Coverting the datasets into tensors. We feed the input X value and product\n",
        "dataset_train=tf.data.Dataset.from_tensor_slices((X_train['clean_text'].values,X_train['class'].values))\n",
        "dataset_test=tf.data.Dataset.from_tensor_slices((X_test['clean_text'].values,X_test['class'].values))"
      ],
      "execution_count": 28,
      "outputs": []
    },
    {
      "cell_type": "code",
      "metadata": {
        "colab": {
          "base_uri": "https://localhost:8080/"
        },
        "id": "WkArLUej4lFc",
        "outputId": "eff3c528-be98-4c30-a2ed-a01db54b0720"
      },
      "source": [
        "# Print text and target columns\n",
        "for text, target in dataset_train.take(5):\n",
        "  print('Tweet:{},Target:{}'.format(text,target))\n",
        "print('************************')\n",
        "for text, target in dataset_test.take(5):\n",
        "  print('Tweet:{},Target:{}'.format(text,target))"
      ],
      "execution_count": 29,
      "outputs": [
        {
          "output_type": "stream",
          "text": [
            "Tweet:b'sudair solar pv project capacity gw large saudi arabiaand top globallywhen https co zuhxt',Target:b'renewable'\n",
            "Tweet:b'provide harvest drought shortage',Target:b'drought'\n",
            "Tweet:b'nick hamman http co z rbdup solar solution',Target:b'renewable'\n",
            "Tweet:b'ca crisis bad dairy cattle industry kill animal urge ca help rancher trans https co vn l',Target:b'drought'\n",
            "Tweet:b'climate change combine overfishing threatens food security nation https co pt f zwb',Target:b'drought'\n",
            "************************\n",
            "Tweet:b'shift away fossil fuel take time analyst say imperative south africa accelerate https co sfjcbngwot',Target:b'air_polutants'\n",
            "Tweet:b'el ejido h mostly clear wind e gust temperature c humidity pressure http co q r gchj',Target:b'renewable'\n",
            "Tweet:b'renewablejobs hi please renewable energy system engineering graduate look job placement noble office',Target:b'renewable'\n",
            "Tweet:b'get caught flash flood bone still make alhamdulillah',Target:b'floods'\n",
            "Tweet:b'aramco join group build giant solar plant saudiarabia business oott \\xd8\\xa7\\xd9\\x84\\xd8\\xb3\\xd8\\xb9\\xd9\\x88\\xd8\\xaf\\xd9\\x8a\\xd8\\xa9 \\xd8\\xa7\\xd9\\x84\\xd9\\x82\\xd8\\xb7\\xd8\\xa7\\xd8\\xb9 \\xd8\\xa7\\xd9\\x84\\xd9\\x86\\xd9\\x81\\xd8\\xb7\\xd9\\x8a https co xocgytwsxv',Target:b'renewable'\n"
          ],
          "name": "stdout"
        }
      ]
    },
    {
      "cell_type": "code",
      "metadata": {
        "id": "b9m76O2f6LnI"
      },
      "source": [
        "# Convert target column from string to numerical using tensorflow lookup hash table\n",
        "table=tf.lookup.StaticHashTable(\n",
        "    initializer=tf.lookup.KeyValueTensorInitializer(\n",
        "        keys=tf.constant(['renewable','drought','floods','air_polutants','temperature','greentalk']),\n",
        "        values=tf.constant([0,1,2,3,4,5]),\n",
        "    ),\n",
        "    default_value=tf.constant(-1),\n",
        "    name='target_encoding'\n",
        ")\n",
        "@tf.function #converts regular python code to a callable Tensorflow graph function, \n",
        "              #which is usually more performant and python independent\n",
        "def target(x):\n",
        "  return table.lookup(x)"
      ],
      "execution_count": 30,
      "outputs": []
    },
    {
      "cell_type": "code",
      "metadata": {
        "id": "sbvok71x7ipY"
      },
      "source": [
        "# Callable fi=unction that returns the class of text\n",
        "def show_batch(dataset,size=5):\n",
        "  for batch,label in dataset.take(size):\n",
        "    print(batch.numpy())\n",
        "    print(target(label).numpy())"
      ],
      "execution_count": 31,
      "outputs": []
    },
    {
      "cell_type": "code",
      "metadata": {
        "colab": {
          "base_uri": "https://localhost:8080/"
        },
        "id": "fyHsKuPB79Iy",
        "outputId": "2e02cc88-e96e-467e-899b-436eb3fa74b6"
      },
      "source": [
        "show_batch(dataset_test,5)"
      ],
      "execution_count": 32,
      "outputs": [
        {
          "output_type": "stream",
          "text": [
            "b'shift away fossil fuel take time analyst say imperative south africa accelerate https co sfjcbngwot'\n",
            "3\n",
            "b'el ejido h mostly clear wind e gust temperature c humidity pressure http co q r gchj'\n",
            "0\n",
            "b'renewablejobs hi please renewable energy system engineering graduate look job placement noble office'\n",
            "0\n",
            "b'get caught flash flood bone still make alhamdulillah'\n",
            "2\n",
            "b'aramco join group build giant solar plant saudiarabia business oott \\xd8\\xa7\\xd9\\x84\\xd8\\xb3\\xd8\\xb9\\xd9\\x88\\xd8\\xaf\\xd9\\x8a\\xd8\\xa9 \\xd8\\xa7\\xd9\\x84\\xd9\\x82\\xd8\\xb7\\xd8\\xa7\\xd8\\xb9 \\xd8\\xa7\\xd9\\x84\\xd9\\x86\\xd9\\x81\\xd8\\xb7\\xd9\\x8a https co xocgytwsxv'\n",
            "0\n"
          ],
          "name": "stdout"
        }
      ]
    },
    {
      "cell_type": "markdown",
      "metadata": {
        "id": "ufdVFRTBHtR2"
      },
      "source": [
        "We can print n-rows of target column and their target classes"
      ]
    },
    {
      "cell_type": "code",
      "metadata": {
        "id": "U-xZiPwm_tvp"
      },
      "source": [
        "# Creating a fetch function to pass and return text value as is. Also we one encode the target value\n",
        "def fetch(text,labels):\n",
        "  return text,tf.one_hot(target(labels),6)"
      ],
      "execution_count": 33,
      "outputs": []
    },
    {
      "cell_type": "code",
      "metadata": {
        "id": "abdNHVPBAFH8"
      },
      "source": [
        "\n",
        "# Map the fetch function to the train and test dataset \n",
        "train_data_f=dataset_train.map(fetch)\n",
        "test_data_f=dataset_test.map(fetch)"
      ],
      "execution_count": 34,
      "outputs": []
    },
    {
      "cell_type": "code",
      "metadata": {
        "colab": {
          "base_uri": "https://localhost:8080/"
        },
        "id": "Ysw-fnsGAOd7",
        "outputId": "e861874b-28a0-4cc3-dec6-7118a7d9765f"
      },
      "source": [
        "next(iter(train_data_f))"
      ],
      "execution_count": 35,
      "outputs": [
        {
          "output_type": "execute_result",
          "data": {
            "text/plain": [
              "(<tf.Tensor: shape=(), dtype=string, numpy=b'sudair solar pv project capacity gw large saudi arabiaand top globallywhen https co zuhxt'>,\n",
              " <tf.Tensor: shape=(6,), dtype=float32, numpy=array([1., 0., 0., 0., 0., 0.], dtype=float32)>)"
            ]
          },
          "metadata": {},
          "execution_count": 35
        }
      ]
    },
    {
      "cell_type": "code",
      "metadata": {
        "colab": {
          "base_uri": "https://localhost:8080/"
        },
        "id": "T3OBpE4RAZ5g",
        "outputId": "998c6c8e-c95a-4619-96b5-ebfbd7357061"
      },
      "source": [
        "# Creates batches of tensors in tensors\n",
        "train_data,train_labels=next(iter(train_data_f.batch(5)))\n",
        "train_data,train_labels"
      ],
      "execution_count": 36,
      "outputs": [
        {
          "output_type": "execute_result",
          "data": {
            "text/plain": [
              "(<tf.Tensor: shape=(5,), dtype=string, numpy=\n",
              " array([b'sudair solar pv project capacity gw large saudi arabiaand top globallywhen https co zuhxt',\n",
              "        b'provide harvest drought shortage',\n",
              "        b'nick hamman http co z rbdup solar solution',\n",
              "        b'ca crisis bad dairy cattle industry kill animal urge ca help rancher trans https co vn l',\n",
              "        b'climate change combine overfishing threatens food security nation https co pt f zwb'],\n",
              "       dtype=object)>, <tf.Tensor: shape=(5, 6), dtype=float32, numpy=\n",
              " array([[1., 0., 0., 0., 0., 0.],\n",
              "        [0., 1., 0., 0., 0., 0.],\n",
              "        [1., 0., 0., 0., 0., 0.],\n",
              "        [0., 1., 0., 0., 0., 0.],\n",
              "        [0., 1., 0., 0., 0., 0.]], dtype=float32)>)"
            ]
          },
          "metadata": {},
          "execution_count": 36
        }
      ]
    },
    {
      "cell_type": "code",
      "metadata": {
        "colab": {
          "base_uri": "https://localhost:8080/"
        },
        "id": "yZ8_T2hWBGeo",
        "outputId": "527ef7d1-72f4-4ad3-bf6e-dfe7520fa05f"
      },
      "source": [
        "# Creating a embedding layer by using pretrained embedding layer to enable us to convert each word into a fixed length vector of defined size\n",
        "embedding='https://tfhub.dev/google/tf2-preview/nnlm-en-dim128/1'\n",
        "hub_layer=hub.KerasLayer(embedding,output_shape=[128],input_shape=[],\n",
        "                        dtype=tf.string,trainable=True)# The output shape is 128\n",
        "hub_layer(train_data[:1])"
      ],
      "execution_count": 37,
      "outputs": [
        {
          "output_type": "execute_result",
          "data": {
            "text/plain": [
              "<tf.Tensor: shape=(1, 128), dtype=float32, numpy=\n",
              "array([[-0.25857082, -0.03358521,  0.18653055, -0.2388049 ,  0.20501457,\n",
              "         0.02456775,  0.01860405, -0.13713637, -0.15329532,  0.2732744 ,\n",
              "        -0.01152269,  0.11092133,  0.09912161, -0.02110232,  0.06281215,\n",
              "        -0.12594002,  0.1148983 ,  0.0663828 ,  0.03998982, -0.00171762,\n",
              "        -0.02013695, -0.32855833,  0.241918  , -0.05570541,  0.03161884,\n",
              "        -0.1263835 ,  0.01395128,  0.1453646 , -0.05246278,  0.0376394 ,\n",
              "         0.17924018, -0.09233581, -0.02648976, -0.08710196, -0.1615573 ,\n",
              "        -0.03817734,  0.00301067,  0.02174203,  0.08918054,  0.04608176,\n",
              "        -0.07785966,  0.05985419, -0.11454432,  0.00988869, -0.03962754,\n",
              "        -0.07149867, -0.03534734, -0.06996195, -0.0205115 ,  0.04312464,\n",
              "        -0.11168173,  0.14624771, -0.18595003,  0.05579992, -0.14118056,\n",
              "         0.10367499,  0.00039232, -0.08509452,  0.11058893,  0.15159303,\n",
              "         0.04082303,  0.05383445, -0.05944769, -0.00292218, -0.02368171,\n",
              "        -0.17095673, -0.18154283, -0.15728997, -0.16145672,  0.10320096,\n",
              "        -0.11330827,  0.03041128,  0.05486048,  0.14527234,  0.23063229,\n",
              "        -0.13274434, -0.11686423, -0.00066918,  0.13102956,  0.04592453,\n",
              "        -0.1248507 , -0.01003877,  0.07213394, -0.08609978,  0.05800132,\n",
              "         0.10526196,  0.14900915,  0.03723019, -0.10247291,  0.12746762,\n",
              "         0.08326174,  0.06495475, -0.01037349, -0.14992169,  0.07368761,\n",
              "        -0.04471869, -0.09656353,  0.00138016, -0.19773738, -0.07089218,\n",
              "         0.1181704 , -0.10866934, -0.07099373,  0.08950526,  0.0801029 ,\n",
              "         0.06911752,  0.1141372 ,  0.13427627, -0.07219838, -0.17703938,\n",
              "         0.05560631,  0.0335758 , -0.07615109,  0.10846982, -0.01213316,\n",
              "         0.07598332, -0.02914759, -0.26070395,  0.00935286, -0.08546145,\n",
              "         0.05015494,  0.03130832, -0.01807312, -0.05070389, -0.09517396,\n",
              "         0.08177037, -0.00171732, -0.09362337]], dtype=float32)>"
            ]
          },
          "metadata": {},
          "execution_count": 37
        }
      ]
    },
    {
      "cell_type": "code",
      "metadata": {
        "colab": {
          "base_uri": "https://localhost:8080/"
        },
        "id": "BITcisXQDNMT",
        "outputId": "67ce7afc-df61-4f6e-e882-3ddcfbed1141"
      },
      "source": [
        "# We create a keras sequential model.\n",
        "# Sequential groups a linear stack of layers into a tf.keras.Model.\n",
        "# Sequential provides training and inference features on this model.\n",
        "\n",
        "model=tf.keras.Sequential()\n",
        "model.add(hub_layer)\n",
        "for units in [128,128,64,32]:\n",
        "  model.add(tf.keras.layers.Dense(units,activation='relu'))\n",
        "  model.add(tf.keras.layers.Dropout(0.3))\n",
        "\n",
        "# We specify the output as 6 predicted values \n",
        "model.add(tf.keras.layers.Dense(6,activation='softmax'))\n",
        "\n",
        "model.summary()"
      ],
      "execution_count": 38,
      "outputs": [
        {
          "output_type": "stream",
          "text": [
            "Model: \"sequential\"\n",
            "_________________________________________________________________\n",
            "Layer (type)                 Output Shape              Param #   \n",
            "=================================================================\n",
            "keras_layer (KerasLayer)     (None, 128)               124642688 \n",
            "_________________________________________________________________\n",
            "dense (Dense)                (None, 128)               16512     \n",
            "_________________________________________________________________\n",
            "dropout (Dropout)            (None, 128)               0         \n",
            "_________________________________________________________________\n",
            "dense_1 (Dense)              (None, 128)               16512     \n",
            "_________________________________________________________________\n",
            "dropout_1 (Dropout)          (None, 128)               0         \n",
            "_________________________________________________________________\n",
            "dense_2 (Dense)              (None, 64)                8256      \n",
            "_________________________________________________________________\n",
            "dropout_2 (Dropout)          (None, 64)                0         \n",
            "_________________________________________________________________\n",
            "dense_3 (Dense)              (None, 32)                2080      \n",
            "_________________________________________________________________\n",
            "dropout_3 (Dropout)          (None, 32)                0         \n",
            "_________________________________________________________________\n",
            "dense_4 (Dense)              (None, 6)                 198       \n",
            "=================================================================\n",
            "Total params: 124,686,246\n",
            "Trainable params: 124,686,246\n",
            "Non-trainable params: 0\n",
            "_________________________________________________________________\n"
          ],
          "name": "stdout"
        }
      ]
    },
    {
      "cell_type": "code",
      "metadata": {
        "colab": {
          "base_uri": "https://localhost:8080/",
          "height": 303,
          "referenced_widgets": [
            "865c3d06a7694fca833157f4117f8679",
            "88b84570eb8b4b659fad459f302c3171",
            "acbd9847a6bd43b197b0f8638e39e7c0",
            "2d145d6f00f0481babadb550ff1d8a1d",
            "ab227d5a3afb45709d8e209b8148b2ee",
            "a3db62e0032e4e80ba1b434c67a6f6c8",
            "282a13b6328c4b7ebe2174d90a2caa05",
            "67f83410c29d427d8a074f4f315d3007"
          ]
        },
        "id": "KI4C3PBWVL4M",
        "outputId": "a32048c0-7156-46dc-a667-cfedd1ec5e6b"
      },
      "source": [
        "# Initialize wandb with your project name\n",
        "run = wandb.init(project='my-keras-integration',\n",
        "                 config={  # and include hyperparameters and metadata\n",
        "                     \"learning_rate\": 0.005,\n",
        "                     \"epochs\": 10,\n",
        "                     \"batch_size\": 64,\n",
        "                     \"loss_function\": \"categorical_crossentropy\",\n",
        "                     \"architecture\": \"RNN\",\n",
        "                     \"dataset\": \"df\"\n",
        "                     })"
      ],
      "execution_count": 39,
      "outputs": [
        {
          "output_type": "display_data",
          "data": {
            "text/html": [
              "Finishing last run (ID:18mg3n57) before initializing another..."
            ],
            "text/plain": [
              "<IPython.core.display.HTML object>"
            ]
          },
          "metadata": {}
        },
        {
          "output_type": "display_data",
          "data": {
            "text/html": [
              "<br/>Waiting for W&B process to finish, PID 2309<br/>Program ended successfully."
            ],
            "text/plain": [
              "<IPython.core.display.HTML object>"
            ]
          },
          "metadata": {}
        },
        {
          "output_type": "display_data",
          "data": {
            "application/vnd.jupyter.widget-view+json": {
              "model_id": "865c3d06a7694fca833157f4117f8679",
              "version_minor": 0,
              "version_major": 2
            },
            "text/plain": [
              "VBox(children=(Label(value=' 0.00MB of 0.00MB uploaded (0.00MB deduped)\\r'), FloatProgress(value=1.0, max=1.0)…"
            ]
          },
          "metadata": {}
        },
        {
          "output_type": "display_data",
          "data": {
            "text/html": [
              "Find user logs for this run at: <code>/content/wandb/run-20210819_074336-18mg3n57/logs/debug.log</code>"
            ],
            "text/plain": [
              "<IPython.core.display.HTML object>"
            ]
          },
          "metadata": {}
        },
        {
          "output_type": "display_data",
          "data": {
            "text/html": [
              "Find internal logs for this run at: <code>/content/wandb/run-20210819_074336-18mg3n57/logs/debug-internal.log</code>"
            ],
            "text/plain": [
              "<IPython.core.display.HTML object>"
            ]
          },
          "metadata": {}
        },
        {
          "output_type": "display_data",
          "data": {
            "text/html": [
              "Synced 5 W&B file(s), 0 media file(s), 0 artifact file(s) and 0 other file(s)"
            ],
            "text/plain": [
              "<IPython.core.display.HTML object>"
            ]
          },
          "metadata": {}
        },
        {
          "output_type": "display_data",
          "data": {
            "text/html": [
              "\n",
              "                    <br/>Synced <strong style=\"color:#cdcd00\">colorful-sound-31</strong>: <a href=\"https://wandb.ai/kanoak/Climate%20change/runs/18mg3n57\" target=\"_blank\">https://wandb.ai/kanoak/Climate%20change/runs/18mg3n57</a><br/>\n",
              "                "
            ],
            "text/plain": [
              "<IPython.core.display.HTML object>"
            ]
          },
          "metadata": {}
        },
        {
          "output_type": "display_data",
          "data": {
            "text/html": [
              "...Successfully finished last run (ID:18mg3n57). Initializing new run:<br/><br/>"
            ],
            "text/plain": [
              "<IPython.core.display.HTML object>"
            ]
          },
          "metadata": {}
        },
        {
          "output_type": "display_data",
          "data": {
            "text/html": [
              "\n",
              "                Tracking run with wandb version 0.12.0<br/>\n",
              "                Syncing run <strong style=\"color:#cdcd00\">sage-breeze-20</strong> to <a href=\"https://wandb.ai\" target=\"_blank\">Weights & Biases</a> <a href=\"https://docs.wandb.com/integrations/jupyter.html\" target=\"_blank\">(Documentation)</a>.<br/>\n",
              "                Project page: <a href=\"https://wandb.ai/kanoak/my-keras-integration\" target=\"_blank\">https://wandb.ai/kanoak/my-keras-integration</a><br/>\n",
              "                Run page: <a href=\"https://wandb.ai/kanoak/my-keras-integration/runs/3hk9nzc5\" target=\"_blank\">https://wandb.ai/kanoak/my-keras-integration/runs/3hk9nzc5</a><br/>\n",
              "                Run data is saved locally in <code>/content/wandb/run-20210819_074359-3hk9nzc5</code><br/><br/>\n",
              "            "
            ],
            "text/plain": [
              "<IPython.core.display.HTML object>"
            ]
          },
          "metadata": {}
        }
      ]
    },
    {
      "cell_type": "code",
      "metadata": {
        "colab": {
          "base_uri": "https://localhost:8080/"
        },
        "id": "uw12IBRVEHzA",
        "outputId": "4a407b68-33b6-4ccc-b8a1-cdee2df92c83"
      },
      "source": [
        "\n",
        "# We compile using adam optimizer\n",
        "config = wandb.config  # We'll use this to configure our experiment\n",
        "tf.keras.backend.clear_session()\n",
        "\n",
        "model.summary()\n",
        "model.compile(optimizer=tf.keras.optimizers.Adam(config.learning_rate),\n",
        "              loss=tf.keras.losses.CategoricalCrossentropy(from_logits=True),\n",
        "              metrics=['accuracy'])\n"
      ],
      "execution_count": 40,
      "outputs": [
        {
          "output_type": "stream",
          "text": [
            "Model: \"sequential\"\n",
            "_________________________________________________________________\n",
            "Layer (type)                 Output Shape              Param #   \n",
            "=================================================================\n",
            "keras_layer (KerasLayer)     (None, 128)               124642688 \n",
            "_________________________________________________________________\n",
            "dense (Dense)                (None, 128)               16512     \n",
            "_________________________________________________________________\n",
            "dropout (Dropout)            (None, 128)               0         \n",
            "_________________________________________________________________\n",
            "dense_1 (Dense)              (None, 128)               16512     \n",
            "_________________________________________________________________\n",
            "dropout_1 (Dropout)          (None, 128)               0         \n",
            "_________________________________________________________________\n",
            "dense_2 (Dense)              (None, 64)                8256      \n",
            "_________________________________________________________________\n",
            "dropout_2 (Dropout)          (None, 64)                0         \n",
            "_________________________________________________________________\n",
            "dense_3 (Dense)              (None, 32)                2080      \n",
            "_________________________________________________________________\n",
            "dropout_3 (Dropout)          (None, 32)                0         \n",
            "_________________________________________________________________\n",
            "dense_4 (Dense)              (None, 6)                 198       \n",
            "=================================================================\n",
            "Total params: 124,686,246\n",
            "Trainable params: 124,686,246\n",
            "Non-trainable params: 0\n",
            "_________________________________________________________________\n"
          ],
          "name": "stdout"
        }
      ]
    },
    {
      "cell_type": "markdown",
      "metadata": {
        "id": "GpVvvzQYMCYV"
      },
      "source": [
        "We will evaluate the model using different metrics"
      ]
    },
    {
      "cell_type": "code",
      "metadata": {
        "id": "nGWJkJQsEc70"
      },
      "source": [
        "# We shuffle and train the train and test data\n",
        "train_data_f=train_data_f.shuffle(70000).batch(512)\n",
        "test_data_f=test_data_f.batch(512)"
      ],
      "execution_count": 41,
      "outputs": []
    },
    {
      "cell_type": "code",
      "metadata": {
        "id": "V5wiY50UQMkS"
      },
      "source": [
        "\n",
        "# Create a copy of our model\n",
        "model2=model"
      ],
      "execution_count": 42,
      "outputs": []
    },
    {
      "cell_type": "code",
      "metadata": {
        "colab": {
          "base_uri": "https://localhost:8080/"
        },
        "id": "gSUYh7EzEuAj",
        "outputId": "ebf12788-f4af-4d73-a5b2-7b8706fc2681"
      },
      "source": [
        "# we train the data using 10 epochs and using class weights. bias is therefore introduced to the model and computed.\n",
        "# we will perform checks to ensure each class performs well\n",
        "history=model.fit(train_data_f,epochs=10,\n",
        "                  validation_data=test_data_f, class_weight=weights,\n",
        "                  verbose=1)"
      ],
      "execution_count": 43,
      "outputs": [
        {
          "metadata": {
            "tags": null
          },
          "name": "stdout",
          "output_type": "stream",
          "text": [
            "Epoch 1/10\n"
          ]
        },
        {
          "metadata": {
            "tags": null
          },
          "name": "stderr",
          "output_type": "stream",
          "text": [
            "/usr/local/lib/python3.7/dist-packages/keras/backend.py:4847: UserWarning: \"`categorical_crossentropy` received `from_logits=True`, but the `output` argument was produced by a sigmoid or softmax activation and thus does not represent logits. Was this intended?\"\n",
            "  '\"`categorical_crossentropy` received `from_logits=True`, but '\n"
          ]
        },
        {
          "output_type": "stream",
          "text": [
            "9/9 [==============================] - 18s 2s/step - loss: 1.7344 - accuracy: 0.2470 - val_loss: 1.4627 - val_accuracy: 0.5764\n",
            "Epoch 2/10\n",
            "9/9 [==============================] - 14s 2s/step - loss: 1.1851 - accuracy: 0.5433 - val_loss: 0.8548 - val_accuracy: 0.7643\n",
            "Epoch 3/10\n",
            "9/9 [==============================] - 13s 1s/step - loss: 0.6223 - accuracy: 0.7698 - val_loss: 0.7143 - val_accuracy: 0.8039\n",
            "Epoch 4/10\n",
            "9/9 [==============================] - 13s 1s/step - loss: 0.2804 - accuracy: 0.9071 - val_loss: 0.7078 - val_accuracy: 0.8315\n",
            "Epoch 5/10\n",
            "9/9 [==============================] - 13s 1s/step - loss: 0.1537 - accuracy: 0.9618 - val_loss: 0.7978 - val_accuracy: 0.8407\n",
            "Epoch 6/10\n",
            "9/9 [==============================] - 13s 1s/step - loss: 0.1158 - accuracy: 0.9726 - val_loss: 0.7832 - val_accuracy: 0.8453\n",
            "Epoch 7/10\n",
            "9/9 [==============================] - 14s 1s/step - loss: 0.0970 - accuracy: 0.9765 - val_loss: 0.7442 - val_accuracy: 0.8481\n",
            "Epoch 8/10\n",
            "9/9 [==============================] - 14s 1s/step - loss: 0.0995 - accuracy: 0.9772 - val_loss: 0.7283 - val_accuracy: 0.8462\n",
            "Epoch 9/10\n",
            "9/9 [==============================] - 14s 2s/step - loss: 0.0680 - accuracy: 0.9820 - val_loss: 0.7968 - val_accuracy: 0.8370\n",
            "Epoch 10/10\n",
            "9/9 [==============================] - 13s 1s/step - loss: 0.0709 - accuracy: 0.9797 - val_loss: 0.7905 - val_accuracy: 0.8435\n"
          ],
          "name": "stdout"
        }
      ]
    },
    {
      "cell_type": "markdown",
      "metadata": {
        "id": "WFgh_G1AM_h5"
      },
      "source": [
        "The  metrics after the 10th epoch/ loss: 0.2752 - accuracy: 0.9191 - val_loss: 0.5834 - val_accuracy: 0.8425\n",
        "The model is performing well"
      ]
    },
    {
      "cell_type": "code",
      "metadata": {
        "colab": {
          "base_uri": "https://localhost:8080/",
          "height": 478,
          "referenced_widgets": [
            "5acd6a89f2f749bd93ffe7aaa6dabd99",
            "f239e337c46942b3b34652b09d32e489",
            "81b30d797e694808927b6c8978d05044",
            "7c6db23829be4f798a0116ca3227909d",
            "8953017a02814d83a0ef1ac50c183409",
            "b99189f1a5c8453088f0036d8e46cff1",
            "365af64926cd42cf95f177cebab97ed1",
            "0243b67373754d65a4aa39f3dc55a5c1"
          ]
        },
        "id": "LQLGlj5-_R9m",
        "outputId": "a3cf10ab-a974-43d0-9194-94fc7553deeb"
      },
      "source": [
        "loss, accuracy = model.evaluate(dataset_test.map(fetch).batch(1121),verbose=2)\n",
        "print('Test Error Rate: ', round((1 - accuracy) * 100, 2))\n",
        "\n",
        "# With wandb.log, we can easily pass in metrics as key-value pairs.\n",
        "wandb.log({'Test Error Rate': round((1 - accuracy) * 100, 2)})\n",
        "\n",
        "run.join()"
      ],
      "execution_count": 44,
      "outputs": [
        {
          "output_type": "stream",
          "text": [
            "1/1 - 0s - loss: 0.7905 - accuracy: 0.8435\n",
            "Test Error Rate:  15.65\n"
          ],
          "name": "stdout"
        },
        {
          "output_type": "display_data",
          "data": {
            "text/html": [
              "<br/>Waiting for W&B process to finish, PID 2417<br/>Program ended successfully."
            ],
            "text/plain": [
              "<IPython.core.display.HTML object>"
            ]
          },
          "metadata": {}
        },
        {
          "output_type": "display_data",
          "data": {
            "application/vnd.jupyter.widget-view+json": {
              "model_id": "5acd6a89f2f749bd93ffe7aaa6dabd99",
              "version_minor": 0,
              "version_major": 2
            },
            "text/plain": [
              "VBox(children=(Label(value=' 0.00MB of 0.00MB uploaded (0.00MB deduped)\\r'), FloatProgress(value=1.0, max=1.0)…"
            ]
          },
          "metadata": {}
        },
        {
          "output_type": "display_data",
          "data": {
            "text/html": [
              "Find user logs for this run at: <code>/content/wandb/run-20210819_074359-3hk9nzc5/logs/debug.log</code>"
            ],
            "text/plain": [
              "<IPython.core.display.HTML object>"
            ]
          },
          "metadata": {}
        },
        {
          "output_type": "display_data",
          "data": {
            "text/html": [
              "Find internal logs for this run at: <code>/content/wandb/run-20210819_074359-3hk9nzc5/logs/debug-internal.log</code>"
            ],
            "text/plain": [
              "<IPython.core.display.HTML object>"
            ]
          },
          "metadata": {}
        },
        {
          "output_type": "display_data",
          "data": {
            "text/html": [
              "<h3>Run summary:</h3><br/><style>\n",
              "    table.wandb td:nth-child(1) { padding: 0 10px; text-align: right }\n",
              "    </style><table class=\"wandb\">\n",
              "<tr><td>Test Error Rate</td><td>15.65</td></tr><tr><td>_runtime</td><td>201</td></tr><tr><td>_timestamp</td><td>1629359245</td></tr><tr><td>_step</td><td>0</td></tr></table>"
            ],
            "text/plain": [
              "<IPython.core.display.HTML object>"
            ]
          },
          "metadata": {}
        },
        {
          "output_type": "display_data",
          "data": {
            "text/html": [
              "<h3>Run history:</h3><br/><style>\n",
              "    table.wandb td:nth-child(1) { padding: 0 10px; text-align: right }\n",
              "    </style><table class=\"wandb\">\n",
              "<tr><td>Test Error Rate</td><td>▁</td></tr><tr><td>_runtime</td><td>▁</td></tr><tr><td>_timestamp</td><td>▁</td></tr><tr><td>_step</td><td>▁</td></tr></table><br/>"
            ],
            "text/plain": [
              "<IPython.core.display.HTML object>"
            ]
          },
          "metadata": {}
        },
        {
          "output_type": "display_data",
          "data": {
            "text/html": [
              "Synced 5 W&B file(s), 0 media file(s), 0 artifact file(s) and 0 other file(s)"
            ],
            "text/plain": [
              "<IPython.core.display.HTML object>"
            ]
          },
          "metadata": {}
        },
        {
          "output_type": "display_data",
          "data": {
            "text/html": [
              "\n",
              "                    <br/>Synced <strong style=\"color:#cdcd00\">sage-breeze-20</strong>: <a href=\"https://wandb.ai/kanoak/my-keras-integration/runs/3hk9nzc5\" target=\"_blank\">https://wandb.ai/kanoak/my-keras-integration/runs/3hk9nzc5</a><br/>\n",
              "                "
            ],
            "text/plain": [
              "<IPython.core.display.HTML object>"
            ]
          },
          "metadata": {}
        }
      ]
    },
    {
      "cell_type": "code",
      "metadata": {
        "colab": {
          "base_uri": "https://localhost:8080/"
        },
        "id": "OS2CIbANE-uM",
        "outputId": "09268d05-42e1-4e56-a7d1-0e47ad291584"
      },
      "source": [
        "# check the length of the test dataset\n",
        "len(list(dataset_test))\n",
        "\n"
      ],
      "execution_count": 45,
      "outputs": [
        {
          "output_type": "execute_result",
          "data": {
            "text/plain": [
              "1086"
            ]
          },
          "metadata": {},
          "execution_count": 45
        }
      ]
    },
    {
      "cell_type": "code",
      "metadata": {
        "colab": {
          "base_uri": "https://localhost:8080/"
        },
        "id": "YczDI9h3FQ0I",
        "outputId": "44844b69-a863-47ce-c4ca-035c2a7ceab1"
      },
      "source": [
        "# craete a batch of the dataset and pass the model through entire dataset\n",
        "results=model.evaluate(dataset_test.map(fetch).batch(1121),verbose=2)\n",
        "print(results)\n",
        "\n",
        "# we pass model through the test data and map the fetch function.\n",
        "test_data,test_labels=next(iter(dataset_test.map(fetch).batch(10000)))\n",
        "# Predict the target class\n",
        "y_pred=model.predict(test_data)\n",
        "# Check the model performance using classification and confusion matrix\n",
        "\n",
        "from sklearn import metrics\n",
        "print('Mean Absolute Error:', metrics.mean_absolute_error(test_labels.numpy().argmax(axis=1),y_pred.argmax(axis=1)))\n",
        "print('Mean Squared Error:', metrics.mean_squared_error(test_labels.numpy().argmax(axis=1),y_pred.argmax(axis=1)))\n",
        "print('Root Mean Squared Error:', np.sqrt(metrics.mean_squared_error(test_labels.numpy().argmax(axis=1),y_pred.argmax(axis=1))))\n",
        "print('The accuracy of the model is ',metrics.accuracy_score(test_labels.numpy().argmax(axis=1),y_pred.argmax(axis=1)))\n",
        "print('The F1 score is: ',metrics.f1_score(test_labels.numpy().argmax(axis=1),y_pred.argmax(axis=1),average='weighted'))\n",
        "print('The recall score is ',metrics.recall_score(test_labels.numpy().argmax(axis=1),y_pred.argmax(axis=1),average='weighted'))\n",
        "print('\\n', 'Confusion matrix')\n",
        "print(confusion_matrix(test_labels.numpy().argmax(axis=1),y_pred.argmax(axis=1)))\n",
        "print('\\n', 'Classification report')\n",
        "print(classification_report(test_labels.numpy().argmax(axis=1),y_pred.argmax(axis=1)))"
      ],
      "execution_count": 46,
      "outputs": [
        {
          "output_type": "stream",
          "text": [
            "1/1 - 0s - loss: 0.7905 - accuracy: 0.8435\n",
            "[0.7904537320137024, 0.8434622287750244]\n",
            "Mean Absolute Error: 0.3996316758747698\n",
            "Mean Squared Error: 1.2615101289134438\n",
            "Root Mean Squared Error: 1.1231696794845576\n",
            "The accuracy of the model is  0.8434622467771639\n",
            "The F1 score is:  0.8459666091682985\n",
            "The recall score is  0.8434622467771639\n",
            "\n",
            " Confusion matrix\n",
            "[[395   7  14  22   2  12]\n",
            " [  7 192   5   4   7   2]\n",
            " [ 12   6 179   4   5   4]\n",
            " [ 10   3   2  59   2   4]\n",
            " [  6   2   3   2  49   2]\n",
            " [  9   0   3   9   0  42]]\n",
            "\n",
            " Classification report\n",
            "              precision    recall  f1-score   support\n",
            "\n",
            "           0       0.90      0.87      0.89       452\n",
            "           1       0.91      0.88      0.90       217\n",
            "           2       0.87      0.85      0.86       210\n",
            "           3       0.59      0.74      0.66        80\n",
            "           4       0.75      0.77      0.76        64\n",
            "           5       0.64      0.67      0.65        63\n",
            "\n",
            "    accuracy                           0.84      1086\n",
            "   macro avg       0.78      0.80      0.79      1086\n",
            "weighted avg       0.85      0.84      0.85      1086\n",
            "\n"
          ],
          "name": "stdout"
        }
      ]
    },
    {
      "cell_type": "markdown",
      "metadata": {
        "id": "xFkoDNf9Nzqc"
      },
      "source": [
        "The accuracy of the model is 83%"
      ]
    },
    {
      "cell_type": "code",
      "metadata": {
        "id": "g-t7lfKwFvPl"
      },
      "source": [
        "# we pass model through the test data and map the fetch function.\n",
        "test_data,test_labels=next(iter(dataset_test.map(fetch).batch(10000)))\n"
      ],
      "execution_count": 47,
      "outputs": []
    },
    {
      "cell_type": "code",
      "metadata": {
        "colab": {
          "base_uri": "https://localhost:8080/"
        },
        "id": "y2q7Zj7CFqUG",
        "outputId": "cc87880c-15d0-46f6-8bcd-cfa43b0cfaab"
      },
      "source": [
        "# Predict the target class\n",
        "y_pred=model.predict(test_data)\n",
        "# Check the model performance using classification and confusion matrix\n",
        "print(classification_report(test_labels.numpy().argmax(axis=1),y_pred.argmax(axis=1)))"
      ],
      "execution_count": 48,
      "outputs": [
        {
          "output_type": "stream",
          "text": [
            "              precision    recall  f1-score   support\n",
            "\n",
            "           0       0.90      0.87      0.89       452\n",
            "           1       0.91      0.88      0.90       217\n",
            "           2       0.87      0.85      0.86       210\n",
            "           3       0.59      0.74      0.66        80\n",
            "           4       0.75      0.77      0.76        64\n",
            "           5       0.64      0.67      0.65        63\n",
            "\n",
            "    accuracy                           0.84      1086\n",
            "   macro avg       0.78      0.80      0.79      1086\n",
            "weighted avg       0.85      0.84      0.85      1086\n",
            "\n"
          ],
          "name": "stdout"
        }
      ]
    },
    {
      "cell_type": "code",
      "metadata": {
        "id": "oachM-6WGy7C"
      },
      "source": [
        "from sklearn.metrics import classification_report"
      ],
      "execution_count": null,
      "outputs": []
    },
    {
      "cell_type": "code",
      "metadata": {
        "id": "OqDMASvaGeXF"
      },
      "source": [
        "# Check the model performance using classification and confusion matrix\n",
        "print(classification_report(test_labels.numpy().argmax(axis=1),y_pred.argmax(axis=1)))"
      ],
      "execution_count": null,
      "outputs": []
    },
    {
      "cell_type": "code",
      "metadata": {
        "colab": {
          "base_uri": "https://localhost:8080/"
        },
        "id": "rbD4QqoDQ1qW",
        "outputId": "4955b3a7-65e8-4eca-babf-cc0dbf12ef42"
      },
      "source": [
        "from sklearn.metrics import confusion_matrix\n",
        "confusion_matrix(test_labels.numpy().argmax(axis=1),y_pred.argmax(axis=1))"
      ],
      "execution_count": 51,
      "outputs": [
        {
          "output_type": "execute_result",
          "data": {
            "text/plain": [
              "array([[395,   7,  14,  22,   2,  12],\n",
              "       [  7, 192,   5,   4,   7,   2],\n",
              "       [ 12,   6, 179,   4,   5,   4],\n",
              "       [ 10,   3,   2,  59,   2,   4],\n",
              "       [  6,   2,   3,   2,  49,   2],\n",
              "       [  9,   0,   3,   9,   0,  42]])"
            ]
          },
          "metadata": {},
          "execution_count": 51
        }
      ]
    },
    {
      "cell_type": "markdown",
      "metadata": {
        "id": "bTIQqEW78Ruq"
      },
      "source": [
        "The accuracy is accuracy score is 84%, "
      ]
    },
    {
      "cell_type": "markdown",
      "metadata": {
        "id": "n10G3F-EOdAS"
      },
      "source": [
        "## Challenging the solution\n",
        "We will model our data without using class weights"
      ]
    },
    {
      "cell_type": "code",
      "metadata": {
        "colab": {
          "base_uri": "https://localhost:8080/",
          "height": 405
        },
        "id": "Fw6qH4U2WwcV",
        "outputId": "a7465a80-607d-4cb8-f78e-775163ab95dc"
      },
      "source": [
        "# We create a keras sequential model.\n",
        "# Sequential groups a linear stack of layers into a tf.keras.Model.\n",
        "# Sequential provides training and inference features on this model.\n",
        "\n",
        "model2=tf.keras.Sequential()\n",
        "model2.add(hub_layer)\n",
        "for units in [128,128,64,32]:\n",
        "  model.add(tf.keras.layers.Dense(units,activation='relu'))\n",
        "  model.add(tf.keras.layers.Dropout(0.3))\n",
        "\n",
        "# We specify the output as 6 predicted values \n",
        "model2.add(tf.keras.layers.Dense(6,activation='softmax'))\n",
        "\n",
        "model2.summary()\n",
        "# Initialize wandb with your project name\n",
        "run = wandb.init(project='my-keras-integration_without weights',\n",
        "                 config={  # and include hyperparameters and metadata\n",
        "                     \"learning_rate\": 0.005,\n",
        "                     \"epochs\": 10,\n",
        "                     \"batch_size\": 64,\n",
        "                     \"loss_function\": \"categorical_crossentropy\",\n",
        "                     \"architecture\": \"RNN\",\n",
        "                     \"dataset\": \"df\"\n",
        "                     })\n",
        "# We compile using adam optimizer\n",
        "config = wandb.config  # We'll use this to configure our experiment\n",
        "tf.keras.backend.clear_session()\n",
        "\n",
        "model2.summary()\n",
        "model2.compile(optimizer=tf.keras.optimizers.Adam(config.learning_rate),\n",
        "              loss=tf.keras.losses.CategoricalCrossentropy(from_logits=True),\n",
        "              metrics=['accuracy'])\n",
        "\n",
        "# We shuffle and train the train and test data\n",
        "train_data_f=train_data_f.shuffle(70000).batch(512)\n",
        "test_data_f=test_data_f.batch(512)"
      ],
      "execution_count": 52,
      "outputs": [
        {
          "output_type": "error",
          "ename": "ValueError",
          "evalue": "ignored",
          "traceback": [
            "\u001b[0;31m---------------------------------------------------------------------------\u001b[0m",
            "\u001b[0;31mValueError\u001b[0m                                Traceback (most recent call last)",
            "\u001b[0;32m<ipython-input-52-a0bf3ff096e9>\u001b[0m in \u001b[0;36m<module>\u001b[0;34m()\u001b[0m\n\u001b[1;32m      6\u001b[0m \u001b[0mmodel2\u001b[0m\u001b[0;34m.\u001b[0m\u001b[0madd\u001b[0m\u001b[0;34m(\u001b[0m\u001b[0mhub_layer\u001b[0m\u001b[0;34m)\u001b[0m\u001b[0;34m\u001b[0m\u001b[0;34m\u001b[0m\u001b[0m\n\u001b[1;32m      7\u001b[0m \u001b[0;32mfor\u001b[0m \u001b[0munits\u001b[0m \u001b[0;32min\u001b[0m \u001b[0;34m[\u001b[0m\u001b[0;36m128\u001b[0m\u001b[0;34m,\u001b[0m\u001b[0;36m128\u001b[0m\u001b[0;34m,\u001b[0m\u001b[0;36m64\u001b[0m\u001b[0;34m,\u001b[0m\u001b[0;36m32\u001b[0m\u001b[0;34m]\u001b[0m\u001b[0;34m:\u001b[0m\u001b[0;34m\u001b[0m\u001b[0;34m\u001b[0m\u001b[0m\n\u001b[0;32m----> 8\u001b[0;31m   \u001b[0mmodel\u001b[0m\u001b[0;34m.\u001b[0m\u001b[0madd\u001b[0m\u001b[0;34m(\u001b[0m\u001b[0mtf\u001b[0m\u001b[0;34m.\u001b[0m\u001b[0mkeras\u001b[0m\u001b[0;34m.\u001b[0m\u001b[0mlayers\u001b[0m\u001b[0;34m.\u001b[0m\u001b[0mDense\u001b[0m\u001b[0;34m(\u001b[0m\u001b[0munits\u001b[0m\u001b[0;34m,\u001b[0m\u001b[0mactivation\u001b[0m\u001b[0;34m=\u001b[0m\u001b[0;34m'relu'\u001b[0m\u001b[0;34m)\u001b[0m\u001b[0;34m)\u001b[0m\u001b[0;34m\u001b[0m\u001b[0;34m\u001b[0m\u001b[0m\n\u001b[0m\u001b[1;32m      9\u001b[0m   \u001b[0mmodel\u001b[0m\u001b[0;34m.\u001b[0m\u001b[0madd\u001b[0m\u001b[0;34m(\u001b[0m\u001b[0mtf\u001b[0m\u001b[0;34m.\u001b[0m\u001b[0mkeras\u001b[0m\u001b[0;34m.\u001b[0m\u001b[0mlayers\u001b[0m\u001b[0;34m.\u001b[0m\u001b[0mDropout\u001b[0m\u001b[0;34m(\u001b[0m\u001b[0;36m0.3\u001b[0m\u001b[0;34m)\u001b[0m\u001b[0;34m)\u001b[0m\u001b[0;34m\u001b[0m\u001b[0;34m\u001b[0m\u001b[0m\n\u001b[1;32m     10\u001b[0m \u001b[0;34m\u001b[0m\u001b[0m\n",
            "\u001b[0;32m/usr/local/lib/python3.7/dist-packages/tensorflow/python/training/tracking/base.py\u001b[0m in \u001b[0;36m_method_wrapper\u001b[0;34m(self, *args, **kwargs)\u001b[0m\n\u001b[1;32m    528\u001b[0m     \u001b[0mself\u001b[0m\u001b[0;34m.\u001b[0m\u001b[0m_self_setattr_tracking\u001b[0m \u001b[0;34m=\u001b[0m \u001b[0;32mFalse\u001b[0m  \u001b[0;31m# pylint: disable=protected-access\u001b[0m\u001b[0;34m\u001b[0m\u001b[0;34m\u001b[0m\u001b[0m\n\u001b[1;32m    529\u001b[0m     \u001b[0;32mtry\u001b[0m\u001b[0;34m:\u001b[0m\u001b[0;34m\u001b[0m\u001b[0;34m\u001b[0m\u001b[0m\n\u001b[0;32m--> 530\u001b[0;31m       \u001b[0mresult\u001b[0m \u001b[0;34m=\u001b[0m \u001b[0mmethod\u001b[0m\u001b[0;34m(\u001b[0m\u001b[0mself\u001b[0m\u001b[0;34m,\u001b[0m \u001b[0;34m*\u001b[0m\u001b[0margs\u001b[0m\u001b[0;34m,\u001b[0m \u001b[0;34m**\u001b[0m\u001b[0mkwargs\u001b[0m\u001b[0;34m)\u001b[0m\u001b[0;34m\u001b[0m\u001b[0;34m\u001b[0m\u001b[0m\n\u001b[0m\u001b[1;32m    531\u001b[0m     \u001b[0;32mfinally\u001b[0m\u001b[0;34m:\u001b[0m\u001b[0;34m\u001b[0m\u001b[0;34m\u001b[0m\u001b[0m\n\u001b[1;32m    532\u001b[0m       \u001b[0mself\u001b[0m\u001b[0;34m.\u001b[0m\u001b[0m_self_setattr_tracking\u001b[0m \u001b[0;34m=\u001b[0m \u001b[0mprevious_value\u001b[0m  \u001b[0;31m# pylint: disable=protected-access\u001b[0m\u001b[0;34m\u001b[0m\u001b[0;34m\u001b[0m\u001b[0m\n",
            "\u001b[0;32m/usr/local/lib/python3.7/dist-packages/keras/engine/sequential.py\u001b[0m in \u001b[0;36madd\u001b[0;34m(self, layer)\u001b[0m\n\u001b[1;32m    182\u001b[0m                        \u001b[0;34m'should have unique names. Name \"%s\" is already the name'\u001b[0m\u001b[0;34m\u001b[0m\u001b[0;34m\u001b[0m\u001b[0m\n\u001b[1;32m    183\u001b[0m                        \u001b[0;34m' of a layer in this model. Update the `name` argument '\u001b[0m\u001b[0;34m\u001b[0m\u001b[0;34m\u001b[0m\u001b[0m\n\u001b[0;32m--> 184\u001b[0;31m                        'to pass a unique name.' % (layer.name,))\n\u001b[0m\u001b[1;32m    185\u001b[0m \u001b[0;34m\u001b[0m\u001b[0m\n\u001b[1;32m    186\u001b[0m     \u001b[0mself\u001b[0m\u001b[0;34m.\u001b[0m\u001b[0mbuilt\u001b[0m \u001b[0;34m=\u001b[0m \u001b[0;32mFalse\u001b[0m\u001b[0;34m\u001b[0m\u001b[0;34m\u001b[0m\u001b[0m\n",
            "\u001b[0;31mValueError\u001b[0m: All layers added to a Sequential model should have unique names. Name \"dense\" is already the name of a layer in this model. Update the `name` argument to pass a unique name."
          ]
        }
      ]
    },
    {
      "cell_type": "code",
      "metadata": {
        "id": "-xAZKLjdQZ5U"
      },
      "source": [
        "# we train the data using 10 epochs and without using class weights\n",
        "# we will perform checks to ensure each class performs well\n",
        "weightless=model2.fit(train_data_f,epochs=10,\n",
        "                  validation_data=test_data_f,\n",
        "                  verbose=1)\n",
        "# check the length of the test dataset\n",
        "len(list(dataset_test))\n",
        "# craete a batch of the dataset and pass the model through entire dataset\n",
        "result=model2.evaluate(dataset_test.map(fetch).batch(1121),verbose=2)\n",
        "print(result)\n",
        "\n",
        "# we pass model through the test data and map the fetch function.\n",
        "test_data,test_labels=next(iter(dataset_test.map(fetch).batch(10000)))\n",
        "# Predict the target class\n",
        "y_pred=model2.predict(test_data)\n"
      ],
      "execution_count": null,
      "outputs": []
    },
    {
      "cell_type": "code",
      "metadata": {
        "id": "xC1yTwy2XARD"
      },
      "source": [
        "# craete a batch of the dataset and pass the model through entire dataset\n",
        "results=model2.evaluate(dataset_test.map(fetch).batch(1121),verbose=2)\n",
        "print(results)\n",
        "\n",
        "# we pass model through the test data and map the fetch function.\n",
        "test_data,test_labels=next(iter(dataset_test.map(fetch).batch(10000)))\n",
        "# Predict the target class\n",
        "y_pred=model2.predict(test_data)\n",
        "# Check the model performance using classification and confusion matrix\n",
        "\n",
        "from sklearn import metrics\n",
        "print('Mean Absolute Error:', metrics.mean_absolute_error(test_labels.numpy().argmax(axis=1),y_pred.argmax(axis=1)))\n",
        "print('Mean Squared Error:', metrics.mean_squared_error(test_labels.numpy().argmax(axis=1),y_pred.argmax(axis=1)))\n",
        "print('Root Mean Squared Error:', np.sqrt(metrics.mean_squared_error(test_labels.numpy().argmax(axis=1),y_pred.argmax(axis=1))))\n",
        "print('The accuracy of the model is ',metrics.accuracy_score(test_labels.numpy().argmax(axis=1),y_pred.argmax(axis=1)))\n",
        "print('The F1 score is: ',metrics.f1_score(test_labels.numpy().argmax(axis=1),y_pred.argmax(axis=1),average='weighted'))\n",
        "print('The recall score is ',metrics.recall_score(test_labels.numpy().argmax(axis=1),y_pred.argmax(axis=1),average='weighted'))\n",
        "print('\\n', 'Confusion matrix')\n",
        "print(confusion_matrix(test_labels.numpy().argmax(axis=1),y_pred.argmax(axis=1)))\n",
        "print('\\n', 'Classification report')\n",
        "print(classification_report(test_labels.numpy().argmax(axis=1),y_pred.argmax(axis=1)))"
      ],
      "execution_count": null,
      "outputs": []
    }
  ]
}