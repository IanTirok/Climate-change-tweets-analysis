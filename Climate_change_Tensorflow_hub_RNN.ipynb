{
  "nbformat": 4,
  "nbformat_minor": 0,
  "metadata": {
    "colab": {
      "name": "Climate change Tensorflow hub RNN.ipynb",
      "provenance": [],
      "collapsed_sections": [],
      "include_colab_link": true
    },
    "kernelspec": {
      "display_name": "Python 3",
      "name": "python3"
    },
    "language_info": {
      "name": "python"
    },
    "widgets": {
      "application/vnd.jupyter.widget-state+json": {
        "a066fb55c9524c60854d00fc1e351d5a": {
          "model_module": "@jupyter-widgets/controls",
          "model_name": "VBoxModel",
          "model_module_version": "1.5.0",
          "state": {
            "_dom_classes": [],
            "_model_module": "@jupyter-widgets/controls",
            "_model_module_version": "1.5.0",
            "_model_name": "VBoxModel",
            "_view_count": null,
            "_view_module": "@jupyter-widgets/controls",
            "_view_module_version": "1.5.0",
            "_view_name": "VBoxView",
            "box_style": "",
            "children": [
              "IPY_MODEL_0a3a13592c6146b2ab98740d0ef70cdc",
              "IPY_MODEL_c3fca37a96b644d5a130ce76325d3606"
            ],
            "layout": "IPY_MODEL_5af5773e03734ab79f4284e71532cdd4"
          }
        },
        "0a3a13592c6146b2ab98740d0ef70cdc": {
          "model_module": "@jupyter-widgets/controls",
          "model_name": "LabelModel",
          "model_module_version": "1.5.0",
          "state": {
            "_dom_classes": [],
            "_model_module": "@jupyter-widgets/controls",
            "_model_module_version": "1.5.0",
            "_model_name": "LabelModel",
            "_view_count": null,
            "_view_module": "@jupyter-widgets/controls",
            "_view_module_version": "1.5.0",
            "_view_name": "LabelView",
            "description": "",
            "description_tooltip": null,
            "layout": "IPY_MODEL_4a9c58a11163423eb0688f488e9209b4",
            "placeholder": "​",
            "style": "IPY_MODEL_342939c8bace4b17a739eadf5f8861e3",
            "value": " 0.01MB of 0.01MB uploaded (0.00MB deduped)\r"
          }
        },
        "c3fca37a96b644d5a130ce76325d3606": {
          "model_module": "@jupyter-widgets/controls",
          "model_name": "FloatProgressModel",
          "model_module_version": "1.5.0",
          "state": {
            "_dom_classes": [],
            "_model_module": "@jupyter-widgets/controls",
            "_model_module_version": "1.5.0",
            "_model_name": "FloatProgressModel",
            "_view_count": null,
            "_view_module": "@jupyter-widgets/controls",
            "_view_module_version": "1.5.0",
            "_view_name": "ProgressView",
            "bar_style": "",
            "description": "",
            "description_tooltip": null,
            "layout": "IPY_MODEL_113797584c2a482590299f2ae3f68aa8",
            "max": 1,
            "min": 0,
            "orientation": "horizontal",
            "style": "IPY_MODEL_5ef7d7089ccc4f6a8cb9e2fa93da04c8",
            "value": 1
          }
        },
        "5af5773e03734ab79f4284e71532cdd4": {
          "model_module": "@jupyter-widgets/base",
          "model_name": "LayoutModel",
          "model_module_version": "1.2.0",
          "state": {
            "_model_module": "@jupyter-widgets/base",
            "_model_module_version": "1.2.0",
            "_model_name": "LayoutModel",
            "_view_count": null,
            "_view_module": "@jupyter-widgets/base",
            "_view_module_version": "1.2.0",
            "_view_name": "LayoutView",
            "align_content": null,
            "align_items": null,
            "align_self": null,
            "border": null,
            "bottom": null,
            "display": null,
            "flex": null,
            "flex_flow": null,
            "grid_area": null,
            "grid_auto_columns": null,
            "grid_auto_flow": null,
            "grid_auto_rows": null,
            "grid_column": null,
            "grid_gap": null,
            "grid_row": null,
            "grid_template_areas": null,
            "grid_template_columns": null,
            "grid_template_rows": null,
            "height": null,
            "justify_content": null,
            "justify_items": null,
            "left": null,
            "margin": null,
            "max_height": null,
            "max_width": null,
            "min_height": null,
            "min_width": null,
            "object_fit": null,
            "object_position": null,
            "order": null,
            "overflow": null,
            "overflow_x": null,
            "overflow_y": null,
            "padding": null,
            "right": null,
            "top": null,
            "visibility": null,
            "width": null
          }
        },
        "4a9c58a11163423eb0688f488e9209b4": {
          "model_module": "@jupyter-widgets/base",
          "model_name": "LayoutModel",
          "model_module_version": "1.2.0",
          "state": {
            "_model_module": "@jupyter-widgets/base",
            "_model_module_version": "1.2.0",
            "_model_name": "LayoutModel",
            "_view_count": null,
            "_view_module": "@jupyter-widgets/base",
            "_view_module_version": "1.2.0",
            "_view_name": "LayoutView",
            "align_content": null,
            "align_items": null,
            "align_self": null,
            "border": null,
            "bottom": null,
            "display": null,
            "flex": null,
            "flex_flow": null,
            "grid_area": null,
            "grid_auto_columns": null,
            "grid_auto_flow": null,
            "grid_auto_rows": null,
            "grid_column": null,
            "grid_gap": null,
            "grid_row": null,
            "grid_template_areas": null,
            "grid_template_columns": null,
            "grid_template_rows": null,
            "height": null,
            "justify_content": null,
            "justify_items": null,
            "left": null,
            "margin": null,
            "max_height": null,
            "max_width": null,
            "min_height": null,
            "min_width": null,
            "object_fit": null,
            "object_position": null,
            "order": null,
            "overflow": null,
            "overflow_x": null,
            "overflow_y": null,
            "padding": null,
            "right": null,
            "top": null,
            "visibility": null,
            "width": null
          }
        },
        "342939c8bace4b17a739eadf5f8861e3": {
          "model_module": "@jupyter-widgets/controls",
          "model_name": "DescriptionStyleModel",
          "model_module_version": "1.5.0",
          "state": {
            "_model_module": "@jupyter-widgets/controls",
            "_model_module_version": "1.5.0",
            "_model_name": "DescriptionStyleModel",
            "_view_count": null,
            "_view_module": "@jupyter-widgets/base",
            "_view_module_version": "1.2.0",
            "_view_name": "StyleView",
            "description_width": ""
          }
        },
        "113797584c2a482590299f2ae3f68aa8": {
          "model_module": "@jupyter-widgets/base",
          "model_name": "LayoutModel",
          "model_module_version": "1.2.0",
          "state": {
            "_model_module": "@jupyter-widgets/base",
            "_model_module_version": "1.2.0",
            "_model_name": "LayoutModel",
            "_view_count": null,
            "_view_module": "@jupyter-widgets/base",
            "_view_module_version": "1.2.0",
            "_view_name": "LayoutView",
            "align_content": null,
            "align_items": null,
            "align_self": null,
            "border": null,
            "bottom": null,
            "display": null,
            "flex": null,
            "flex_flow": null,
            "grid_area": null,
            "grid_auto_columns": null,
            "grid_auto_flow": null,
            "grid_auto_rows": null,
            "grid_column": null,
            "grid_gap": null,
            "grid_row": null,
            "grid_template_areas": null,
            "grid_template_columns": null,
            "grid_template_rows": null,
            "height": null,
            "justify_content": null,
            "justify_items": null,
            "left": null,
            "margin": null,
            "max_height": null,
            "max_width": null,
            "min_height": null,
            "min_width": null,
            "object_fit": null,
            "object_position": null,
            "order": null,
            "overflow": null,
            "overflow_x": null,
            "overflow_y": null,
            "padding": null,
            "right": null,
            "top": null,
            "visibility": null,
            "width": null
          }
        },
        "5ef7d7089ccc4f6a8cb9e2fa93da04c8": {
          "model_module": "@jupyter-widgets/controls",
          "model_name": "ProgressStyleModel",
          "model_module_version": "1.5.0",
          "state": {
            "_model_module": "@jupyter-widgets/controls",
            "_model_module_version": "1.5.0",
            "_model_name": "ProgressStyleModel",
            "_view_count": null,
            "_view_module": "@jupyter-widgets/base",
            "_view_module_version": "1.2.0",
            "_view_name": "StyleView",
            "bar_color": null,
            "description_width": ""
          }
        }
      }
    }
  },
  "cells": [
    {
      "cell_type": "markdown",
      "metadata": {
        "id": "view-in-github",
        "colab_type": "text"
      },
      "source": [
        "<a href=\"https://colab.research.google.com/github/IanTirok/Climate-change-tweets-analysis/blob/main/Climate_change_Tensorflow_hub_RNN.ipynb\" target=\"_parent\"><img src=\"https://colab.research.google.com/assets/colab-badge.svg\" alt=\"Open In Colab\"/></a>"
      ]
    },
    {
      "cell_type": "code",
      "metadata": {
        "colab": {
          "base_uri": "https://localhost:8080/"
        },
        "id": "fJ788-SHhJIH",
        "outputId": "d554cde2-aa15-462e-aff1-0b928e8e0f2a"
      },
      "source": [
        "\n",
        "!pip install wandb\n",
        "!wandb login"
      ],
      "execution_count": null,
      "outputs": [
        {
          "name": "stdout",
          "output_type": "stream",
          "text": [
            "Collecting wandb\n",
            "  Downloading wandb-0.12.0-py2.py3-none-any.whl (1.6 MB)\n",
            "\u001b[K     |████████████████████████████████| 1.6 MB 5.0 MB/s \n",
            "\u001b[?25hRequirement already satisfied: protobuf>=3.12.0 in /usr/local/lib/python3.7/dist-packages (from wandb) (3.17.3)\n",
            "Collecting shortuuid>=0.5.0\n",
            "  Downloading shortuuid-1.0.1-py3-none-any.whl (7.5 kB)\n",
            "Collecting pathtools\n",
            "  Downloading pathtools-0.1.2.tar.gz (11 kB)\n",
            "Requirement already satisfied: PyYAML in /usr/local/lib/python3.7/dist-packages (from wandb) (3.13)\n",
            "Requirement already satisfied: Click!=8.0.0,>=7.0 in /usr/local/lib/python3.7/dist-packages (from wandb) (7.1.2)\n",
            "Collecting subprocess32>=3.5.3\n",
            "  Downloading subprocess32-3.5.4.tar.gz (97 kB)\n",
            "\u001b[K     |████████████████████████████████| 97 kB 6.0 MB/s \n",
            "\u001b[?25hRequirement already satisfied: promise<3,>=2.0 in /usr/local/lib/python3.7/dist-packages (from wandb) (2.3)\n",
            "Requirement already satisfied: python-dateutil>=2.6.1 in /usr/local/lib/python3.7/dist-packages (from wandb) (2.8.2)\n",
            "Collecting docker-pycreds>=0.4.0\n",
            "  Downloading docker_pycreds-0.4.0-py2.py3-none-any.whl (9.0 kB)\n",
            "Requirement already satisfied: requests<3,>=2.0.0 in /usr/local/lib/python3.7/dist-packages (from wandb) (2.23.0)\n",
            "Collecting sentry-sdk>=1.0.0\n",
            "  Downloading sentry_sdk-1.3.1-py2.py3-none-any.whl (133 kB)\n",
            "\u001b[K     |████████████████████████████████| 133 kB 53.1 MB/s \n",
            "\u001b[?25hRequirement already satisfied: psutil>=5.0.0 in /usr/local/lib/python3.7/dist-packages (from wandb) (5.4.8)\n",
            "Collecting configparser>=3.8.1\n",
            "  Downloading configparser-5.0.2-py3-none-any.whl (19 kB)\n",
            "Requirement already satisfied: six>=1.13.0 in /usr/local/lib/python3.7/dist-packages (from wandb) (1.15.0)\n",
            "Collecting GitPython>=1.0.0\n",
            "  Downloading GitPython-3.1.18-py3-none-any.whl (170 kB)\n",
            "\u001b[K     |████████████████████████████████| 170 kB 54.4 MB/s \n",
            "\u001b[?25hRequirement already satisfied: typing-extensions>=3.7.4.0 in /usr/local/lib/python3.7/dist-packages (from GitPython>=1.0.0->wandb) (3.7.4.3)\n",
            "Collecting gitdb<5,>=4.0.1\n",
            "  Downloading gitdb-4.0.7-py3-none-any.whl (63 kB)\n",
            "\u001b[K     |████████████████████████████████| 63 kB 1.6 MB/s \n",
            "\u001b[?25hCollecting smmap<5,>=3.0.1\n",
            "  Downloading smmap-4.0.0-py2.py3-none-any.whl (24 kB)\n",
            "Requirement already satisfied: chardet<4,>=3.0.2 in /usr/local/lib/python3.7/dist-packages (from requests<3,>=2.0.0->wandb) (3.0.4)\n",
            "Requirement already satisfied: idna<3,>=2.5 in /usr/local/lib/python3.7/dist-packages (from requests<3,>=2.0.0->wandb) (2.10)\n",
            "Requirement already satisfied: certifi>=2017.4.17 in /usr/local/lib/python3.7/dist-packages (from requests<3,>=2.0.0->wandb) (2021.5.30)\n",
            "Requirement already satisfied: urllib3!=1.25.0,!=1.25.1,<1.26,>=1.21.1 in /usr/local/lib/python3.7/dist-packages (from requests<3,>=2.0.0->wandb) (1.24.3)\n",
            "Building wheels for collected packages: subprocess32, pathtools\n",
            "  Building wheel for subprocess32 (setup.py) ... \u001b[?25l\u001b[?25hdone\n",
            "  Created wheel for subprocess32: filename=subprocess32-3.5.4-py3-none-any.whl size=6502 sha256=29e27b1fbeea287eda1296826a992f6b33b0f1977da4d6ccd6144d555a5dbe03\n",
            "  Stored in directory: /root/.cache/pip/wheels/50/ca/fa/8fca8d246e64f19488d07567547ddec8eb084e8c0d7a59226a\n",
            "  Building wheel for pathtools (setup.py) ... \u001b[?25l\u001b[?25hdone\n",
            "  Created wheel for pathtools: filename=pathtools-0.1.2-py3-none-any.whl size=8807 sha256=adc058f2fd5025e054ef7edf3ce6f18c37203c21151c288df0fa615c62795ab5\n",
            "  Stored in directory: /root/.cache/pip/wheels/3e/31/09/fa59cef12cdcfecc627b3d24273699f390e71828921b2cbba2\n",
            "Successfully built subprocess32 pathtools\n",
            "Installing collected packages: smmap, gitdb, subprocess32, shortuuid, sentry-sdk, pathtools, GitPython, docker-pycreds, configparser, wandb\n",
            "Successfully installed GitPython-3.1.18 configparser-5.0.2 docker-pycreds-0.4.0 gitdb-4.0.7 pathtools-0.1.2 sentry-sdk-1.3.1 shortuuid-1.0.1 smmap-4.0.0 subprocess32-3.5.4 wandb-0.12.0\n",
            "\u001b[34m\u001b[1mwandb\u001b[0m: You can find your API key in your browser here: https://wandb.ai/authorize\n",
            "\u001b[34m\u001b[1mwandb\u001b[0m: Paste an API key from your profile and hit enter: \n",
            "\u001b[34m\u001b[1mwandb\u001b[0m: Appending key for api.wandb.ai to your netrc file: /root/.netrc\n"
          ]
        }
      ]
    },
    {
      "cell_type": "code",
      "metadata": {
        "id": "7nHEow6otjVT"
      },
      "source": [
        "import tensorflow as tf\n",
        "from tensorflow.python.distribute import distribution_strategy_context\n",
        "from tensorflow.python.framework import ops\n",
        "from tensorflow.python.framework import smart_cond\n",
        "from tensorflow.python.framework import tensor_util\n",
        "from tensorflow.python.keras import backend as K\n",
        "from tensorflow.python.keras.utils import losses_utils\n",
        "from tensorflow.python.keras.utils import tf_utils\n",
        "from tensorflow.python.keras.utils.generic_utils import deserialize_keras_object\n",
        "from tensorflow.python.keras.utils.generic_utils import serialize_keras_object\n",
        "from tensorflow.python.ops import array_ops\n",
        "from tensorflow.python.ops import math_ops\n",
        "from tensorflow.python.ops import nn\n",
        "from tensorflow.python.ops.losses import losses_impl\n",
        "from tensorflow.python.ops.losses import util as tf_losses_util\n",
        "from tensorflow.python.util.tf_export import keras_export\n",
        "from tensorflow.tools.docs import doc_controls"
      ],
      "execution_count": null,
      "outputs": []
    },
    {
      "cell_type": "code",
      "metadata": {
        "id": "GFck8nmQhZTM"
      },
      "source": [
        "import wandb\n",
        "from wandb.keras import WandbCallback\n"
      ],
      "execution_count": null,
      "outputs": []
    },
    {
      "cell_type": "markdown",
      "metadata": {
        "id": "ZDcJbjustiWI"
      },
      "source": [
        ""
      ]
    },
    {
      "cell_type": "code",
      "metadata": {
        "colab": {
          "base_uri": "https://localhost:8080/",
          "height": 135
        },
        "id": "U2zDoKBapdkY",
        "outputId": "9304b572-ab89-41aa-f19f-4066ae8116e5"
      },
      "source": [
        "#Initialize wandb\n",
        "\n",
        "run = wandb.init(project='Climate Change',\n",
        "                 config={  # and include hyperparameters and metadata\n",
        "                     \"learning_rate\": 0.005,\n",
        "                     \"epochs\": 5,\n",
        "                     \"batch_size\": 64,\n",
        "                     \"loss_function\": \"sparse_categorical_crossentropy\",\n",
        "                     \"architecture\": \"RNN\",\n",
        "                     \"dataset\": \"CIFAR-10\"\n",
        "                 })\n",
        "config = wandb.config "
      ],
      "execution_count": null,
      "outputs": [
        {
          "name": "stderr",
          "output_type": "stream",
          "text": [
            "\u001b[34m\u001b[1mwandb\u001b[0m: Currently logged in as: \u001b[33mkanoak\u001b[0m (use `wandb login --relogin` to force relogin)\n"
          ]
        },
        {
          "data": {
            "text/html": [
              "\n",
              "                Tracking run with wandb version 0.12.0<br/>\n",
              "                Syncing run <strong style=\"color:#cdcd00\">rich-forest-26</strong> to <a href=\"https://wandb.ai\" target=\"_blank\">Weights & Biases</a> <a href=\"https://docs.wandb.com/integrations/jupyter.html\" target=\"_blank\">(Documentation)</a>.<br/>\n",
              "                Project page: <a href=\"https://wandb.ai/kanoak/Climate%20change\" target=\"_blank\">https://wandb.ai/kanoak/Climate%20change</a><br/>\n",
              "                Run page: <a href=\"https://wandb.ai/kanoak/Climate%20change/runs/yri39vsj\" target=\"_blank\">https://wandb.ai/kanoak/Climate%20change/runs/yri39vsj</a><br/>\n",
              "                Run data is saved locally in <code>/content/wandb/run-20210819_045615-yri39vsj</code><br/><br/>\n",
              "            "
            ],
            "text/plain": [
              "<IPython.core.display.HTML object>"
            ]
          },
          "metadata": {},
          "output_type": "display_data"
        }
      ]
    },
    {
      "cell_type": "code",
      "metadata": {
        "id": "1anyRMp6hr_P"
      },
      "source": [
        "\n",
        "# for i in range(10):\n",
        "#   log_dict = {\n",
        "#       \"train_loss\": 1/(i+1),\n",
        "#       \"custom_step\": i**2,\n",
        "#       \"validation_loss\": 1/(i+1) }\n",
        "# wandb.log(log_dict)"
      ],
      "execution_count": null,
      "outputs": []
    },
    {
      "cell_type": "code",
      "metadata": {
        "id": "HncEmTTThwil"
      },
      "source": [
        "wandb.config.dropout = 0.2"
      ],
      "execution_count": null,
      "outputs": []
    },
    {
      "cell_type": "markdown",
      "metadata": {
        "id": "IyohllIzAeyv"
      },
      "source": [
        "Modelling using Tensorflow hub using a pretrained word embedding layer to classify tweets on climate change into classes"
      ]
    },
    {
      "cell_type": "code",
      "metadata": {
        "colab": {
          "base_uri": "https://localhost:8080/"
        },
        "id": "ITti9yg8j2j_",
        "outputId": "980554fa-92c2-4853-e2c3-c46ceb361349"
      },
      "source": [
        "import pandas as pd\n",
        "import numpy as np\n",
        "import pandas as pd\n",
        "import numpy as np\n",
        "#for text pre-processing\n",
        "import re, string\n",
        "import nltk\n",
        "from nltk.tokenize import word_tokenize\n",
        "from nltk.corpus import stopwords\n",
        "from nltk.tokenize import word_tokenize\n",
        "from nltk.stem import SnowballStemmer\n",
        "from nltk.corpus import wordnet\n",
        "from nltk.stem import WordNetLemmatizer\n",
        "nltk.download('punkt')\n",
        "nltk.download('averaged_perceptron_tagger')\n",
        "nltk.download('wordnet')\n",
        "#for model-building\n",
        "from sklearn.model_selection import train_test_split\n",
        "from sklearn.linear_model import LogisticRegression\n",
        "from sklearn.naive_bayes import MultinomialNB\n",
        "from sklearn.metrics import classification_report, f1_score, accuracy_score, confusion_matrix\n",
        "from sklearn.metrics import roc_curve, auc, roc_auc_score\n",
        "# bag of words\n",
        "from sklearn.feature_extraction.text import TfidfVectorizer\n",
        "from sklearn.feature_extraction.text import CountVectorizer\n",
        "#for word embedding\n",
        "import gensim\n",
        "from gensim.models import Word2Vec\n",
        "from nltk.corpus import stopwords\n",
        "nltk.download('stopwords')\n",
        "from nltk.util import ngrams\n",
        "from spacy.lang.en import English\n",
        "nlp = English()\n",
        "import spacy\n",
        "from nltk.stem import WordNetLemmatizer\n",
        "  \n",
        "lemmatizer = WordNetLemmatizer()"
      ],
      "execution_count": null,
      "outputs": [
        {
          "name": "stdout",
          "output_type": "stream",
          "text": [
            "[nltk_data] Downloading package punkt to /root/nltk_data...\n",
            "[nltk_data]   Unzipping tokenizers/punkt.zip.\n",
            "[nltk_data] Downloading package averaged_perceptron_tagger to\n",
            "[nltk_data]     /root/nltk_data...\n",
            "[nltk_data]   Unzipping taggers/averaged_perceptron_tagger.zip.\n",
            "[nltk_data] Downloading package wordnet to /root/nltk_data...\n",
            "[nltk_data]   Unzipping corpora/wordnet.zip.\n",
            "[nltk_data] Downloading package stopwords to /root/nltk_data...\n",
            "[nltk_data]   Unzipping corpora/stopwords.zip.\n"
          ]
        }
      ]
    },
    {
      "cell_type": "markdown",
      "metadata": {
        "id": "Qz8ygJLT_3vY"
      },
      "source": [
        "## Load and preview data"
      ]
    },
    {
      "cell_type": "code",
      "metadata": {
        "id": "srxFf8KSjaIe"
      },
      "source": [
        "df = pd.read_csv('/content/Clean classified data_kwisha.csv')"
      ],
      "execution_count": null,
      "outputs": []
    },
    {
      "cell_type": "code",
      "metadata": {
        "colab": {
          "base_uri": "https://localhost:8080/",
          "height": 302
        },
        "id": "GQfX9c_Lloas",
        "outputId": "35ca23be-d26c-4053-ddc0-4dc4f9341a60"
      },
      "source": [
        "df.head()"
      ],
      "execution_count": null,
      "outputs": [
        {
          "data": {
            "text/html": [
              "<div>\n",
              "<style scoped>\n",
              "    .dataframe tbody tr th:only-of-type {\n",
              "        vertical-align: middle;\n",
              "    }\n",
              "\n",
              "    .dataframe tbody tr th {\n",
              "        vertical-align: top;\n",
              "    }\n",
              "\n",
              "    .dataframe thead th {\n",
              "        text-align: right;\n",
              "    }\n",
              "</style>\n",
              "<table border=\"1\" class=\"dataframe\">\n",
              "  <thead>\n",
              "    <tr style=\"text-align: right;\">\n",
              "      <th></th>\n",
              "      <th>Unnamed: 0</th>\n",
              "      <th>id</th>\n",
              "      <th>location</th>\n",
              "      <th>created_at</th>\n",
              "      <th>retweet_count</th>\n",
              "      <th>class</th>\n",
              "      <th>clean_text</th>\n",
              "      <th>date</th>\n",
              "      <th>year</th>\n",
              "      <th>month</th>\n",
              "      <th>hour</th>\n",
              "      <th>minute</th>\n",
              "    </tr>\n",
              "  </thead>\n",
              "  <tbody>\n",
              "    <tr>\n",
              "      <th>0</th>\n",
              "      <td>0</td>\n",
              "      <td>1427542334963605511</td>\n",
              "      <td>Naples, Italy</td>\n",
              "      <td>2021-08-17 08:06:29</td>\n",
              "      <td>0</td>\n",
              "      <td>drought</td>\n",
              "      <td>wired climate change increase appearance viole...</td>\n",
              "      <td>2021-08-17 08:06:29</td>\n",
              "      <td>2021</td>\n",
              "      <td>8</td>\n",
              "      <td>8</td>\n",
              "      <td>6</td>\n",
              "    </tr>\n",
              "    <tr>\n",
              "      <th>1</th>\n",
              "      <td>1</td>\n",
              "      <td>1427540945260720136</td>\n",
              "      <td>United Arab Emirates</td>\n",
              "      <td>2021-08-17 08:00:58</td>\n",
              "      <td>0</td>\n",
              "      <td>greentalk</td>\n",
              "      <td>excite join pricelessplanet coalition commit p...</td>\n",
              "      <td>2021-08-17 08:00:58</td>\n",
              "      <td>2021</td>\n",
              "      <td>8</td>\n",
              "      <td>8</td>\n",
              "      <td>0</td>\n",
              "    </tr>\n",
              "    <tr>\n",
              "      <th>2</th>\n",
              "      <td>2</td>\n",
              "      <td>1427533126084014087</td>\n",
              "      <td>Iten, Kenya</td>\n",
              "      <td>2021-08-17 07:29:54</td>\n",
              "      <td>6</td>\n",
              "      <td>drought</td>\n",
              "      <td>climate change negatively impact agricultural ...</td>\n",
              "      <td>2021-08-17 07:29:54</td>\n",
              "      <td>2021</td>\n",
              "      <td>8</td>\n",
              "      <td>7</td>\n",
              "      <td>29</td>\n",
              "    </tr>\n",
              "    <tr>\n",
              "      <th>3</th>\n",
              "      <td>3</td>\n",
              "      <td>1427531810662199313</td>\n",
              "      <td>Africa</td>\n",
              "      <td>2021-08-17 07:24:40</td>\n",
              "      <td>1</td>\n",
              "      <td>greentalk</td>\n",
              "      <td>enough even close let buckle climateaction mod...</td>\n",
              "      <td>2021-08-17 07:24:40</td>\n",
              "      <td>2021</td>\n",
              "      <td>8</td>\n",
              "      <td>7</td>\n",
              "      <td>24</td>\n",
              "    </tr>\n",
              "    <tr>\n",
              "      <th>4</th>\n",
              "      <td>4</td>\n",
              "      <td>1427526452623208453</td>\n",
              "      <td>Pacific North West</td>\n",
              "      <td>2021-08-17 07:03:23</td>\n",
              "      <td>0</td>\n",
              "      <td>floods</td>\n",
              "      <td>california need conservative propaganda save w...</td>\n",
              "      <td>2021-08-17 07:03:23</td>\n",
              "      <td>2021</td>\n",
              "      <td>8</td>\n",
              "      <td>7</td>\n",
              "      <td>3</td>\n",
              "    </tr>\n",
              "  </tbody>\n",
              "</table>\n",
              "</div>"
            ],
            "text/plain": [
              "   Unnamed: 0                   id              location  ... month  hour minute\n",
              "0           0  1427542334963605511         Naples, Italy  ...     8     8      6\n",
              "1           1  1427540945260720136  United Arab Emirates  ...     8     8      0\n",
              "2           2  1427533126084014087           Iten, Kenya  ...     8     7     29\n",
              "3           3  1427531810662199313               Africa   ...     8     7     24\n",
              "4           4  1427526452623208453    Pacific North West  ...     8     7      3\n",
              "\n",
              "[5 rows x 12 columns]"
            ]
          },
          "execution_count": 9,
          "metadata": {},
          "output_type": "execute_result"
        }
      ]
    },
    {
      "cell_type": "code",
      "metadata": {
        "colab": {
          "base_uri": "https://localhost:8080/"
        },
        "id": "9PYtz3VTmJvK",
        "outputId": "f71ab495-f226-4e74-e5c4-52dd86c7bda1"
      },
      "source": [
        "df.columns"
      ],
      "execution_count": null,
      "outputs": [
        {
          "data": {
            "text/plain": [
              "Index(['Unnamed: 0', 'id', 'location', 'created_at', 'retweet_count', 'class',\n",
              "       'clean_text', 'date', 'year', 'month', 'hour', 'minute'],\n",
              "      dtype='object')"
            ]
          },
          "execution_count": 10,
          "metadata": {},
          "output_type": "execute_result"
        }
      ]
    },
    {
      "cell_type": "code",
      "metadata": {
        "colab": {
          "base_uri": "https://localhost:8080/",
          "height": 302
        },
        "id": "wPWAKW_fnzcA",
        "outputId": "e2c22fb3-fdd6-4cfc-8aa4-58eb4fb7c928"
      },
      "source": [
        "df.head()"
      ],
      "execution_count": null,
      "outputs": [
        {
          "data": {
            "text/html": [
              "<div>\n",
              "<style scoped>\n",
              "    .dataframe tbody tr th:only-of-type {\n",
              "        vertical-align: middle;\n",
              "    }\n",
              "\n",
              "    .dataframe tbody tr th {\n",
              "        vertical-align: top;\n",
              "    }\n",
              "\n",
              "    .dataframe thead th {\n",
              "        text-align: right;\n",
              "    }\n",
              "</style>\n",
              "<table border=\"1\" class=\"dataframe\">\n",
              "  <thead>\n",
              "    <tr style=\"text-align: right;\">\n",
              "      <th></th>\n",
              "      <th>Unnamed: 0</th>\n",
              "      <th>id</th>\n",
              "      <th>location</th>\n",
              "      <th>created_at</th>\n",
              "      <th>retweet_count</th>\n",
              "      <th>class</th>\n",
              "      <th>clean_text</th>\n",
              "      <th>date</th>\n",
              "      <th>year</th>\n",
              "      <th>month</th>\n",
              "      <th>hour</th>\n",
              "      <th>minute</th>\n",
              "    </tr>\n",
              "  </thead>\n",
              "  <tbody>\n",
              "    <tr>\n",
              "      <th>0</th>\n",
              "      <td>0</td>\n",
              "      <td>1427542334963605511</td>\n",
              "      <td>Naples, Italy</td>\n",
              "      <td>2021-08-17 08:06:29</td>\n",
              "      <td>0</td>\n",
              "      <td>drought</td>\n",
              "      <td>wired climate change increase appearance viole...</td>\n",
              "      <td>2021-08-17 08:06:29</td>\n",
              "      <td>2021</td>\n",
              "      <td>8</td>\n",
              "      <td>8</td>\n",
              "      <td>6</td>\n",
              "    </tr>\n",
              "    <tr>\n",
              "      <th>1</th>\n",
              "      <td>1</td>\n",
              "      <td>1427540945260720136</td>\n",
              "      <td>United Arab Emirates</td>\n",
              "      <td>2021-08-17 08:00:58</td>\n",
              "      <td>0</td>\n",
              "      <td>greentalk</td>\n",
              "      <td>excite join pricelessplanet coalition commit p...</td>\n",
              "      <td>2021-08-17 08:00:58</td>\n",
              "      <td>2021</td>\n",
              "      <td>8</td>\n",
              "      <td>8</td>\n",
              "      <td>0</td>\n",
              "    </tr>\n",
              "    <tr>\n",
              "      <th>2</th>\n",
              "      <td>2</td>\n",
              "      <td>1427533126084014087</td>\n",
              "      <td>Iten, Kenya</td>\n",
              "      <td>2021-08-17 07:29:54</td>\n",
              "      <td>6</td>\n",
              "      <td>drought</td>\n",
              "      <td>climate change negatively impact agricultural ...</td>\n",
              "      <td>2021-08-17 07:29:54</td>\n",
              "      <td>2021</td>\n",
              "      <td>8</td>\n",
              "      <td>7</td>\n",
              "      <td>29</td>\n",
              "    </tr>\n",
              "    <tr>\n",
              "      <th>3</th>\n",
              "      <td>3</td>\n",
              "      <td>1427531810662199313</td>\n",
              "      <td>Africa</td>\n",
              "      <td>2021-08-17 07:24:40</td>\n",
              "      <td>1</td>\n",
              "      <td>greentalk</td>\n",
              "      <td>enough even close let buckle climateaction mod...</td>\n",
              "      <td>2021-08-17 07:24:40</td>\n",
              "      <td>2021</td>\n",
              "      <td>8</td>\n",
              "      <td>7</td>\n",
              "      <td>24</td>\n",
              "    </tr>\n",
              "    <tr>\n",
              "      <th>4</th>\n",
              "      <td>4</td>\n",
              "      <td>1427526452623208453</td>\n",
              "      <td>Pacific North West</td>\n",
              "      <td>2021-08-17 07:03:23</td>\n",
              "      <td>0</td>\n",
              "      <td>floods</td>\n",
              "      <td>california need conservative propaganda save w...</td>\n",
              "      <td>2021-08-17 07:03:23</td>\n",
              "      <td>2021</td>\n",
              "      <td>8</td>\n",
              "      <td>7</td>\n",
              "      <td>3</td>\n",
              "    </tr>\n",
              "  </tbody>\n",
              "</table>\n",
              "</div>"
            ],
            "text/plain": [
              "   Unnamed: 0                   id              location  ... month  hour minute\n",
              "0           0  1427542334963605511         Naples, Italy  ...     8     8      6\n",
              "1           1  1427540945260720136  United Arab Emirates  ...     8     8      0\n",
              "2           2  1427533126084014087           Iten, Kenya  ...     8     7     29\n",
              "3           3  1427531810662199313               Africa   ...     8     7     24\n",
              "4           4  1427526452623208453    Pacific North West  ...     8     7      3\n",
              "\n",
              "[5 rows x 12 columns]"
            ]
          },
          "execution_count": 11,
          "metadata": {},
          "output_type": "execute_result"
        }
      ]
    },
    {
      "cell_type": "code",
      "metadata": {
        "id": "I0i_3TGfoUGV"
      },
      "source": [
        "df.to_csv('clean classified data.csv')"
      ],
      "execution_count": null,
      "outputs": []
    },
    {
      "cell_type": "code",
      "metadata": {
        "id": "FC2nwWRk2lBT"
      },
      "source": [
        ""
      ],
      "execution_count": null,
      "outputs": []
    },
    {
      "cell_type": "code",
      "metadata": {
        "colab": {
          "base_uri": "https://localhost:8080/"
        },
        "id": "e0F0cSzKtLC9",
        "outputId": "a4bc3bff-e362-4bf8-dd4b-31cacfee0aad"
      },
      "source": [
        "df['class']"
      ],
      "execution_count": null,
      "outputs": [
        {
          "data": {
            "text/plain": [
              "0         drought\n",
              "1       greentalk\n",
              "2         drought\n",
              "3       greentalk\n",
              "4          floods\n",
              "          ...    \n",
              "5421      drought\n",
              "5422      drought\n",
              "5423      drought\n",
              "5424      drought\n",
              "5425      drought\n",
              "Name: class, Length: 5426, dtype: object"
            ]
          },
          "execution_count": 13,
          "metadata": {},
          "output_type": "execute_result"
        }
      ]
    },
    {
      "cell_type": "code",
      "metadata": {
        "id": "R8znjJJrxyky"
      },
      "source": [
        "from keras.preprocessing.text import Tokenizer\n",
        "tokenizer = Tokenizer()\n",
        "tokenizer.fit_on_texts(df['clean_text'])\n",
        "\n",
        "\n",
        "vocab_size = len(tokenizer.word_index) + 1  # Adding 1 because of reserved 0 index"
      ],
      "execution_count": null,
      "outputs": []
    },
    {
      "cell_type": "markdown",
      "metadata": {
        "id": "p_b8q01drwqY"
      },
      "source": [
        "EDA"
      ]
    },
    {
      "cell_type": "code",
      "metadata": {
        "colab": {
          "base_uri": "https://localhost:8080/",
          "height": 682
        },
        "id": "hUgLaDZVtvqn",
        "outputId": "f2e79146-933c-4630-f845-c1822a65bb2d"
      },
      "source": [
        "#check the class distriburion\n",
        "import seaborn as sns\n",
        "import matplotlib.pyplot as plt\n",
        "print(df['class'].value_counts())\n",
        "x=df['class'].value_counts()\n",
        "f, ax = plt.subplots(figsize=(10, 8))\n",
        "sns.barplot(x.index,x)\n",
        "plt.gca().set_ylabel('class size')"
      ],
      "execution_count": null,
      "outputs": [
        {
          "name": "stdout",
          "output_type": "stream",
          "text": [
            "renewable        2174\n",
            "drought          1120\n",
            "floods           1053\n",
            "air_polutants     439\n",
            "temperature       338\n",
            "greentalk         302\n",
            "Name: class, dtype: int64\n"
          ]
        },
        {
          "name": "stderr",
          "output_type": "stream",
          "text": [
            "/usr/local/lib/python3.7/dist-packages/seaborn/_decorators.py:43: FutureWarning: Pass the following variables as keyword args: x, y. From version 0.12, the only valid positional argument will be `data`, and passing other arguments without an explicit keyword will result in an error or misinterpretation.\n",
            "  FutureWarning\n"
          ]
        },
        {
          "data": {
            "text/plain": [
              "Text(0, 0.5, 'class size')"
            ]
          },
          "execution_count": 15,
          "metadata": {},
          "output_type": "execute_result"
        },
        {
          "data": {
            "image/png": "[encoded data removed]",
            "text/plain": [
              "<Figure size 720x576 with 1 Axes>"
            ]
          },
          "metadata": {},
          "output_type": "display_data"
        }
      ]
    },
    {
      "cell_type": "code",
      "metadata": {
        "id": "ZCbK2jmpn0j5"
      },
      "source": [
        "# from sklearn import preprocessing\n",
        "# le = preprocessing.LabelEncoder()\n",
        "# df['class1'] = le.fit_transform(df['class'])"
      ],
      "execution_count": null,
      "outputs": []
    },
    {
      "cell_type": "code",
      "metadata": {
        "colab": {
          "base_uri": "https://localhost:8080/"
        },
        "id": "QU70TjKjv3lP",
        "outputId": "560d8e62-2e2d-4cdb-fbbb-a4205596fec6"
      },
      "source": [
        "! pip install wordcloud"
      ],
      "execution_count": null,
      "outputs": [
        {
          "name": "stdout",
          "output_type": "stream",
          "text": [
            "Requirement already satisfied: wordcloud in /usr/local/lib/python3.7/dist-packages (1.5.0)\n",
            "Requirement already satisfied: pillow in /usr/local/lib/python3.7/dist-packages (from wordcloud) (7.1.2)\n",
            "Requirement already satisfied: numpy>=1.6.1 in /usr/local/lib/python3.7/dist-packages (from wordcloud) (1.19.5)\n"
          ]
        }
      ]
    },
    {
      "cell_type": "code",
      "metadata": {
        "id": "hPH--4DWv8T2"
      },
      "source": [
        "# from wordcloud import WordCloud\n",
        "# import matplotlib.pyplot as plt\n",
        "# wc = WordCloud()\n",
        "# wc.generate(df.clean_text)\n",
        "# plt.imshow(wc, interpolation=\"bilinear\")\n",
        "# plt.axis('off')\n",
        "# plt.show()"
      ],
      "execution_count": null,
      "outputs": []
    },
    {
      "cell_type": "markdown",
      "metadata": {
        "id": "z2e_PYE53wV0"
      },
      "source": [
        "## Dealing with class imbalance"
      ]
    },
    {
      "cell_type": "code",
      "metadata": {
        "id": "-IuflS2S3ya7"
      },
      "source": [
        "import tensorflow as tf\n",
        "import os\n",
        "import datetime\n",
        "import tensorflow_hub as hub\n",
        "from __future__ import absolute_import,division,print_function,unicode_literals"
      ],
      "execution_count": null,
      "outputs": []
    },
    {
      "cell_type": "code",
      "metadata": {
        "colab": {
          "base_uri": "https://localhost:8080/"
        },
        "id": "PNVobV773JYx",
        "outputId": "beb9478d-0dfc-4bab-a32a-9fb8179429b6"
      },
      "source": [
        "# Get the counts of the target classes\n",
        "df['class'].value_counts()"
      ],
      "execution_count": null,
      "outputs": [
        {
          "data": {
            "text/plain": [
              "renewable        2174\n",
              "drought          1120\n",
              "floods           1053\n",
              "air_polutants     439\n",
              "temperature       338\n",
              "greentalk         302\n",
              "Name: class, dtype: int64"
            ]
          },
          "execution_count": 20,
          "metadata": {},
          "output_type": "execute_result"
        }
      ]
    },
    {
      "cell_type": "code",
      "metadata": {
        "id": "SHRncDG-2qWF"
      },
      "source": [
        "# We split the dataset to train and test datasets, 80/20 split \n",
        "X_train,X_test,y_train,y_test=train_test_split(df,df[\"class\"],test_size=0.2,random_state=111,)"
      ],
      "execution_count": null,
      "outputs": []
    },
    {
      "cell_type": "markdown",
      "metadata": {
        "id": "HcUPYyEdCaNa"
      },
      "source": [
        "We are going to assign class weights to deal with imbalance. Due to the difference in each class, the algorithms tend to get biased towards the majority values present and don’t perform well on the minority values.\n",
        "\n",
        "The difference in weights will influence the classification of the classes during the training phase. The whole purpose is to penalize the misclassification made by the minority class by setting a higher class weight and at the same time reducing weight for the majority class. "
      ]
    },
    {
      "cell_type": "code",
      "metadata": {
        "id": "ge935DLv1yhm"
      },
      "source": [
        "# We compute classweights\n",
        "from sklearn.utils import class_weight\n",
        "class_weights=list(class_weight.compute_class_weight('balanced',np.unique(df['class']),df['class']))"
      ],
      "execution_count": null,
      "outputs": []
    },
    {
      "cell_type": "code",
      "metadata": {
        "colab": {
          "base_uri": "https://localhost:8080/"
        },
        "id": "wOTbFqws2dpk",
        "outputId": "5dbe309b-2103-43e5-a11f-54a78f3ecd5b"
      },
      "source": [
        "# We sort the class weights \n",
        "class_weights.sort()\n",
        "class_weights"
      ],
      "execution_count": null,
      "outputs": [
        {
          "data": {
            "text/plain": [
              "[0.4159766942655627,\n",
              " 0.8074404761904762,\n",
              " 0.8588160810383033,\n",
              " 2.0599848139711465,\n",
              " 2.675542406311637,\n",
              " 2.9944812362030904]"
            ]
          },
          "execution_count": 23,
          "metadata": {},
          "output_type": "execute_result"
        }
      ]
    },
    {
      "cell_type": "code",
      "metadata": {
        "id": "5eeOknj42grd"
      },
      "source": [
        "# we encode the target classes and assigning the class weights to each class index\n",
        "weights={}\n",
        "for index, weight in enumerate(class_weights):\n",
        "  weights[index]=weight"
      ],
      "execution_count": null,
      "outputs": []
    },
    {
      "cell_type": "code",
      "metadata": {
        "colab": {
          "base_uri": "https://localhost:8080/"
        },
        "id": "lN-OMfp43iTW",
        "outputId": "04051132-91de-494d-a7a9-af83983540af"
      },
      "source": [
        "weights"
      ],
      "execution_count": null,
      "outputs": [
        {
          "data": {
            "text/plain": [
              "{0: 0.4159766942655627,\n",
              " 1: 0.8074404761904762,\n",
              " 2: 0.8588160810383033,\n",
              " 3: 2.0599848139711465,\n",
              " 4: 2.675542406311637,\n",
              " 5: 2.9944812362030904}"
            ]
          },
          "execution_count": 25,
          "metadata": {},
          "output_type": "execute_result"
        }
      ]
    },
    {
      "cell_type": "code",
      "metadata": {
        "colab": {
          "base_uri": "https://localhost:8080/"
        },
        "id": "kL3jbvWq6jkz",
        "outputId": "09d735ea-b68a-46d6-8237-c979ebaea6d3"
      },
      "source": [
        "#  Check the columns\n",
        "df.columns"
      ],
      "execution_count": null,
      "outputs": [
        {
          "data": {
            "text/plain": [
              "Index(['Unnamed: 0', 'id', 'location', 'created_at', 'retweet_count', 'class',\n",
              "       'clean_text', 'date', 'year', 'month', 'hour', 'minute'],\n",
              "      dtype='object')"
            ]
          },
          "execution_count": 26,
          "metadata": {},
          "output_type": "execute_result"
        }
      ]
    },
    {
      "cell_type": "code",
      "metadata": {
        "id": "T8f-eC5t4GkN"
      },
      "source": [
        "# Coverting the datasets into tensors. We feed the input X value and product\n",
        "dataset_train=tf.data.Dataset.from_tensor_slices((X_train['clean_text'].values,X_train['class'].values))\n",
        "dataset_test=tf.data.Dataset.from_tensor_slices((X_test['clean_text'].values,X_test['class'].values))"
      ],
      "execution_count": null,
      "outputs": []
    },
    {
      "cell_type": "code",
      "metadata": {
        "id": "_J0REEtp6cAT"
      },
      "source": [
        "# Coverting the datasets into tensors. We feed the input X value and product\n",
        "dataset_train=tf.data.Dataset.from_tensor_slices((X_train['clean_text'].values,X_train['class'].values))\n",
        "dataset_test=tf.data.Dataset.from_tensor_slices((X_test['clean_text'].values,X_test['class'].values))"
      ],
      "execution_count": null,
      "outputs": []
    },
    {
      "cell_type": "code",
      "metadata": {
        "colab": {
          "base_uri": "https://localhost:8080/"
        },
        "id": "WkArLUej4lFc",
        "outputId": "9a16cbe4-c2a7-4065-952a-b31245c56930"
      },
      "source": [
        "# Print text and target columns\n",
        "for text, target in dataset_train.take(5):\n",
        "  print('Tweet:{},Target:{}'.format(text,target))\n",
        "print('************************')\n",
        "for text, target in dataset_test.take(5):\n",
        "  print('Tweet:{},Target:{}'.format(text,target))"
      ],
      "execution_count": null,
      "outputs": [
        {
          "name": "stdout",
          "output_type": "stream",
          "text": [
            "Tweet:b'sudair solar pv project capacity gw large saudi arabiaand top globallywhen https co zuhxt',Target:b'renewable'\n",
            "Tweet:b'provide harvest drought shortage',Target:b'drought'\n",
            "Tweet:b'nick hamman http co z rbdup solar solution',Target:b'renewable'\n",
            "Tweet:b'ca crisis bad dairy cattle industry kill animal urge ca help rancher trans https co vn l',Target:b'drought'\n",
            "Tweet:b'climate change combine overfishing threatens food security nation https co pt f zwb',Target:b'drought'\n",
            "************************\n",
            "Tweet:b'shift away fossil fuel take time analyst say imperative south africa accelerate https co sfjcbngwot',Target:b'air_polutants'\n",
            "Tweet:b'el ejido h mostly clear wind e gust temperature c humidity pressure http co q r gchj',Target:b'renewable'\n",
            "Tweet:b'renewablejobs hi please renewable energy system engineering graduate look job placement noble office',Target:b'renewable'\n",
            "Tweet:b'get caught flash flood bone still make alhamdulillah',Target:b'floods'\n",
            "Tweet:b'aramco join group build giant solar plant saudiarabia business oott \\xd8\\xa7\\xd9\\x84\\xd8\\xb3\\xd8\\xb9\\xd9\\x88\\xd8\\xaf\\xd9\\x8a\\xd8\\xa9 \\xd8\\xa7\\xd9\\x84\\xd9\\x82\\xd8\\xb7\\xd8\\xa7\\xd8\\xb9 \\xd8\\xa7\\xd9\\x84\\xd9\\x86\\xd9\\x81\\xd8\\xb7\\xd9\\x8a https co xocgytwsxv',Target:b'renewable'\n"
          ]
        }
      ]
    },
    {
      "cell_type": "code",
      "metadata": {
        "id": "b9m76O2f6LnI"
      },
      "source": [
        "# Convert target column from string to numerical using tensorflow lookup hash table\n",
        "table=tf.lookup.StaticHashTable(\n",
        "    initializer=tf.lookup.KeyValueTensorInitializer(\n",
        "        keys=tf.constant(['renewable','drought','floods','air_polutants','temperature','greentalk']),\n",
        "        values=tf.constant([0,1,2,3,4,5]),\n",
        "    ),\n",
        "    default_value=tf.constant(-1),\n",
        "    name='target_encoding'\n",
        ")\n",
        "@tf.function #converts regular python code to a callable Tensorflow graph function, \n",
        "              #which is usually more performant and python independent\n",
        "def target(x):\n",
        "  return table.lookup(x)"
      ],
      "execution_count": null,
      "outputs": []
    },
    {
      "cell_type": "code",
      "metadata": {
        "id": "sbvok71x7ipY"
      },
      "source": [
        "# Callable fi=unction that returns the class of text\n",
        "def show_batch(dataset,size=5):\n",
        "  for batch,label in dataset.take(size):\n",
        "    print(batch.numpy())\n",
        "    print(target(label).numpy())"
      ],
      "execution_count": null,
      "outputs": []
    },
    {
      "cell_type": "code",
      "metadata": {
        "colab": {
          "base_uri": "https://localhost:8080/"
        },
        "id": "fyHsKuPB79Iy",
        "outputId": "0610baaa-14fa-4d0e-8627-fb7caf3e2cdd"
      },
      "source": [
        "show_batch(dataset_test,5)"
      ],
      "execution_count": null,
      "outputs": [
        {
          "name": "stdout",
          "output_type": "stream",
          "text": [
            "b'shift away fossil fuel take time analyst say imperative south africa accelerate https co sfjcbngwot'\n",
            "3\n",
            "b'el ejido h mostly clear wind e gust temperature c humidity pressure http co q r gchj'\n",
            "0\n",
            "b'renewablejobs hi please renewable energy system engineering graduate look job placement noble office'\n",
            "0\n",
            "b'get caught flash flood bone still make alhamdulillah'\n",
            "2\n",
            "b'aramco join group build giant solar plant saudiarabia business oott \\xd8\\xa7\\xd9\\x84\\xd8\\xb3\\xd8\\xb9\\xd9\\x88\\xd8\\xaf\\xd9\\x8a\\xd8\\xa9 \\xd8\\xa7\\xd9\\x84\\xd9\\x82\\xd8\\xb7\\xd8\\xa7\\xd8\\xb9 \\xd8\\xa7\\xd9\\x84\\xd9\\x86\\xd9\\x81\\xd8\\xb7\\xd9\\x8a https co xocgytwsxv'\n",
            "0\n"
          ]
        }
      ]
    },
    {
      "cell_type": "markdown",
      "metadata": {
        "id": "ufdVFRTBHtR2"
      },
      "source": [
        "We can print n-rows of target column and their target classes"
      ]
    },
    {
      "cell_type": "code",
      "metadata": {
        "id": "U-xZiPwm_tvp"
      },
      "source": [
        "# Creating a fetch function to pass and return text value as is. Also we one encode the target value\n",
        "def fetch(text,labels):\n",
        "  return text,tf.one_hot(target(labels),6)"
      ],
      "execution_count": null,
      "outputs": []
    },
    {
      "cell_type": "code",
      "metadata": {
        "id": "abdNHVPBAFH8"
      },
      "source": [
        "\n",
        "# Map the fetch function to the train and test dataset \n",
        "train_data_f=dataset_train.map(fetch)\n",
        "test_data_f=dataset_test.map(fetch)"
      ],
      "execution_count": null,
      "outputs": []
    },
    {
      "cell_type": "code",
      "metadata": {
        "colab": {
          "base_uri": "https://localhost:8080/"
        },
        "id": "Ysw-fnsGAOd7",
        "outputId": "d60a6bad-cd64-4f1d-e8b0-6d545a0a5e7b"
      },
      "source": [
        "next(iter(train_data_f))"
      ],
      "execution_count": null,
      "outputs": [
        {
          "data": {
            "text/plain": [
              "(<tf.Tensor: shape=(), dtype=string, numpy=b'sudair solar pv project capacity gw large saudi arabiaand top globallywhen https co zuhxt'>,\n",
              " <tf.Tensor: shape=(6,), dtype=float32, numpy=array([1., 0., 0., 0., 0., 0.], dtype=float32)>)"
            ]
          },
          "execution_count": 35,
          "metadata": {},
          "output_type": "execute_result"
        }
      ]
    },
    {
      "cell_type": "code",
      "metadata": {
        "colab": {
          "base_uri": "https://localhost:8080/"
        },
        "id": "T3OBpE4RAZ5g",
        "outputId": "4c4ecf36-3a87-4649-ab0d-65878cdefead"
      },
      "source": [
        "# Creates batches of tensors in tensors\n",
        "train_data,train_labels=next(iter(train_data_f.batch(5)))\n",
        "train_data,train_labels"
      ],
      "execution_count": null,
      "outputs": [
        {
          "data": {
            "text/plain": [
              "(<tf.Tensor: shape=(5,), dtype=string, numpy=\n",
              " array([b'sudair solar pv project capacity gw large saudi arabiaand top globallywhen https co zuhxt',\n",
              "        b'provide harvest drought shortage',\n",
              "        b'nick hamman http co z rbdup solar solution',\n",
              "        b'ca crisis bad dairy cattle industry kill animal urge ca help rancher trans https co vn l',\n",
              "        b'climate change combine overfishing threatens food security nation https co pt f zwb'],\n",
              "       dtype=object)>, <tf.Tensor: shape=(5, 6), dtype=float32, numpy=\n",
              " array([[1., 0., 0., 0., 0., 0.],\n",
              "        [0., 1., 0., 0., 0., 0.],\n",
              "        [1., 0., 0., 0., 0., 0.],\n",
              "        [0., 1., 0., 0., 0., 0.],\n",
              "        [0., 1., 0., 0., 0., 0.]], dtype=float32)>)"
            ]
          },
          "execution_count": 36,
          "metadata": {},
          "output_type": "execute_result"
        }
      ]
    },
    {
      "cell_type": "code",
      "metadata": {
        "colab": {
          "base_uri": "https://localhost:8080/"
        },
        "id": "yZ8_T2hWBGeo",
        "outputId": "0072e853-a355-4a21-d67f-243324789de3"
      },
      "source": [
        "# Creating a embedding layer by using pretrained embedding layer to enable us to convert each word into a fixed length vector of defined size\n",
        "embedding='https://tfhub.dev/google/tf2-preview/nnlm-en-dim128/1'\n",
        "hub_layer=hub.KerasLayer(embedding,output_shape=[128],input_shape=[],\n",
        "                        dtype=tf.string,trainable=True)# The output shape is 128\n",
        "hub_layer(train_data[:1])"
      ],
      "execution_count": null,
      "outputs": [
        {
          "data": {
            "text/plain": [
              "<tf.Tensor: shape=(1, 128), dtype=float32, numpy=\n",
              "array([[-0.25857082, -0.03358521,  0.18653055, -0.2388049 ,  0.20501457,\n",
              "         0.02456775,  0.01860405, -0.13713637, -0.15329532,  0.2732744 ,\n",
              "        -0.01152269,  0.11092133,  0.09912161, -0.02110232,  0.06281215,\n",
              "        -0.12594002,  0.1148983 ,  0.0663828 ,  0.03998982, -0.00171762,\n",
              "        -0.02013695, -0.32855833,  0.241918  , -0.05570541,  0.03161884,\n",
              "        -0.1263835 ,  0.01395128,  0.1453646 , -0.05246278,  0.0376394 ,\n",
              "         0.17924018, -0.09233581, -0.02648976, -0.08710196, -0.1615573 ,\n",
              "        -0.03817734,  0.00301067,  0.02174203,  0.08918054,  0.04608176,\n",
              "        -0.07785966,  0.05985419, -0.11454432,  0.00988869, -0.03962754,\n",
              "        -0.07149867, -0.03534734, -0.06996195, -0.0205115 ,  0.04312464,\n",
              "        -0.11168173,  0.14624771, -0.18595003,  0.05579992, -0.14118056,\n",
              "         0.10367499,  0.00039232, -0.08509452,  0.11058893,  0.15159303,\n",
              "         0.04082303,  0.05383445, -0.05944769, -0.00292218, -0.02368171,\n",
              "        -0.17095673, -0.18154283, -0.15728997, -0.16145672,  0.10320096,\n",
              "        -0.11330827,  0.03041128,  0.05486048,  0.14527234,  0.23063229,\n",
              "        -0.13274434, -0.11686423, -0.00066918,  0.13102956,  0.04592453,\n",
              "        -0.1248507 , -0.01003877,  0.07213394, -0.08609978,  0.05800132,\n",
              "         0.10526196,  0.14900915,  0.03723019, -0.10247291,  0.12746762,\n",
              "         0.08326174,  0.06495475, -0.01037349, -0.14992169,  0.07368761,\n",
              "        -0.04471869, -0.09656353,  0.00138016, -0.19773738, -0.07089218,\n",
              "         0.1181704 , -0.10866934, -0.07099373,  0.08950526,  0.0801029 ,\n",
              "         0.06911752,  0.1141372 ,  0.13427627, -0.07219838, -0.17703938,\n",
              "         0.05560631,  0.0335758 , -0.07615109,  0.10846982, -0.01213316,\n",
              "         0.07598332, -0.02914759, -0.26070395,  0.00935286, -0.08546145,\n",
              "         0.05015494,  0.03130832, -0.01807312, -0.05070389, -0.09517396,\n",
              "         0.08177037, -0.00171732, -0.09362337]], dtype=float32)>"
            ]
          },
          "execution_count": 37,
          "metadata": {},
          "output_type": "execute_result"
        }
      ]
    },
    {
      "cell_type": "code",
      "metadata": {
        "colab": {
          "base_uri": "https://localhost:8080/"
        },
        "id": "BITcisXQDNMT",
        "outputId": "1632dad0-163e-4620-a751-3b9ab9c54bc3"
      },
      "source": [
        "# We create a keras sequential model.\n",
        "# Sequential groups a linear stack of layers into a tf.keras.Model.\n",
        "# Sequential provides training and inference features on this model.\n",
        "\n",
        "model=tf.keras.Sequential()\n",
        "model.add(hub_layer)\n",
        "for units in [128,128,64,32]:\n",
        "  model.add(tf.keras.layers.Dense(units,activation='relu'))\n",
        "  model.add(tf.keras.layers.Dropout(0.3))\n",
        "\n",
        "# We specify the output as 6 predicted values \n",
        "model.add(tf.keras.layers.Dense(6,activation='softmax'))\n",
        "\n",
        "model.summary()"
      ],
      "execution_count": null,
      "outputs": [
        {
          "name": "stdout",
          "output_type": "stream",
          "text": [
            "Model: \"sequential\"\n",
            "_________________________________________________________________\n",
            "Layer (type)                 Output Shape              Param #   \n",
            "=================================================================\n",
            "keras_layer (KerasLayer)     (None, 128)               124642688 \n",
            "_________________________________________________________________\n",
            "dense (Dense)                (None, 128)               16512     \n",
            "_________________________________________________________________\n",
            "dropout (Dropout)            (None, 128)               0         \n",
            "_________________________________________________________________\n",
            "dense_1 (Dense)              (None, 128)               16512     \n",
            "_________________________________________________________________\n",
            "dropout_1 (Dropout)          (None, 128)               0         \n",
            "_________________________________________________________________\n",
            "dense_2 (Dense)              (None, 64)                8256      \n",
            "_________________________________________________________________\n",
            "dropout_2 (Dropout)          (None, 64)                0         \n",
            "_________________________________________________________________\n",
            "dense_3 (Dense)              (None, 32)                2080      \n",
            "_________________________________________________________________\n",
            "dropout_3 (Dropout)          (None, 32)                0         \n",
            "_________________________________________________________________\n",
            "dense_4 (Dense)              (None, 6)                 198       \n",
            "=================================================================\n",
            "Total params: 124,686,246\n",
            "Trainable params: 124,686,246\n",
            "Non-trainable params: 0\n",
            "_________________________________________________________________\n"
          ]
        }
      ]
    },
    {
      "cell_type": "code",
      "metadata": {
        "colab": {
          "base_uri": "https://localhost:8080/",
          "height": 303,
          "referenced_widgets": [
            "a066fb55c9524c60854d00fc1e351d5a",
            "0a3a13592c6146b2ab98740d0ef70cdc",
            "c3fca37a96b644d5a130ce76325d3606",
            "5af5773e03734ab79f4284e71532cdd4",
            "4a9c58a11163423eb0688f488e9209b4",
            "342939c8bace4b17a739eadf5f8861e3",
            "113797584c2a482590299f2ae3f68aa8",
            "5ef7d7089ccc4f6a8cb9e2fa93da04c8"
          ]
        },
        "id": "KI4C3PBWVL4M",
        "outputId": "ec5988ba-a80e-43a4-e0ce-2d4b35f1c196"
      },
      "source": [
        "# Initialize wandb with your project name\n",
        "run = wandb.init(project='my-keras-integration',\n",
        "                 config={  # and include hyperparameters and metadata\n",
        "                     \"learning_rate\": 0.005,\n",
        "                     \"epochs\": 5,\n",
        "                     \"batch_size\": 64,\n",
        "                     \"loss_function\": \"categorical_crossentropy\",\n",
        "                     \"architecture\": \"RNN\",\n",
        "                     \"dataset\": \"df\"\n",
        "                     })"
      ],
      "execution_count": null,
      "outputs": [
        {
          "data": {
            "text/html": [
              "Finishing last run (ID:yri39vsj) before initializing another..."
            ],
            "text/plain": [
              "<IPython.core.display.HTML object>"
            ]
          },
          "metadata": {},
          "output_type": "display_data"
        },
        {
          "data": {
            "text/html": [
              "<br/>Waiting for W&B process to finish, PID 175<br/>Program ended successfully."
            ],
            "text/plain": [
              "<IPython.core.display.HTML object>"
            ]
          },
          "metadata": {},
          "output_type": "display_data"
        },
        {
          "data": {
            "application/vnd.jupyter.widget-view+json": {
              "model_id": "a066fb55c9524c60854d00fc1e351d5a",
              "version_major": 2,
              "version_minor": 0
            },
            "text/plain": [
              "VBox(children=(Label(value=' 0.00MB of 0.00MB uploaded (0.00MB deduped)\\r'), FloatProgress(value=1.0, max=1.0)…"
            ]
          },
          "metadata": {},
          "output_type": "display_data"
        },
        {
          "data": {
            "text/html": [
              "Find user logs for this run at: <code>/content/wandb/run-20210819_045615-yri39vsj/logs/debug.log</code>"
            ],
            "text/plain": [
              "<IPython.core.display.HTML object>"
            ]
          },
          "metadata": {},
          "output_type": "display_data"
        },
        {
          "data": {
            "text/html": [
              "Find internal logs for this run at: <code>/content/wandb/run-20210819_045615-yri39vsj/logs/debug-internal.log</code>"
            ],
            "text/plain": [
              "<IPython.core.display.HTML object>"
            ]
          },
          "metadata": {},
          "output_type": "display_data"
        },
        {
          "data": {
            "text/html": [
              "Synced 5 W&B file(s), 0 media file(s), 0 artifact file(s) and 0 other file(s)"
            ],
            "text/plain": [
              "<IPython.core.display.HTML object>"
            ]
          },
          "metadata": {},
          "output_type": "display_data"
        },
        {
          "data": {
            "text/html": [
              "\n",
              "                    <br/>Synced <strong style=\"color:#cdcd00\">rich-forest-26</strong>: <a href=\"https://wandb.ai/kanoak/Climate%20change/runs/yri39vsj\" target=\"_blank\">https://wandb.ai/kanoak/Climate%20change/runs/yri39vsj</a><br/>\n",
              "                "
            ],
            "text/plain": [
              "<IPython.core.display.HTML object>"
            ]
          },
          "metadata": {},
          "output_type": "display_data"
        },
        {
          "data": {
            "text/html": [
              "...Successfully finished last run (ID:yri39vsj). Initializing new run:<br/><br/>"
            ],
            "text/plain": [
              "<IPython.core.display.HTML object>"
            ]
          },
          "metadata": {},
          "output_type": "display_data"
        },
        {
          "data": {
            "text/html": [
              "\n",
              "                Tracking run with wandb version 0.12.0<br/>\n",
              "                Syncing run <strong style=\"color:#cdcd00\">autumn-plant-15</strong> to <a href=\"https://wandb.ai\" target=\"_blank\">Weights & Biases</a> <a href=\"https://docs.wandb.com/integrations/jupyter.html\" target=\"_blank\">(Documentation)</a>.<br/>\n",
              "                Project page: <a href=\"https://wandb.ai/kanoak/my-keras-integration\" target=\"_blank\">https://wandb.ai/kanoak/my-keras-integration</a><br/>\n",
              "                Run page: <a href=\"https://wandb.ai/kanoak/my-keras-integration/runs/31lnx328\" target=\"_blank\">https://wandb.ai/kanoak/my-keras-integration/runs/31lnx328</a><br/>\n",
              "                Run data is saved locally in <code>/content/wandb/run-20210819_045636-31lnx328</code><br/><br/>\n",
              "            "
            ],
            "text/plain": [
              "<IPython.core.display.HTML object>"
            ]
          },
          "metadata": {},
          "output_type": "display_data"
        }
      ]
    },
    {
      "cell_type": "code",
      "metadata": {
        "colab": {
          "base_uri": "https://localhost:8080/"
        },
        "id": "uw12IBRVEHzA",
        "outputId": "c8297e1a-2474-4f73-fb6b-09ca6a4e00f2"
      },
      "source": [
        "# We compile using adam optimizer\n",
        "config = wandb.config  # We'll use this to configure our experiment\n",
        "tf.keras.backend.clear_session()\n",
        "\n",
        "model.summary()\n",
        "model.compile(optimizer=tf.keras.optimizers.Adam(config.learning_rate),\n",
        "              loss=tf.keras.losses.CategoricalCrossentropy(from_logits=True),\n",
        "              metrics=['accuracy'])\n"
      ],
      "execution_count": null,
      "outputs": [
        {
          "name": "stdout",
          "output_type": "stream",
          "text": [
            "Model: \"sequential\"\n",
            "_________________________________________________________________\n",
            "Layer (type)                 Output Shape              Param #   \n",
            "=================================================================\n",
            "keras_layer (KerasLayer)     (None, 128)               124642688 \n",
            "_________________________________________________________________\n",
            "dense (Dense)                (None, 128)               16512     \n",
            "_________________________________________________________________\n",
            "dropout (Dropout)            (None, 128)               0         \n",
            "_________________________________________________________________\n",
            "dense_1 (Dense)              (None, 128)               16512     \n",
            "_________________________________________________________________\n",
            "dropout_1 (Dropout)          (None, 128)               0         \n",
            "_________________________________________________________________\n",
            "dense_2 (Dense)              (None, 64)                8256      \n",
            "_________________________________________________________________\n",
            "dropout_2 (Dropout)          (None, 64)                0         \n",
            "_________________________________________________________________\n",
            "dense_3 (Dense)              (None, 32)                2080      \n",
            "_________________________________________________________________\n",
            "dropout_3 (Dropout)          (None, 32)                0         \n",
            "_________________________________________________________________\n",
            "dense_4 (Dense)              (None, 6)                 198       \n",
            "=================================================================\n",
            "Total params: 124,686,246\n",
            "Trainable params: 124,686,246\n",
            "Non-trainable params: 0\n",
            "_________________________________________________________________\n"
          ]
        }
      ]
    },
    {
      "cell_type": "markdown",
      "metadata": {
        "id": "GpVvvzQYMCYV"
      },
      "source": [
        "We will evaluate the model using different metrics"
      ]
    },
    {
      "cell_type": "code",
      "metadata": {
        "id": "nGWJkJQsEc70"
      },
      "source": [
        "# We shuffle and train the train and test data\n",
        "train_data_f=train_data_f.shuffle(70000).batch(512)\n",
        "test_data_f=test_data_f.batch(512)"
      ],
      "execution_count": null,
      "outputs": []
    },
    {
      "cell_type": "code",
      "metadata": {
        "id": "V5wiY50UQMkS"
      },
      "source": [
        "# Create a copy of our model\n",
        "model2=model"
      ],
      "execution_count": null,
      "outputs": []
    },
    {
      "cell_type": "code",
      "metadata": {
        "colab": {
          "background_save": true,
          "base_uri": "https://localhost:8080/"
        },
        "id": "gSUYh7EzEuAj",
        "outputId": "43f82846-9246-4a64-be0a-1fda0c39a0b2"
      },
      "source": [
        "# we train the data using 10 epochs and using class weights. bias is therefore introduced to the model and computed.\n",
        "# we will perform checks to ensure each class performs well\n",
        "history=model.fit(train_data_f,epochs=10,\n",
        "                  validation_data=test_data_f, class_weight=weights,\n",
        "                  verbose=1)"
      ],
      "execution_count": null,
      "outputs": [
        {
          "name": "stdout",
          "output_type": "stream",
          "text": [
            "Epoch 1/10\n"
          ]
        },
        {
          "name": "stderr",
          "output_type": "stream",
          "text": [
            "/usr/local/lib/python3.7/dist-packages/keras/backend.py:4847: UserWarning: \"`categorical_crossentropy` received `from_logits=True`, but the `output` argument was produced by a sigmoid or softmax activation and thus does not represent logits. Was this intended?\"\n",
            "  '\"`categorical_crossentropy` received `from_logits=True`, but '\n"
          ]
        },
        {
          "name": "stdout",
          "output_type": "stream",
          "text": [
            "9/9 [==============================] - 16s 2s/step - loss: 1.7883 - accuracy: 0.2071 - val_loss: 1.7405 - val_accuracy: 0.4365\n",
            "Epoch 2/10\n",
            "9/9 [==============================] - 13s 1s/step - loss: 1.7434 - accuracy: 0.2788 - val_loss: 1.6402 - val_accuracy: 0.5497\n",
            "Epoch 3/10\n",
            "9/9 [==============================] - 13s 1s/step - loss: 1.6445 - accuracy: 0.3565 - val_loss: 1.4455 - val_accuracy: 0.6289\n",
            "Epoch 4/10\n",
            "9/9 [==============================] - 15s 2s/step - loss: 1.4715 - accuracy: 0.4541 - val_loss: 1.1580 - val_accuracy: 0.6998\n",
            "Epoch 5/10\n",
            "9/9 [==============================] - 13s 1s/step - loss: 1.2158 - accuracy: 0.5781 - val_loss: 0.9005 - val_accuracy: 0.7606\n",
            "Epoch 6/10\n",
            "9/9 [==============================] - 14s 1s/step - loss: 0.9493 - accuracy: 0.6737 - val_loss: 0.7155 - val_accuracy: 0.7956\n",
            "Epoch 7/10\n",
            "9/9 [==============================] - 13s 1s/step - loss: 0.7035 - accuracy: 0.7654 - val_loss: 0.6097 - val_accuracy: 0.8168\n",
            "Epoch 8/10\n",
            "9/9 [==============================] - 13s 1s/step - loss: 0.5129 - accuracy: 0.8412 - val_loss: 0.5879 - val_accuracy: 0.8297\n",
            "Epoch 9/10\n",
            "9/9 [==============================] - 13s 1s/step - loss: 0.4005 - accuracy: 0.8783 - val_loss: 0.5677 - val_accuracy: 0.8352\n",
            "Epoch 10/10\n",
            "9/9 [==============================] - 13s 1s/step - loss: 0.2752 - accuracy: 0.9191 - val_loss: 0.5834 - val_accuracy: 0.8425\n"
          ]
        }
      ]
    },
    {
      "cell_type": "markdown",
      "metadata": {
        "id": "WFgh_G1AM_h5"
      },
      "source": [
        "The  metrics after the 10th epoch/ loss: 0.2752 - accuracy: 0.9191 - val_loss: 0.5834 - val_accuracy: 0.8425\n",
        "The model is performing well"
      ]
    },
    {
      "cell_type": "code",
      "metadata": {
        "colab": {
          "background_save": true,
          "referenced_widgets": [
            "49581fdf78ef4b1f8702865dfe477301"
          ]
        },
        "id": "LQLGlj5-_R9m",
        "outputId": "8aef3c37-0cd9-4d60-a1fb-d40ed42a0a06"
      },
      "source": [
        "loss, accuracy = model.evaluate(dataset_test.map(fetch).batch(1121),verbose=2)\n",
        "print('Test Error Rate: ', round((1 - accuracy) * 100, 2))\n",
        "\n",
        "# With wandb.log, we can easily pass in metrics as key-value pairs.\n",
        "wandb.log({'Test Error Rate': round((1 - accuracy) * 100, 2)})\n",
        "\n",
        "run.join()"
      ],
      "execution_count": null,
      "outputs": [
        {
          "name": "stdout",
          "output_type": "stream",
          "text": [
            "1/1 - 0s - loss: 0.5834 - accuracy: 0.8425\n",
            "Test Error Rate:  15.75\n"
          ]
        },
        {
          "data": {
            "text/html": [
              "<br/>Waiting for W&B process to finish, PID 1602<br/>Program ended successfully."
            ],
            "text/plain": [
              "<IPython.core.display.HTML object>"
            ]
          },
          "metadata": {},
          "output_type": "display_data"
        },
        {
          "data": {
            "application/vnd.jupyter.widget-view+json": {
              "model_id": "49581fdf78ef4b1f8702865dfe477301",
              "version_major": 2,
              "version_minor": 0
            },
            "text/plain": [
              "VBox(children=(Label(value=' 475.67MB of 475.67MB uploaded (0.00MB deduped)\\r'), FloatProgress(value=1.0, max=…"
            ]
          },
          "metadata": {},
          "output_type": "display_data"
        },
        {
          "data": {
            "text/html": [
              "Find user logs for this run at: <code>/content/wandb/run-20210819_054931-s5hbyq8c/logs/debug.log</code>"
            ],
            "text/plain": [
              "<IPython.core.display.HTML object>"
            ]
          },
          "metadata": {},
          "output_type": "display_data"
        },
        {
          "data": {
            "text/html": [
              "Find internal logs for this run at: <code>/content/wandb/run-20210819_054931-s5hbyq8c/logs/debug-internal.log</code>"
            ],
            "text/plain": [
              "<IPython.core.display.HTML object>"
            ]
          },
          "metadata": {},
          "output_type": "display_data"
        },
        {
          "data": {
            "text/html": [
              "<h3>Run summary:</h3><br/><style>\n",
              "    table.wandb td:nth-child(1) { padding: 0 10px; text-align: right }\n",
              "    </style><table class=\"wandb\">\n",
              "<tr><td>epoch</td><td>9</td></tr><tr><td>loss</td><td>0.27521</td></tr><tr><td>accuracy</td><td>0.91912</td></tr><tr><td>val_loss</td><td>0.58338</td></tr><tr><td>val_accuracy</td><td>0.84254</td></tr><tr><td>_runtime</td><td>225</td></tr><tr><td>_timestamp</td><td>1629352400</td></tr><tr><td>_step</td><td>10</td></tr><tr><td>best_val_loss</td><td>0.56766</td></tr><tr><td>best_epoch</td><td>8</td></tr><tr><td>Test Error Rate</td><td>15.75</td></tr></table>"
            ],
            "text/plain": [
              "<IPython.core.display.HTML object>"
            ]
          },
          "metadata": {},
          "output_type": "display_data"
        },
        {
          "data": {
            "text/html": [
              "<h3>Run history:</h3><br/><style>\n",
              "    table.wandb td:nth-child(1) { padding: 0 10px; text-align: right }\n",
              "    </style><table class=\"wandb\">\n",
              "<tr><td>epoch</td><td>▁▂▃▃▄▅▆▆▇█</td></tr><tr><td>loss</td><td>██▇▇▅▄▃▂▂▁</td></tr><tr><td>accuracy</td><td>▁▂▂▃▅▆▆▇██</td></tr><tr><td>val_loss</td><td>█▇▆▅▃▂▁▁▁▁</td></tr><tr><td>val_accuracy</td><td>▁▃▄▆▇▇████</td></tr><tr><td>_runtime</td><td>▁▂▃▄▄▅▆▇▇██</td></tr><tr><td>_timestamp</td><td>▁▂▃▄▄▅▆▇▇██</td></tr><tr><td>_step</td><td>▁▂▂▃▄▅▅▆▇▇█</td></tr><tr><td>Test Error Rate</td><td>▁</td></tr></table><br/>"
            ],
            "text/plain": [
              "<IPython.core.display.HTML object>"
            ]
          },
          "metadata": {},
          "output_type": "display_data"
        },
        {
          "data": {
            "text/html": [
              "Synced 5 W&B file(s), 1 media file(s), 0 artifact file(s) and 1 other file(s)"
            ],
            "text/plain": [
              "<IPython.core.display.HTML object>"
            ]
          },
          "metadata": {},
          "output_type": "display_data"
        },
        {
          "data": {
            "text/html": [
              "\n",
              "                    <br/>Synced <strong style=\"color:#cdcd00\">unique-tree-18</strong>: <a href=\"https://wandb.ai/kanoak/my-keras-integration/runs/s5hbyq8c\" target=\"_blank\">https://wandb.ai/kanoak/my-keras-integration/runs/s5hbyq8c</a><br/>\n",
              "                "
            ],
            "text/plain": [
              "<IPython.core.display.HTML object>"
            ]
          },
          "metadata": {},
          "output_type": "display_data"
        }
      ]
    },
    {
      "cell_type": "code",
      "metadata": {
        "colab": {
          "background_save": true
        },
        "id": "OS2CIbANE-uM",
        "outputId": "e27f66b9-7b68-4f07-c92f-a3f99147b611"
      },
      "source": [
        "# check the length of the test dataset\n",
        "len(list(dataset_test))\n",
        "\n"
      ],
      "execution_count": null,
      "outputs": [
        {
          "data": {
            "text/plain": [
              "1086"
            ]
          },
          "execution_count": null,
          "metadata": {},
          "output_type": "execute_result"
        }
      ]
    },
    {
      "cell_type": "code",
      "metadata": {
        "colab": {
          "background_save": true
        },
        "id": "YczDI9h3FQ0I",
        "outputId": "d0f55903-d606-4516-cbd7-05d54f4fb01e"
      },
      "source": [
        "# craete a batch of the dataset and pass the model through entire dataset\n",
        "results=model.evaluate(dataset_test.map(fetch).batch(1121),verbose=2)\n",
        "print(results)\n",
        "\n",
        "# we pass model through the test data and map the fetch function.\n",
        "test_data,test_labels=next(iter(dataset_test.map(fetch).batch(10000)))\n",
        "# Predict the target class\n",
        "y_pred=model.predict(test_data)\n",
        "# Check the model performance using classification and confusion matrix\n",
        "print(classification_report(test_labels.numpy().argmax(axis=1),y_pred.argmax(axis=1)))"
      ],
      "execution_count": null,
      "outputs": [
        {
          "name": "stdout",
          "output_type": "stream",
          "text": [
            "1/1 - 1s - loss: 0.5834 - accuracy: 0.8425\n",
            "[0.5833842158317566, 0.8425414562225342]\n",
            "              precision    recall  f1-score   support\n",
            "\n",
            "           0       0.93      0.87      0.90       452\n",
            "           1       0.90      0.87      0.89       217\n",
            "           2       0.83      0.86      0.85       210\n",
            "           3       0.62      0.72      0.67        80\n",
            "           4       0.81      0.78      0.79        64\n",
            "           5       0.55      0.73      0.63        63\n",
            "\n",
            "    accuracy                           0.84      1086\n",
            "   macro avg       0.77      0.81      0.79      1086\n",
            "weighted avg       0.85      0.84      0.85      1086\n",
            "\n"
          ]
        }
      ]
    },
    {
      "cell_type": "markdown",
      "metadata": {
        "id": "xFkoDNf9Nzqc"
      },
      "source": [
        "The accuracy of the model is 83%"
      ]
    },
    {
      "cell_type": "code",
      "metadata": {
        "colab": {
          "background_save": true
        },
        "id": "g-t7lfKwFvPl"
      },
      "source": [
        "# we pass model through the test data and map the fetch function.\n",
        "test_data,test_labels=next(iter(dataset_test.map(fetch).batch(10000)))\n"
      ],
      "execution_count": null,
      "outputs": []
    },
    {
      "cell_type": "code",
      "metadata": {
        "colab": {
          "background_save": true
        },
        "id": "y2q7Zj7CFqUG",
        "outputId": "bb483f61-723c-4050-f0db-b0f9e80809a8"
      },
      "source": [
        "# Predict the target class\n",
        "y_pred=model.predict(test_data)\n",
        "# Check the model performance using classification and confusion matrix\n",
        "print(classification_report(test_labels.numpy().argmax(axis=1),y_pred.argmax(axis=1)))"
      ],
      "execution_count": null,
      "outputs": [
        {
          "name": "stdout",
          "output_type": "stream",
          "text": [
            "              precision    recall  f1-score   support\n",
            "\n",
            "           0       0.93      0.87      0.90       452\n",
            "           1       0.90      0.87      0.89       217\n",
            "           2       0.83      0.86      0.85       210\n",
            "           3       0.62      0.72      0.67        80\n",
            "           4       0.81      0.78      0.79        64\n",
            "           5       0.55      0.73      0.63        63\n",
            "\n",
            "    accuracy                           0.84      1086\n",
            "   macro avg       0.77      0.81      0.79      1086\n",
            "weighted avg       0.85      0.84      0.85      1086\n",
            "\n"
          ]
        }
      ]
    },
    {
      "cell_type": "code",
      "metadata": {
        "colab": {
          "background_save": true
        },
        "id": "oachM-6WGy7C"
      },
      "source": [
        "from sklearn.metrics import classification_report"
      ],
      "execution_count": null,
      "outputs": []
    },
    {
      "cell_type": "code",
      "metadata": {
        "colab": {
          "background_save": true
        },
        "id": "OqDMASvaGeXF",
        "outputId": "328e03c9-f3ce-49f6-f396-6ce00608ed09"
      },
      "source": [
        "# Check the model performance using classification and confusion matrix\n",
        "print(classification_report(test_labels.numpy().argmax(axis=1),y_pred.argmax(axis=1)))"
      ],
      "execution_count": null,
      "outputs": [
        {
          "name": "stdout",
          "output_type": "stream",
          "text": [
            "              precision    recall  f1-score   support\n",
            "\n",
            "           0       0.93      0.87      0.90       452\n",
            "           1       0.90      0.87      0.89       217\n",
            "           2       0.83      0.86      0.85       210\n",
            "           3       0.62      0.72      0.67        80\n",
            "           4       0.81      0.78      0.79        64\n",
            "           5       0.55      0.73      0.63        63\n",
            "\n",
            "    accuracy                           0.84      1086\n",
            "   macro avg       0.77      0.81      0.79      1086\n",
            "weighted avg       0.85      0.84      0.85      1086\n",
            "\n"
          ]
        }
      ]
    },
    {
      "cell_type": "code",
      "metadata": {
        "colab": {
          "background_save": true
        },
        "id": "rbD4QqoDQ1qW",
        "outputId": "2bb88159-d3c2-41ba-fcb0-06d6192b5a0e"
      },
      "source": [
        "from sklearn.metrics import confusion_matrix\n",
        "confusion_matrix(test_labels.numpy().argmax(axis=1),y_pred.argmax(axis=1))"
      ],
      "execution_count": null,
      "outputs": [
        {
          "data": {
            "text/plain": [
              "array([[391,   5,  21,  20,   2,  13],\n",
              "       [  7, 189,   9,   2,   4,   6],\n",
              "       [  4,   7, 181,   7,   3,   8],\n",
              "       [  6,   6,   2,  58,   1,   7],\n",
              "       [  5,   2,   3,   1,  50,   3],\n",
              "       [  7,   0,   2,   6,   2,  46]])"
            ]
          },
          "execution_count": null,
          "metadata": {},
          "output_type": "execute_result"
        }
      ]
    },
    {
      "cell_type": "markdown",
      "metadata": {
        "id": "bTIQqEW78Ruq"
      },
      "source": [
        "The accuracy is accuracy score is 84%, "
      ]
    },
    {
      "cell_type": "markdown",
      "metadata": {
        "id": "n10G3F-EOdAS"
      },
      "source": [
        "## Challenging the solution\n",
        "We will model our data without using class weights"
      ]
    },
    {
      "cell_type": "code",
      "metadata": {
        "colab": {
          "background_save": true
        },
        "id": "-xAZKLjdQZ5U"
      },
      "source": [
        "# we train the data using 10 epochs and without using class weights\n",
        "# we will perform checks to ensure each class performs well\n",
        "weightless=model2.fit(train_data_f,epochs=10,\n",
        "                  validation_data=test_data_f,\n",
        "                  verbose=1)\n",
        "# check the length of the test dataset\n",
        "len(list(dataset_test))\n",
        "# craete a batch of the dataset and pass the model through entire dataset\n",
        "result=model2.evaluate(dataset_test.map(fetch).batch(1121),verbose=2)\n",
        "print(result)\n",
        "\n",
        "# we pass model through the test data and map the fetch function.\n",
        "test_data,test_labels=next(iter(dataset_test.map(fetch).batch(10000)))\n",
        "# Predict the target class\n",
        "y_pred=model2.predict(test_data)\n"
      ],
      "execution_count": null,
      "outputs": []
    },
    {
      "cell_type": "code",
      "metadata": {
        "colab": {
          "background_save": true
        },
        "id": "LpaU9XCP-7zR"
      },
      "source": [
        "# Check the model performance using classification and confusion matrix\n",
        "print(classification_report(test_labels.numpy().argmax(axis=1),y_pred.argmax(axis=1)))\n",
        "print('\\n')\n",
        "confusion_matrix(test_labels.numpy().argmax(axis=1),y_pred.argmax(axis=1))"
      ],
      "execution_count": null,
      "outputs": []
    }
  ]
}